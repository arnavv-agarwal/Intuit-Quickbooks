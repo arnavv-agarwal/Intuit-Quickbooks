{
 "cells": [
  {
   "cell_type": "markdown",
   "metadata": {},
   "source": [
    "# Intuit QuickBook"
   ]
  },
  {
   "cell_type": "markdown",
   "metadata": {},
   "source": [
    "### INTRODUCTION"
   ]
  },
  {
   "cell_type": "markdown",
   "metadata": {},
   "source": [
    "QuickBooks is an accounting software package developed and marketed by Intuit. The key event took place in 1995 with release of Version 3 of QuickBooks. QuickBooks products are geared mainly toward small and medium-sized businesses and offer on-premises accounting applications. Although, the products at that time could only be purchased through Intuit Direct (i.e., delivery by mail) or through “brick-and-mortar” retailers like Best Buy.\n",
    "Through this exercise, we do a detailed analysis of modeling the response to an upselling campaign by using testing and predictive analysis to target the \"right\" customers. "
   ]
  },
  {
   "cell_type": "code",
   "execution_count": 1,
   "metadata": {},
   "outputs": [],
   "source": [
    "import numpy as np\n",
    "import pandas as pd\n",
    "import pyrsm as rsm\n",
    "import seaborn as sns\n",
    "import scipy.stats as stats\n",
    "import statsmodels.api as sm\n",
    "import statsmodels.stats as sms\n",
    "#import matplotlib as mpl\n",
    "import matplotlib.pyplot as plt\n",
    "import statsmodels.formula.api as smf\n",
    "from sklearn import preprocessing\n",
    "from statsmodels.genmod.families import Binomial\n",
    "from statsmodels.genmod.families.links import logit\n",
    "from sklearn.inspection import permutation_importance\n",
    "from sklearn.neural_network import MLPClassifier\n"
   ]
  },
  {
   "cell_type": "code",
   "execution_count": 2,
   "metadata": {},
   "outputs": [
    {
     "data": {
      "text/html": [
       "<div>\n",
       "<style scoped>\n",
       "    .dataframe tbody tr th:only-of-type {\n",
       "        vertical-align: middle;\n",
       "    }\n",
       "\n",
       "    .dataframe tbody tr th {\n",
       "        vertical-align: top;\n",
       "    }\n",
       "\n",
       "    .dataframe thead th {\n",
       "        text-align: right;\n",
       "    }\n",
       "</style>\n",
       "<table border=\"1\" class=\"dataframe\">\n",
       "  <thead>\n",
       "    <tr style=\"text-align: right;\">\n",
       "      <th></th>\n",
       "      <th>id</th>\n",
       "      <th>zip</th>\n",
       "      <th>zip_bins</th>\n",
       "      <th>sex</th>\n",
       "      <th>bizflag</th>\n",
       "      <th>numords</th>\n",
       "      <th>dollars</th>\n",
       "      <th>last</th>\n",
       "      <th>sincepurch</th>\n",
       "      <th>version1</th>\n",
       "      <th>owntaxprod</th>\n",
       "      <th>upgraded</th>\n",
       "      <th>res1</th>\n",
       "      <th>training</th>\n",
       "      <th>res1_yes</th>\n",
       "    </tr>\n",
       "  </thead>\n",
       "  <tbody>\n",
       "    <tr>\n",
       "      <th>0</th>\n",
       "      <td>1</td>\n",
       "      <td>94553</td>\n",
       "      <td>18</td>\n",
       "      <td>Male</td>\n",
       "      <td>0</td>\n",
       "      <td>2</td>\n",
       "      <td>109.5</td>\n",
       "      <td>5</td>\n",
       "      <td>12</td>\n",
       "      <td>0</td>\n",
       "      <td>0</td>\n",
       "      <td>0</td>\n",
       "      <td>No</td>\n",
       "      <td>1</td>\n",
       "      <td>0</td>\n",
       "    </tr>\n",
       "    <tr>\n",
       "      <th>1</th>\n",
       "      <td>2</td>\n",
       "      <td>53190</td>\n",
       "      <td>10</td>\n",
       "      <td>Unknown</td>\n",
       "      <td>0</td>\n",
       "      <td>1</td>\n",
       "      <td>69.5</td>\n",
       "      <td>4</td>\n",
       "      <td>3</td>\n",
       "      <td>0</td>\n",
       "      <td>0</td>\n",
       "      <td>0</td>\n",
       "      <td>No</td>\n",
       "      <td>0</td>\n",
       "      <td>0</td>\n",
       "    </tr>\n",
       "    <tr>\n",
       "      <th>2</th>\n",
       "      <td>3</td>\n",
       "      <td>37091</td>\n",
       "      <td>8</td>\n",
       "      <td>Male</td>\n",
       "      <td>0</td>\n",
       "      <td>4</td>\n",
       "      <td>93.0</td>\n",
       "      <td>14</td>\n",
       "      <td>29</td>\n",
       "      <td>0</td>\n",
       "      <td>0</td>\n",
       "      <td>1</td>\n",
       "      <td>No</td>\n",
       "      <td>0</td>\n",
       "      <td>0</td>\n",
       "    </tr>\n",
       "    <tr>\n",
       "      <th>3</th>\n",
       "      <td>4</td>\n",
       "      <td>02125</td>\n",
       "      <td>1</td>\n",
       "      <td>Male</td>\n",
       "      <td>0</td>\n",
       "      <td>1</td>\n",
       "      <td>22.0</td>\n",
       "      <td>17</td>\n",
       "      <td>1</td>\n",
       "      <td>0</td>\n",
       "      <td>0</td>\n",
       "      <td>0</td>\n",
       "      <td>No</td>\n",
       "      <td>1</td>\n",
       "      <td>0</td>\n",
       "    </tr>\n",
       "    <tr>\n",
       "      <th>4</th>\n",
       "      <td>5</td>\n",
       "      <td>60201</td>\n",
       "      <td>11</td>\n",
       "      <td>Male</td>\n",
       "      <td>0</td>\n",
       "      <td>1</td>\n",
       "      <td>24.5</td>\n",
       "      <td>2</td>\n",
       "      <td>3</td>\n",
       "      <td>0</td>\n",
       "      <td>0</td>\n",
       "      <td>0</td>\n",
       "      <td>No</td>\n",
       "      <td>0</td>\n",
       "      <td>0</td>\n",
       "    </tr>\n",
       "  </tbody>\n",
       "</table>\n",
       "</div>"
      ],
      "text/plain": [
       "   id    zip  zip_bins      sex  bizflag  numords  dollars  last  sincepurch  \\\n",
       "0   1  94553        18     Male        0        2    109.5     5          12   \n",
       "1   2  53190        10  Unknown        0        1     69.5     4           3   \n",
       "2   3  37091         8     Male        0        4     93.0    14          29   \n",
       "3   4  02125         1     Male        0        1     22.0    17           1   \n",
       "4   5  60201        11     Male        0        1     24.5     2           3   \n",
       "\n",
       "   version1  owntaxprod  upgraded res1  training  res1_yes  \n",
       "0         0           0         0   No         1         0  \n",
       "1         0           0         0   No         0         0  \n",
       "2         0           0         1   No         0         0  \n",
       "3         0           0         0   No         1         0  \n",
       "4         0           0         0   No         0         0  "
      ]
     },
     "execution_count": 2,
     "metadata": {},
     "output_type": "execute_result"
    }
   ],
   "source": [
    "## loading the data - this dataset must NOT be changed\n",
    "intuit75k = pd.read_pickle(\"data/intuit75k.pkl\")\n",
    "intuit75k[\"res1_yes\"] = rsm.ifelse(intuit75k.res1 == \"Yes\", 1, 0)\n",
    "intuit75k.head()"
   ]
  },
  {
   "cell_type": "code",
   "execution_count": 3,
   "metadata": {},
   "outputs": [
    {
     "data": {
      "text/markdown": [
       "## Intuit: Quickbooks upgrade\n",
       "\n",
       "The purpose of this exercise is to gain experience modeling the response to an upsell campaign. The `intuit75k.rds` file contains data on 75,000 (small) businesses that were selected randomly from the 801,821 that were sent the wave-1 mailing. The mailing contained an offer to upgrade to the latest version of the Quickbooks software. \n",
       "\n",
       "Variable `res1` denotes which of these businesses responded to the mailing by purchasing Quickbooks version 3.0 from Intuit Direct. Note that Intuit Direct sells products directly to its customers rather than through a retailer. Use the available data to predict which businesses that did not respond to the wave-1 mailing, are most likely to respond to the wave-2 mailing. Note that variables were added, deleted, and recoded so please ignore the variable descriptions in Exhibit 3 in the case in the course reader. Instead, use the variable descriptions below:\n",
       "\n",
       "## Variable description\n",
       "\n",
       "* id: Small business customer ID\n",
       "* zip: 5-Digit ZIP Code (00000=unknown, 99999=international ZIPs).\n",
       "* zip_bins: Zip-code bins (20 approx. equal sized bins from lowest to highest zip code number)\n",
       "* sex: \"Female\", \"Male\", or \"Unknown\"\n",
       "* bizflag: Business Flag.  Address contains a Business name (1 = yes, 0 = no or unknown).\n",
       "* numords: Number of orders from Intuit Direct in the previous 36 months\n",
       "* dollars: Total $ ordered from Intuit Direct in the previous 36 months\n",
       "* last: Time (in months) since last order from Intuit Direct in previous 36 months\n",
       "* sincepurch: Time (in months) since original (not upgrade) purchase of Quickbooks\n",
       "* version1: Is 1 if customer's current Quickbooks is version 1, 0 if version 2\n",
       "* owntaxprod: Is 1 if customer purchased tax software, 0 otherwise\n",
       "* upgraded: Is 1 if customer upgraded from Quickbooks vs. 1 to vs. 2\n",
       "* res1: Response to wave 1 mailing (\"Yes\" if responded else \"No\")\n",
       "* training: 70/30 split, 1 for training sample, 0 for validation sample\n"
      ],
      "text/plain": [
       "<IPython.core.display.Markdown object>"
      ]
     },
     "metadata": {},
     "output_type": "display_data"
    }
   ],
   "source": [
    "# show dataset description\n",
    "rsm.describe(intuit75k)"
   ]
  },
  {
   "cell_type": "code",
   "execution_count": 4,
   "metadata": {},
   "outputs": [
    {
     "data": {
      "text/html": [
       "<div>\n",
       "<style scoped>\n",
       "    .dataframe tbody tr th:only-of-type {\n",
       "        vertical-align: middle;\n",
       "    }\n",
       "\n",
       "    .dataframe tbody tr th {\n",
       "        vertical-align: top;\n",
       "    }\n",
       "\n",
       "    .dataframe thead th {\n",
       "        text-align: right;\n",
       "    }\n",
       "</style>\n",
       "<table border=\"1\" class=\"dataframe\">\n",
       "  <thead>\n",
       "    <tr style=\"text-align: right;\">\n",
       "      <th></th>\n",
       "      <th>id</th>\n",
       "      <th>zip</th>\n",
       "      <th>zip_bins</th>\n",
       "      <th>sex</th>\n",
       "      <th>bizflag</th>\n",
       "      <th>numords</th>\n",
       "      <th>dollars</th>\n",
       "      <th>last</th>\n",
       "      <th>sincepurch</th>\n",
       "      <th>version1</th>\n",
       "      <th>owntaxprod</th>\n",
       "      <th>upgraded</th>\n",
       "      <th>res1</th>\n",
       "      <th>training</th>\n",
       "      <th>res1_yes</th>\n",
       "    </tr>\n",
       "  </thead>\n",
       "  <tbody>\n",
       "    <tr>\n",
       "      <th>0</th>\n",
       "      <td>1</td>\n",
       "      <td>94553</td>\n",
       "      <td>18</td>\n",
       "      <td>Male</td>\n",
       "      <td>0</td>\n",
       "      <td>2</td>\n",
       "      <td>109.5</td>\n",
       "      <td>5</td>\n",
       "      <td>12</td>\n",
       "      <td>0</td>\n",
       "      <td>0</td>\n",
       "      <td>0</td>\n",
       "      <td>No</td>\n",
       "      <td>1</td>\n",
       "      <td>0</td>\n",
       "    </tr>\n",
       "    <tr>\n",
       "      <th>3</th>\n",
       "      <td>4</td>\n",
       "      <td>02125</td>\n",
       "      <td>1</td>\n",
       "      <td>Male</td>\n",
       "      <td>0</td>\n",
       "      <td>1</td>\n",
       "      <td>22.0</td>\n",
       "      <td>17</td>\n",
       "      <td>1</td>\n",
       "      <td>0</td>\n",
       "      <td>0</td>\n",
       "      <td>0</td>\n",
       "      <td>No</td>\n",
       "      <td>1</td>\n",
       "      <td>0</td>\n",
       "    </tr>\n",
       "    <tr>\n",
       "      <th>5</th>\n",
       "      <td>6</td>\n",
       "      <td>12309</td>\n",
       "      <td>3</td>\n",
       "      <td>Male</td>\n",
       "      <td>0</td>\n",
       "      <td>1</td>\n",
       "      <td>20.0</td>\n",
       "      <td>17</td>\n",
       "      <td>17</td>\n",
       "      <td>0</td>\n",
       "      <td>0</td>\n",
       "      <td>1</td>\n",
       "      <td>No</td>\n",
       "      <td>1</td>\n",
       "      <td>0</td>\n",
       "    </tr>\n",
       "    <tr>\n",
       "      <th>7</th>\n",
       "      <td>8</td>\n",
       "      <td>55122</td>\n",
       "      <td>11</td>\n",
       "      <td>Male</td>\n",
       "      <td>1</td>\n",
       "      <td>1</td>\n",
       "      <td>24.5</td>\n",
       "      <td>4</td>\n",
       "      <td>17</td>\n",
       "      <td>1</td>\n",
       "      <td>0</td>\n",
       "      <td>0</td>\n",
       "      <td>No</td>\n",
       "      <td>1</td>\n",
       "      <td>0</td>\n",
       "    </tr>\n",
       "    <tr>\n",
       "      <th>9</th>\n",
       "      <td>10</td>\n",
       "      <td>20036</td>\n",
       "      <td>5</td>\n",
       "      <td>Male</td>\n",
       "      <td>0</td>\n",
       "      <td>3</td>\n",
       "      <td>73.5</td>\n",
       "      <td>10</td>\n",
       "      <td>9</td>\n",
       "      <td>0</td>\n",
       "      <td>0</td>\n",
       "      <td>0</td>\n",
       "      <td>No</td>\n",
       "      <td>1</td>\n",
       "      <td>0</td>\n",
       "    </tr>\n",
       "  </tbody>\n",
       "</table>\n",
       "</div>"
      ],
      "text/plain": [
       "   id    zip  zip_bins   sex  bizflag  numords  dollars  last  sincepurch  \\\n",
       "0   1  94553        18  Male        0        2    109.5     5          12   \n",
       "3   4  02125         1  Male        0        1     22.0    17           1   \n",
       "5   6  12309         3  Male        0        1     20.0    17          17   \n",
       "7   8  55122        11  Male        1        1     24.5     4          17   \n",
       "9  10  20036         5  Male        0        3     73.5    10           9   \n",
       "\n",
       "   version1  owntaxprod  upgraded res1  training  res1_yes  \n",
       "0         0           0         0   No         1         0  \n",
       "3         0           0         0   No         1         0  \n",
       "5         0           0         1   No         1         0  \n",
       "7         1           0         0   No         1         0  \n",
       "9         0           0         0   No         1         0  "
      ]
     },
     "execution_count": 4,
     "metadata": {},
     "output_type": "execute_result"
    }
   ],
   "source": [
    "intuit75k_training = intuit75k[intuit75k['training'] == 1]\n",
    "intuit75k_training.head()"
   ]
  },
  {
   "cell_type": "code",
   "execution_count": 5,
   "metadata": {},
   "outputs": [
    {
     "data": {
      "text/plain": [
       "0    50002\n",
       "1     2498\n",
       "Name: res1_yes, dtype: int64"
      ]
     },
     "execution_count": 5,
     "metadata": {},
     "output_type": "execute_result"
    }
   ],
   "source": [
    "intuit75k_training[\"res1_yes\"].value_counts()"
   ]
  },
  {
   "cell_type": "markdown",
   "metadata": {},
   "source": [
    "#### Percentage of customers responded (i.e., bought anything)"
   ]
  },
  {
   "cell_type": "code",
   "execution_count": 6,
   "metadata": {},
   "outputs": [
    {
     "data": {
      "text/plain": [
       "'4.76%'"
      ]
     },
     "execution_count": 6,
     "metadata": {},
     "output_type": "execute_result"
    }
   ],
   "source": [
    "## Percentage of people who bought the version 3\n",
    "perc_yes_train = str(round((intuit75k_training[\"res1_yes\"].value_counts()[1]/len(intuit75k_training))*100,2)) + '%'\n",
    "perc_yes_train"
   ]
  },
  {
   "cell_type": "markdown",
   "metadata": {},
   "source": [
    "#### Create independent quintile variables for recency, frequency and monetary"
   ]
  },
  {
   "cell_type": "code",
   "execution_count": 7,
   "metadata": {},
   "outputs": [],
   "source": [
    "intuit75k = intuit75k.assign(rec_iq = rsm.xtile(intuit75k['last'], 5))\n",
    "intuit75k = intuit75k.assign(freq_iq = rsm.xtile(intuit75k['numords'], 5, rev = True))\n",
    "intuit75k = intuit75k.assign(mon_iq = rsm.xtile(intuit75k['dollars'], 5, rev = True))"
   ]
  },
  {
   "cell_type": "markdown",
   "metadata": {},
   "source": [
    "RFM is a widely used technique for doing analysis that uses data based on existing customer behaviour to predict how a new customer is likely to act in the future. This is built using three key factors - Recency - Frequency - Monetary (RFM), selecting significant customers and dividing them into different groups based on similarities found on this variables and past behavioral data. \n",
    "\n",
    "- Recency(R) is the number of days since the customer's last purchase. \n",
    "- Frequency(F) is the number of times the customer has made a purchase. \n",
    "- Monetary (M) is the total amount spent by the customer in the same period. \n",
    "\n",
    "RFM analysis enables marketers to increase revenue by targeting specific groups of existing customers (customer segmentation) by doing comparison between found segregation on the factors described above. It gives a sense of how much revenue comes from repeat customers (versus new customers). Each variable aims to segregate in 5 different bins\n",
    "\n",
    "- Recency: Bin 1 depicts the customers that were most recent and bin 5 depicts the least recent.\n",
    "- Frequency: Bin 1 depicts the customers that were more frequently made purchases and bin 5 depicts the least frequent.\n",
    "- Monetary: Bin 1 depicts the customers that have spent the most amount and bin 5 depicts the ones that spent the least."
   ]
  },
  {
   "cell_type": "markdown",
   "metadata": {},
   "source": [
    "#### Create bar charts showing the response rate (i.e., the proportion of customers who bought something) for this deal per (independent) recency, frequency, and monetary quintile "
   ]
  },
  {
   "cell_type": "code",
   "execution_count": 8,
   "metadata": {},
   "outputs": [
    {
     "data": {
      "image/png": "[encoded data removed]",
      "text/plain": [
       "<Figure size 432x288 with 1 Axes>"
      ]
     },
     "metadata": {
      "needs_background": "light"
     },
     "output_type": "display_data"
    }
   ],
   "source": [
    "fig1 = rsm.prop_plot(intuit75k[intuit75k['training']==1], \"rec_iq\", \"res1\", \"Yes\")\n",
    "fig1 = fig1.set_xlabel(\"Recency value quintiles (rec_iq)\")"
   ]
  },
  {
   "cell_type": "markdown",
   "metadata": {},
   "source": [
    "Recency Chart : The above graph depicts the proportion of customers who responded \"yes\" to waive 1 mail that was send out, per independent recency. The customers in bin 1 had the highest response rate from the mail sent out as opposed to ones in bin 5. It shows that the response rate from the top quintile (20% group) was 9.00%, while the next quintile responded at a rate of ~5.4%. The last quintile had a response rate of ~2.3%. \n",
    "\n",
    "This graph shows that the recency factor has a constant downgrade at every level on the probability of purchasing the latest upgrade offer thru email. Although we can appreciate the biggest drop from bin1 to bin2, which would elevate the predictive probabilities to the group that pertains in bin1 the most."
   ]
  },
  {
   "cell_type": "code",
   "execution_count": 9,
   "metadata": {},
   "outputs": [
    {
     "data": {
      "image/png": "[encoded data removed]",
      "text/plain": [
       "<Figure size 432x288 with 1 Axes>"
      ]
     },
     "metadata": {
      "needs_background": "light"
     },
     "output_type": "display_data"
    }
   ],
   "source": [
    "fig2 = rsm.prop_plot(intuit75k[intuit75k['training']==1], \"freq_iq\", \"res1\", \"Yes\")\n",
    "fig2 = fig2.set_xlabel(\"Frequency value quintiles (freq_iq)\")"
   ]
  },
  {
   "cell_type": "markdown",
   "metadata": {},
   "source": [
    "Frequency Chart : The above graph depicts the proportion of customers who responded \"yes\" to waive 1 mail that was send out, per independent frequency. The customers in bin 1 had the highest frequency rate from the mail sent out as opposed to ones in bin 5. The customers in bin 1 had the highest response rate from the mail sent out as opposed to ones in bin 5. It shows that the response rate from the top quintile (20% group) was 8.00%, while the next quintile responded at a rate of 5.00%. The last quintile had a response rate of ~3.3%. \n",
    "\n",
    "This graph shows that the frequency factor has a drop of almost half from bin1 to bin2 on the probability of purchasing the latest upgrade offer thru email. Although it keeps downgrading from bin2 through bin5, not much drop is seen, meaning that in this case segmentation on bin1 will have a clearer advantage difference compare to the rest.\n",
    "\n",
    "Additionally we see that bin4 is skipped in this case, that is due to the fact that the amount of IDs found among bin3 and beyond were not enough to be scalable with the first two bins."
   ]
  },
  {
   "cell_type": "code",
   "execution_count": 10,
   "metadata": {},
   "outputs": [
    {
     "data": {
      "image/png": "[encoded data removed]",
      "text/plain": [
       "<Figure size 432x288 with 1 Axes>"
      ]
     },
     "metadata": {
      "needs_background": "light"
     },
     "output_type": "display_data"
    }
   ],
   "source": [
    "fig3 = rsm.prop_plot(intuit75k[intuit75k['training']==1], \"mon_iq\", \"res1\", \"Yes\")\n",
    "fig3 = fig3.set_xlabel(\"Monetary value quintiles (mon_iq)\")"
   ]
  },
  {
   "cell_type": "markdown",
   "metadata": {},
   "source": [
    "Monetory Chart : The above graph depicts the proportion of customers who responded \"yes\" to waive 1 mail that was send out, per independent monetory. The customers in bin 1 had the highest expenditure rate from the mail sent out as opposed to ones in bin 5. It shows that the response rate from the top quintile (20% group) was 7.00%, while the next quintile responded at a rate of 4.5%. The last quintile had a response rate of 3.2%. \n",
    "\n",
    "This graph shows that the monetary factor has again the most significant drop between bin1 and bin2. Then from bin2 through bin5 we appreciate a consant downgrade but with not much difference between them. Therefore segregation on bin1 will have the most probability of purchasing the latest upgrade thru email and with not much difference on the rest of the segmentations."
   ]
  },
  {
   "cell_type": "markdown",
   "metadata": {},
   "source": [
    "#### Generate Independent RFM index "
   ]
  },
  {
   "cell_type": "markdown",
   "metadata": {},
   "source": [
    "To perform RFM analysis, we bin the customers using Independent or Sequential Method. \n",
    "In independent method, the ranks of RFM are assigned independently. The interpretation of each rank becomes unambiguous. The monetory value of a bin 4 in 234 is interpreted the same way as that in 114. This is one advantage of interpretting the bin values in independent approach. One disadvantage of this approach is that incase of less samples, it can result in a less even distribution of the combined RFM scores i.e the quantities of customers in the RFM cells might be quite different."
   ]
  },
  {
   "cell_type": "code",
   "execution_count": 11,
   "metadata": {},
   "outputs": [],
   "source": [
    "intuit75k = intuit75k.assign(\n",
    "    rfm_iq=intuit75k.rec_iq.astype(str)\n",
    "    + intuit75k.freq_iq.astype(str)\n",
    "    + intuit75k.mon_iq.astype(str)\n",
    ")"
   ]
  },
  {
   "cell_type": "code",
   "execution_count": 12,
   "metadata": {},
   "outputs": [
    {
     "data": {
      "image/png": "[encoded data removed]",
      "text/plain": [
       "<Figure size 1152x504 with 1 Axes>"
      ]
     },
     "metadata": {
      "needs_background": "light"
     },
     "output_type": "display_data"
    }
   ],
   "source": [
    "plt.figure(figsize=(16, 7))\n",
    "# fig = rsm.prop_plot(bbb, \"rfm_iq\", \"buyer\", \"yes\", breakeven=breakeven)\n",
    "fig = rsm.prop_plot(intuit75k, \"rfm_iq\", \"res1\", \"Yes\")\n",
    "fig.set_xticklabels(fig.get_xticklabels(), rotation=90)\n",
    "fig = fig.set(xlabel=\"Independent RFM index (rfm_iq)\")"
   ]
  },
  {
   "cell_type": "markdown",
   "metadata": {},
   "source": [
    "RFM analysis depends on recency, frequency and monetary measures, but the real power of this technique comes from combining them into a three digit RFM \"cell code\". Hence, we now put all the customers in bins of 3 digits (555, 554, 553, 552, 551, 545,...down to 111). There are 125 different \"cells\" in all. \n",
    "\n",
    "We can observe that there are few bins with no customers in them like bin number 315 and 515. This is due to the nature of the customers in such bins. A customer in 515 is bound to be the least recent but more frequent and frugal in expenditure. Such a customer is generally very hard to find."
   ]
  },
  {
   "cell_type": "code",
   "execution_count": 13,
   "metadata": {},
   "outputs": [
    {
     "data": {
      "text/plain": [
       "0.0235"
      ]
     },
     "execution_count": 13,
     "metadata": {},
     "output_type": "execute_result"
    }
   ],
   "source": [
    "# state your assumptions relevant to calculate the breakeven response rate\n",
    "# breakeven should be of type `float`\n",
    "\n",
    "cost = 1.41 # each mail piece costs $1.41\n",
    "margin = 60  # the margin (or net revenue) from each responder, excluding the mailing cost, is $60\n",
    "breakeven =  cost/margin # float, length 1\n",
    "\n",
    "breakeven"
   ]
  },
  {
   "cell_type": "code",
   "execution_count": 14,
   "metadata": {},
   "outputs": [
    {
     "data": {
      "image/png": "[encoded data removed]",
      "text/plain": [
       "<Figure size 1152x504 with 1 Axes>"
      ]
     },
     "metadata": {
      "needs_background": "light"
     },
     "output_type": "display_data"
    }
   ],
   "source": [
    "plt.figure(figsize=(16, 7))\n",
    "fig_rfm_iq = rsm.prop_plot(intuit75k, \"rfm_iq\", \"res1\", \"Yes\", breakeven = breakeven)\n",
    "fig_rfm_iq.set_xticklabels(fig_rfm_iq.get_xticklabels(), rotation=90)\n",
    "fig_rfm_iq = fig_rfm_iq.set(xlabel=\"Independent RFM index (rsm_iq)\")"
   ]
  },
  {
   "cell_type": "markdown",
   "metadata": {},
   "source": [
    "Now, we calculate a breakeven point to further modify the customers we will be targetting. We will only send mails to those who's response rate lies above the breakeven point. Break even means that the net revenue (profit) from sales to members of the cell exactly paid for the cost of mailing to the cell members.\n",
    "\n",
    "Given, \n",
    "each mail piece costs 1.41 usd\n",
    "the margin (or net revenue) from each responder, excluding the mailing cost, is 60 usd\n",
    "So, breakeven =  cost/margin\n",
    "\n",
    "The graph above shows that we should be targetting only the customers in independent bins who lie above our breakeven point of 0.023 for the company to remain in profit."
   ]
  },
  {
   "cell_type": "markdown",
   "metadata": {},
   "source": [
    "#### Generate sequential quintiles"
   ]
  },
  {
   "cell_type": "markdown",
   "metadata": {},
   "source": [
    "To further modify the RFM analysis, we use sequential method to assign the ranks of RFM in order. In this method, first the Recency values are assigned. Then within each recency rank, customers are assigned a frequency rank, and within each frequency rank, customer are then assigned a monetary rank. This tends to take into account all the three factors in each bin value and hence provide a better even distribution of combined RFM scores. Hence the advantage of this method is that the numbe of customers in each RFM cell is approximately the same for all cells. The disadvantage is that the meaning of Frequecy and Monetory where the bins are same holds different meaning i.e. a customer with 234 and another with 534 will depict quite a different behaviour from eachother. Their frequency and monetory value might be different even though they have the same scores for them. "
   ]
  },
  {
   "cell_type": "code",
   "execution_count": 15,
   "metadata": {},
   "outputs": [
    {
     "data": {
      "image/png": "[encoded data removed]",
      "text/plain": [
       "<Figure size 432x288 with 1 Axes>"
      ]
     },
     "metadata": {
      "needs_background": "light"
     },
     "output_type": "display_data"
    }
   ],
   "source": [
    "intuit75k = intuit75k.assign(\n",
    "    freq_sq=intuit75k.groupby(\"rec_iq\").numords.transform(rsm.xtile, 5, rev=True)\n",
    ")\n",
    "fig_8 = rsm.prop_plot(intuit75k, \"freq_sq\", \"res1\", \"Yes\")"
   ]
  },
  {
   "cell_type": "code",
   "execution_count": 16,
   "metadata": {
    "scrolled": true
   },
   "outputs": [
    {
     "data": {
      "image/png": "[encoded data removed]",
      "text/plain": [
       "<Figure size 432x288 with 1 Axes>"
      ]
     },
     "metadata": {
      "needs_background": "light"
     },
     "output_type": "display_data"
    }
   ],
   "source": [
    "intuit75k = intuit75k.assign(\n",
    "    mon_sq=intuit75k.groupby([\"rec_iq\", \"freq_sq\"]).dollars.transform(rsm.xtile, 5, rev=True)\n",
    ")\n",
    "fig_9 = rsm.prop_plot(intuit75k, \"mon_sq\", \"res1\", \"Yes\")"
   ]
  },
  {
   "cell_type": "markdown",
   "metadata": {},
   "source": [
    "Sequential model creates nested binning, a simple rank is assigned to recency values, which in this case t=is the same recency binning that we did in Independent RFM. However, in sequential, within each recency rank, customers are then assigned a frequency rank  and within each frequency rank, customers are assigned a monetary rank as depiceted above."
   ]
  },
  {
   "cell_type": "code",
   "execution_count": 17,
   "metadata": {},
   "outputs": [
    {
     "data": {
      "text/html": [
       "<div>\n",
       "<style scoped>\n",
       "    .dataframe tbody tr th:only-of-type {\n",
       "        vertical-align: middle;\n",
       "    }\n",
       "\n",
       "    .dataframe tbody tr th {\n",
       "        vertical-align: top;\n",
       "    }\n",
       "\n",
       "    .dataframe thead th {\n",
       "        text-align: right;\n",
       "    }\n",
       "</style>\n",
       "<table border=\"1\" class=\"dataframe\">\n",
       "  <thead>\n",
       "    <tr style=\"text-align: right;\">\n",
       "      <th></th>\n",
       "      <th>id</th>\n",
       "      <th>zip</th>\n",
       "      <th>zip_bins</th>\n",
       "      <th>sex</th>\n",
       "      <th>bizflag</th>\n",
       "      <th>numords</th>\n",
       "      <th>dollars</th>\n",
       "      <th>last</th>\n",
       "      <th>sincepurch</th>\n",
       "      <th>version1</th>\n",
       "      <th>...</th>\n",
       "      <th>res1</th>\n",
       "      <th>training</th>\n",
       "      <th>res1_yes</th>\n",
       "      <th>rec_iq</th>\n",
       "      <th>freq_iq</th>\n",
       "      <th>mon_iq</th>\n",
       "      <th>rfm_iq</th>\n",
       "      <th>freq_sq</th>\n",
       "      <th>mon_sq</th>\n",
       "      <th>rfm_sq</th>\n",
       "    </tr>\n",
       "  </thead>\n",
       "  <tbody>\n",
       "    <tr>\n",
       "      <th>0</th>\n",
       "      <td>1</td>\n",
       "      <td>94553</td>\n",
       "      <td>18</td>\n",
       "      <td>Male</td>\n",
       "      <td>0</td>\n",
       "      <td>2</td>\n",
       "      <td>109.5</td>\n",
       "      <td>5</td>\n",
       "      <td>12</td>\n",
       "      <td>0</td>\n",
       "      <td>...</td>\n",
       "      <td>No</td>\n",
       "      <td>1</td>\n",
       "      <td>0</td>\n",
       "      <td>1</td>\n",
       "      <td>3</td>\n",
       "      <td>2</td>\n",
       "      <td>132</td>\n",
       "      <td>4</td>\n",
       "      <td>2</td>\n",
       "      <td>142</td>\n",
       "    </tr>\n",
       "    <tr>\n",
       "      <th>1</th>\n",
       "      <td>2</td>\n",
       "      <td>53190</td>\n",
       "      <td>10</td>\n",
       "      <td>Unknown</td>\n",
       "      <td>0</td>\n",
       "      <td>1</td>\n",
       "      <td>69.5</td>\n",
       "      <td>4</td>\n",
       "      <td>3</td>\n",
       "      <td>0</td>\n",
       "      <td>...</td>\n",
       "      <td>No</td>\n",
       "      <td>0</td>\n",
       "      <td>0</td>\n",
       "      <td>1</td>\n",
       "      <td>5</td>\n",
       "      <td>3</td>\n",
       "      <td>153</td>\n",
       "      <td>5</td>\n",
       "      <td>2</td>\n",
       "      <td>152</td>\n",
       "    </tr>\n",
       "    <tr>\n",
       "      <th>2</th>\n",
       "      <td>3</td>\n",
       "      <td>37091</td>\n",
       "      <td>8</td>\n",
       "      <td>Male</td>\n",
       "      <td>0</td>\n",
       "      <td>4</td>\n",
       "      <td>93.0</td>\n",
       "      <td>14</td>\n",
       "      <td>29</td>\n",
       "      <td>0</td>\n",
       "      <td>...</td>\n",
       "      <td>No</td>\n",
       "      <td>0</td>\n",
       "      <td>0</td>\n",
       "      <td>3</td>\n",
       "      <td>1</td>\n",
       "      <td>2</td>\n",
       "      <td>312</td>\n",
       "      <td>1</td>\n",
       "      <td>5</td>\n",
       "      <td>315</td>\n",
       "    </tr>\n",
       "    <tr>\n",
       "      <th>3</th>\n",
       "      <td>4</td>\n",
       "      <td>02125</td>\n",
       "      <td>1</td>\n",
       "      <td>Male</td>\n",
       "      <td>0</td>\n",
       "      <td>1</td>\n",
       "      <td>22.0</td>\n",
       "      <td>17</td>\n",
       "      <td>1</td>\n",
       "      <td>0</td>\n",
       "      <td>...</td>\n",
       "      <td>No</td>\n",
       "      <td>1</td>\n",
       "      <td>0</td>\n",
       "      <td>3</td>\n",
       "      <td>5</td>\n",
       "      <td>5</td>\n",
       "      <td>355</td>\n",
       "      <td>5</td>\n",
       "      <td>4</td>\n",
       "      <td>354</td>\n",
       "    </tr>\n",
       "    <tr>\n",
       "      <th>4</th>\n",
       "      <td>5</td>\n",
       "      <td>60201</td>\n",
       "      <td>11</td>\n",
       "      <td>Male</td>\n",
       "      <td>0</td>\n",
       "      <td>1</td>\n",
       "      <td>24.5</td>\n",
       "      <td>2</td>\n",
       "      <td>3</td>\n",
       "      <td>0</td>\n",
       "      <td>...</td>\n",
       "      <td>No</td>\n",
       "      <td>0</td>\n",
       "      <td>0</td>\n",
       "      <td>1</td>\n",
       "      <td>5</td>\n",
       "      <td>5</td>\n",
       "      <td>155</td>\n",
       "      <td>5</td>\n",
       "      <td>4</td>\n",
       "      <td>154</td>\n",
       "    </tr>\n",
       "  </tbody>\n",
       "</table>\n",
       "<p>5 rows × 22 columns</p>\n",
       "</div>"
      ],
      "text/plain": [
       "   id    zip  zip_bins      sex  bizflag  numords  dollars  last  sincepurch  \\\n",
       "0   1  94553        18     Male        0        2    109.5     5          12   \n",
       "1   2  53190        10  Unknown        0        1     69.5     4           3   \n",
       "2   3  37091         8     Male        0        4     93.0    14          29   \n",
       "3   4  02125         1     Male        0        1     22.0    17           1   \n",
       "4   5  60201        11     Male        0        1     24.5     2           3   \n",
       "\n",
       "   version1  ...  res1  training res1_yes  rec_iq  freq_iq  mon_iq  rfm_iq  \\\n",
       "0         0  ...    No         1        0       1        3       2     132   \n",
       "1         0  ...    No         0        0       1        5       3     153   \n",
       "2         0  ...    No         0        0       3        1       2     312   \n",
       "3         0  ...    No         1        0       3        5       5     355   \n",
       "4         0  ...    No         0        0       1        5       5     155   \n",
       "\n",
       "   freq_sq mon_sq  rfm_sq  \n",
       "0        4      2     142  \n",
       "1        5      2     152  \n",
       "2        1      5     315  \n",
       "3        5      4     354  \n",
       "4        5      4     154  \n",
       "\n",
       "[5 rows x 22 columns]"
      ]
     },
     "execution_count": 17,
     "metadata": {},
     "output_type": "execute_result"
    }
   ],
   "source": [
    "intuit75k = intuit75k.assign(\n",
    "    rfm_sq=intuit75k.rec_iq.astype(str)\n",
    "    + intuit75k.freq_sq.astype(str)\n",
    "    + intuit75k.mon_sq.astype(str)\n",
    ")\n",
    "\n",
    "intuit75k.head()"
   ]
  },
  {
   "cell_type": "code",
   "execution_count": 18,
   "metadata": {},
   "outputs": [
    {
     "data": {
      "image/png": "[encoded data removed]",
      "text/plain": [
       "<Figure size 1152x504 with 1 Axes>"
      ]
     },
     "metadata": {
      "needs_background": "light"
     },
     "output_type": "display_data"
    }
   ],
   "source": [
    "plt.figure(figsize=(16, 7))\n",
    "# fig = rsm.prop_plot(bbb, \"rfm_iq\", \"buyer\", \"yes\", breakeven=breakeven)\n",
    "fig_rfm_sq = rsm.prop_plot(intuit75k, \"rfm_sq\", \"res1\", \"Yes\", breakeven = breakeven)\n",
    "fig_rfm_sq.set_xticklabels(fig_rfm_sq.get_xticklabels(), rotation=90)\n",
    "fig_rfm_sq = fig_rfm_sq.set(xlabel=\"Independent RFM index (rsm_sq)\")"
   ]
  },
  {
   "cell_type": "markdown",
   "metadata": {},
   "source": [
    "The graph above shows that we should be targetting only the customers in sequencial bins who lie above our breakeven point of 0.023 for the company to remain in profit after sequential bining. We also observe that there are no empty bins in sequencial RFM indexing as opposed to independent one. "
   ]
  },
  {
   "cell_type": "markdown",
   "metadata": {},
   "source": [
    "#### Calculation of performance without targetting // TEST DATA"
   ]
  },
  {
   "cell_type": "code",
   "execution_count": 19,
   "metadata": {},
   "outputs": [],
   "source": [
    "intuit75k_testdf = intuit75k[intuit75k['training'] == 0]"
   ]
  },
  {
   "cell_type": "code",
   "execution_count": 20,
   "metadata": {},
   "outputs": [
    {
     "data": {
      "text/plain": [
       "count    22500.000000\n",
       "mean         0.049022\n",
       "Name: res1_yes, dtype: float64"
      ]
     },
     "execution_count": 20,
     "metadata": {},
     "output_type": "execute_result"
    }
   ],
   "source": [
    "intuit75k_testdf[\"res1_yes\"].agg([\"count\", \"mean\"])"
   ]
  },
  {
   "cell_type": "code",
   "execution_count": 21,
   "metadata": {},
   "outputs": [
    {
     "data": {
      "text/html": [
       "<div>\n",
       "<style scoped>\n",
       "    .dataframe tbody tr th:only-of-type {\n",
       "        vertical-align: middle;\n",
       "    }\n",
       "\n",
       "    .dataframe tbody tr th {\n",
       "        vertical-align: top;\n",
       "    }\n",
       "\n",
       "    .dataframe thead th {\n",
       "        text-align: right;\n",
       "    }\n",
       "</style>\n",
       "<table border=\"1\" class=\"dataframe\">\n",
       "  <thead>\n",
       "    <tr style=\"text-align: right;\">\n",
       "      <th></th>\n",
       "      <th>id</th>\n",
       "      <th>zip</th>\n",
       "      <th>zip_bins</th>\n",
       "      <th>sex</th>\n",
       "      <th>bizflag</th>\n",
       "      <th>numords</th>\n",
       "      <th>dollars</th>\n",
       "      <th>last</th>\n",
       "      <th>sincepurch</th>\n",
       "      <th>version1</th>\n",
       "      <th>...</th>\n",
       "      <th>res1</th>\n",
       "      <th>training</th>\n",
       "      <th>res1_yes</th>\n",
       "      <th>rec_iq</th>\n",
       "      <th>freq_iq</th>\n",
       "      <th>mon_iq</th>\n",
       "      <th>rfm_iq</th>\n",
       "      <th>freq_sq</th>\n",
       "      <th>mon_sq</th>\n",
       "      <th>rfm_sq</th>\n",
       "    </tr>\n",
       "  </thead>\n",
       "  <tbody>\n",
       "    <tr>\n",
       "      <th>1</th>\n",
       "      <td>2</td>\n",
       "      <td>53190</td>\n",
       "      <td>10</td>\n",
       "      <td>Unknown</td>\n",
       "      <td>0</td>\n",
       "      <td>1</td>\n",
       "      <td>69.5</td>\n",
       "      <td>4</td>\n",
       "      <td>3</td>\n",
       "      <td>0</td>\n",
       "      <td>...</td>\n",
       "      <td>No</td>\n",
       "      <td>0</td>\n",
       "      <td>0</td>\n",
       "      <td>1</td>\n",
       "      <td>5</td>\n",
       "      <td>3</td>\n",
       "      <td>153</td>\n",
       "      <td>5</td>\n",
       "      <td>2</td>\n",
       "      <td>152</td>\n",
       "    </tr>\n",
       "    <tr>\n",
       "      <th>2</th>\n",
       "      <td>3</td>\n",
       "      <td>37091</td>\n",
       "      <td>8</td>\n",
       "      <td>Male</td>\n",
       "      <td>0</td>\n",
       "      <td>4</td>\n",
       "      <td>93.0</td>\n",
       "      <td>14</td>\n",
       "      <td>29</td>\n",
       "      <td>0</td>\n",
       "      <td>...</td>\n",
       "      <td>No</td>\n",
       "      <td>0</td>\n",
       "      <td>0</td>\n",
       "      <td>3</td>\n",
       "      <td>1</td>\n",
       "      <td>2</td>\n",
       "      <td>312</td>\n",
       "      <td>1</td>\n",
       "      <td>5</td>\n",
       "      <td>315</td>\n",
       "    </tr>\n",
       "    <tr>\n",
       "      <th>4</th>\n",
       "      <td>5</td>\n",
       "      <td>60201</td>\n",
       "      <td>11</td>\n",
       "      <td>Male</td>\n",
       "      <td>0</td>\n",
       "      <td>1</td>\n",
       "      <td>24.5</td>\n",
       "      <td>2</td>\n",
       "      <td>3</td>\n",
       "      <td>0</td>\n",
       "      <td>...</td>\n",
       "      <td>No</td>\n",
       "      <td>0</td>\n",
       "      <td>0</td>\n",
       "      <td>1</td>\n",
       "      <td>5</td>\n",
       "      <td>5</td>\n",
       "      <td>155</td>\n",
       "      <td>5</td>\n",
       "      <td>4</td>\n",
       "      <td>154</td>\n",
       "    </tr>\n",
       "    <tr>\n",
       "      <th>6</th>\n",
       "      <td>7</td>\n",
       "      <td>22980</td>\n",
       "      <td>5</td>\n",
       "      <td>Male</td>\n",
       "      <td>0</td>\n",
       "      <td>1</td>\n",
       "      <td>49.5</td>\n",
       "      <td>13</td>\n",
       "      <td>36</td>\n",
       "      <td>1</td>\n",
       "      <td>...</td>\n",
       "      <td>No</td>\n",
       "      <td>0</td>\n",
       "      <td>0</td>\n",
       "      <td>2</td>\n",
       "      <td>5</td>\n",
       "      <td>4</td>\n",
       "      <td>254</td>\n",
       "      <td>5</td>\n",
       "      <td>2</td>\n",
       "      <td>252</td>\n",
       "    </tr>\n",
       "    <tr>\n",
       "      <th>8</th>\n",
       "      <td>9</td>\n",
       "      <td>34950</td>\n",
       "      <td>8</td>\n",
       "      <td>Male</td>\n",
       "      <td>0</td>\n",
       "      <td>1</td>\n",
       "      <td>44.5</td>\n",
       "      <td>15</td>\n",
       "      <td>4</td>\n",
       "      <td>0</td>\n",
       "      <td>...</td>\n",
       "      <td>No</td>\n",
       "      <td>0</td>\n",
       "      <td>0</td>\n",
       "      <td>3</td>\n",
       "      <td>5</td>\n",
       "      <td>4</td>\n",
       "      <td>354</td>\n",
       "      <td>5</td>\n",
       "      <td>3</td>\n",
       "      <td>353</td>\n",
       "    </tr>\n",
       "  </tbody>\n",
       "</table>\n",
       "<p>5 rows × 22 columns</p>\n",
       "</div>"
      ],
      "text/plain": [
       "   id    zip  zip_bins      sex  bizflag  numords  dollars  last  sincepurch  \\\n",
       "1   2  53190        10  Unknown        0        1     69.5     4           3   \n",
       "2   3  37091         8     Male        0        4     93.0    14          29   \n",
       "4   5  60201        11     Male        0        1     24.5     2           3   \n",
       "6   7  22980         5     Male        0        1     49.5    13          36   \n",
       "8   9  34950         8     Male        0        1     44.5    15           4   \n",
       "\n",
       "   version1  ...  res1  training res1_yes  rec_iq  freq_iq  mon_iq  rfm_iq  \\\n",
       "1         0  ...    No         0        0       1        5       3     153   \n",
       "2         0  ...    No         0        0       3        1       2     312   \n",
       "4         0  ...    No         0        0       1        5       5     155   \n",
       "6         1  ...    No         0        0       2        5       4     254   \n",
       "8         0  ...    No         0        0       3        5       4     354   \n",
       "\n",
       "   freq_sq mon_sq  rfm_sq  \n",
       "1        5      2     152  \n",
       "2        1      5     315  \n",
       "4        5      4     154  \n",
       "6        5      2     252  \n",
       "8        5      3     353  \n",
       "\n",
       "[5 rows x 22 columns]"
      ]
     },
     "execution_count": 21,
     "metadata": {},
     "output_type": "execute_result"
    }
   ],
   "source": [
    "intuit75k_testdf.head()"
   ]
  },
  {
   "cell_type": "code",
   "execution_count": 22,
   "metadata": {},
   "outputs": [
    {
     "data": {
      "text/plain": [
       "0.049022222222222224"
      ]
     },
     "execution_count": 22,
     "metadata": {},
     "output_type": "execute_result"
    }
   ],
   "source": [
    "intuit75k_testdf['res1_yes'].value_counts(normalize = True)[1]"
   ]
  },
  {
   "cell_type": "code",
   "execution_count": 23,
   "metadata": {},
   "outputs": [
    {
     "data": {
      "text/plain": [
       "(34455.0, 1.0860520094562647)"
      ]
     },
     "execution_count": 23,
     "metadata": {},
     "output_type": "execute_result"
    }
   ],
   "source": [
    "perc_emails = 1\n",
    "nr_emails_nt = len(intuit75k_testdf) # total number of emails that would be sent out\n",
    "email_cost_nt = cost*nr_emails_nt  # cost of sending an email (float)\n",
    "response_rate_nt = intuit75k_testdf['res1_yes'].value_counts(normalize = True)[1]\n",
    "nr_responses_nt = response_rate_nt * nr_emails_nt # total number of positive responses\n",
    "revenue_nt = margin*nr_responses_nt# total revenue \n",
    "profit_nt = margin * nr_responses_nt - email_cost_nt# total profit \n",
    "ROME_nt = profit_nt/email_cost_nt# Return on Marketing Expenditures expressed as a proportion (no rounding)\n",
    "\n",
    "profit_nt, ROME_nt"
   ]
  },
  {
   "cell_type": "code",
   "execution_count": 24,
   "metadata": {},
   "outputs": [
    {
     "data": {
      "text/plain": [
       "0.049022222222222224"
      ]
     },
     "execution_count": 24,
     "metadata": {},
     "output_type": "execute_result"
    }
   ],
   "source": [
    "response_rate_nt"
   ]
  },
  {
   "cell_type": "code",
   "execution_count": 25,
   "metadata": {},
   "outputs": [
    {
     "name": "stdout",
     "output_type": "stream",
     "text": [
      "Quickbooks would sms all 22,500 (100%) customers. The response rate for the selected customers is predicted to be 4.9% or 1,103 buyers. The revenue is equal to $66,180. The expected profit is $34,455. The email cost is estimated to be $31,725 with a ROME of 108.61%\n"
     ]
    }
   ],
   "source": [
    "print(\n",
    "    f\"\"\"Quickbooks would sms all {int(nr_emails_nt):,} ({round((100 * perc_emails), 2)}%) customers. The response rate for the selected customers is predicted to be {round((100 * response_rate_nt), 2)}% or {int(nr_responses_nt):,} buyers. The revenue is equal to ${int(revenue_nt):,}. The expected profit is ${int(profit_nt):,}. The email cost is estimated to be ${int(email_cost_nt):,} with a ROME of {round((100 * ROME_nt), 2)}%\"\"\"\n",
    ")"
   ]
  },
  {
   "cell_type": "markdown",
   "metadata": {},
   "source": [
    "#### Evaluate the performance implications of offering the deal to only those customers in RFM cells with a response rate greater than the breakeven response rate// TEST DATA"
   ]
  },
  {
   "cell_type": "markdown",
   "metadata": {},
   "source": [
    "#### IQ CELLS"
   ]
  },
  {
   "cell_type": "code",
   "execution_count": 26,
   "metadata": {},
   "outputs": [
    {
     "data": {
      "text/html": [
       "<div>\n",
       "<style scoped>\n",
       "    .dataframe tbody tr th:only-of-type {\n",
       "        vertical-align: middle;\n",
       "    }\n",
       "\n",
       "    .dataframe tbody tr th {\n",
       "        vertical-align: top;\n",
       "    }\n",
       "\n",
       "    .dataframe thead th {\n",
       "        text-align: right;\n",
       "    }\n",
       "</style>\n",
       "<table border=\"1\" class=\"dataframe\">\n",
       "  <thead>\n",
       "    <tr style=\"text-align: right;\">\n",
       "      <th></th>\n",
       "      <th>id</th>\n",
       "      <th>zip</th>\n",
       "      <th>zip_bins</th>\n",
       "      <th>sex</th>\n",
       "      <th>bizflag</th>\n",
       "      <th>numords</th>\n",
       "      <th>dollars</th>\n",
       "      <th>last</th>\n",
       "      <th>sincepurch</th>\n",
       "      <th>version1</th>\n",
       "      <th>...</th>\n",
       "      <th>res1</th>\n",
       "      <th>training</th>\n",
       "      <th>res1_yes</th>\n",
       "      <th>rec_iq</th>\n",
       "      <th>freq_iq</th>\n",
       "      <th>mon_iq</th>\n",
       "      <th>rfm_iq</th>\n",
       "      <th>freq_sq</th>\n",
       "      <th>mon_sq</th>\n",
       "      <th>rfm_sq</th>\n",
       "    </tr>\n",
       "  </thead>\n",
       "  <tbody>\n",
       "    <tr>\n",
       "      <th>0</th>\n",
       "      <td>1</td>\n",
       "      <td>94553</td>\n",
       "      <td>18</td>\n",
       "      <td>Male</td>\n",
       "      <td>0</td>\n",
       "      <td>2</td>\n",
       "      <td>109.5</td>\n",
       "      <td>5</td>\n",
       "      <td>12</td>\n",
       "      <td>0</td>\n",
       "      <td>...</td>\n",
       "      <td>No</td>\n",
       "      <td>1</td>\n",
       "      <td>0</td>\n",
       "      <td>1</td>\n",
       "      <td>3</td>\n",
       "      <td>2</td>\n",
       "      <td>132</td>\n",
       "      <td>4</td>\n",
       "      <td>2</td>\n",
       "      <td>142</td>\n",
       "    </tr>\n",
       "    <tr>\n",
       "      <th>1</th>\n",
       "      <td>2</td>\n",
       "      <td>53190</td>\n",
       "      <td>10</td>\n",
       "      <td>Unknown</td>\n",
       "      <td>0</td>\n",
       "      <td>1</td>\n",
       "      <td>69.5</td>\n",
       "      <td>4</td>\n",
       "      <td>3</td>\n",
       "      <td>0</td>\n",
       "      <td>...</td>\n",
       "      <td>No</td>\n",
       "      <td>0</td>\n",
       "      <td>0</td>\n",
       "      <td>1</td>\n",
       "      <td>5</td>\n",
       "      <td>3</td>\n",
       "      <td>153</td>\n",
       "      <td>5</td>\n",
       "      <td>2</td>\n",
       "      <td>152</td>\n",
       "    </tr>\n",
       "    <tr>\n",
       "      <th>2</th>\n",
       "      <td>3</td>\n",
       "      <td>37091</td>\n",
       "      <td>8</td>\n",
       "      <td>Male</td>\n",
       "      <td>0</td>\n",
       "      <td>4</td>\n",
       "      <td>93.0</td>\n",
       "      <td>14</td>\n",
       "      <td>29</td>\n",
       "      <td>0</td>\n",
       "      <td>...</td>\n",
       "      <td>No</td>\n",
       "      <td>0</td>\n",
       "      <td>0</td>\n",
       "      <td>3</td>\n",
       "      <td>1</td>\n",
       "      <td>2</td>\n",
       "      <td>312</td>\n",
       "      <td>1</td>\n",
       "      <td>5</td>\n",
       "      <td>315</td>\n",
       "    </tr>\n",
       "    <tr>\n",
       "      <th>3</th>\n",
       "      <td>4</td>\n",
       "      <td>02125</td>\n",
       "      <td>1</td>\n",
       "      <td>Male</td>\n",
       "      <td>0</td>\n",
       "      <td>1</td>\n",
       "      <td>22.0</td>\n",
       "      <td>17</td>\n",
       "      <td>1</td>\n",
       "      <td>0</td>\n",
       "      <td>...</td>\n",
       "      <td>No</td>\n",
       "      <td>1</td>\n",
       "      <td>0</td>\n",
       "      <td>3</td>\n",
       "      <td>5</td>\n",
       "      <td>5</td>\n",
       "      <td>355</td>\n",
       "      <td>5</td>\n",
       "      <td>4</td>\n",
       "      <td>354</td>\n",
       "    </tr>\n",
       "    <tr>\n",
       "      <th>4</th>\n",
       "      <td>5</td>\n",
       "      <td>60201</td>\n",
       "      <td>11</td>\n",
       "      <td>Male</td>\n",
       "      <td>0</td>\n",
       "      <td>1</td>\n",
       "      <td>24.5</td>\n",
       "      <td>2</td>\n",
       "      <td>3</td>\n",
       "      <td>0</td>\n",
       "      <td>...</td>\n",
       "      <td>No</td>\n",
       "      <td>0</td>\n",
       "      <td>0</td>\n",
       "      <td>1</td>\n",
       "      <td>5</td>\n",
       "      <td>5</td>\n",
       "      <td>155</td>\n",
       "      <td>5</td>\n",
       "      <td>4</td>\n",
       "      <td>154</td>\n",
       "    </tr>\n",
       "  </tbody>\n",
       "</table>\n",
       "<p>5 rows × 22 columns</p>\n",
       "</div>"
      ],
      "text/plain": [
       "   id    zip  zip_bins      sex  bizflag  numords  dollars  last  sincepurch  \\\n",
       "0   1  94553        18     Male        0        2    109.5     5          12   \n",
       "1   2  53190        10  Unknown        0        1     69.5     4           3   \n",
       "2   3  37091         8     Male        0        4     93.0    14          29   \n",
       "3   4  02125         1     Male        0        1     22.0    17           1   \n",
       "4   5  60201        11     Male        0        1     24.5     2           3   \n",
       "\n",
       "   version1  ...  res1  training res1_yes  rec_iq  freq_iq  mon_iq  rfm_iq  \\\n",
       "0         0  ...    No         1        0       1        3       2     132   \n",
       "1         0  ...    No         0        0       1        5       3     153   \n",
       "2         0  ...    No         0        0       3        1       2     312   \n",
       "3         0  ...    No         1        0       3        5       5     355   \n",
       "4         0  ...    No         0        0       1        5       5     155   \n",
       "\n",
       "   freq_sq mon_sq  rfm_sq  \n",
       "0        4      2     142  \n",
       "1        5      2     152  \n",
       "2        1      5     315  \n",
       "3        5      4     354  \n",
       "4        5      4     154  \n",
       "\n",
       "[5 rows x 22 columns]"
      ]
     },
     "execution_count": 26,
     "metadata": {},
     "output_type": "execute_result"
    }
   ],
   "source": [
    "intuit75k.head()"
   ]
  },
  {
   "cell_type": "code",
   "execution_count": 57,
   "metadata": {},
   "outputs": [],
   "source": [
    "def response_rate(x, lev=\"Yes\"):\n",
    "    return np.nanmean(x == lev)\n",
    "\n",
    "def emailto(x, lev=\"Yes\", breakeven=0):\n",
    "    return np.nanmean(x == \"Yes\") > breakeven"
   ]
  },
  {
   "cell_type": "code",
   "execution_count": 72,
   "metadata": {},
   "outputs": [],
   "source": [
    "intuit75k_testdf_2 = intuit75k[intuit75k['training'] == 0]"
   ]
  },
  {
   "cell_type": "code",
   "execution_count": 80,
   "metadata": {},
   "outputs": [],
   "source": [
    "intuit75k_testdf_2 = intuit75k_testdf_2.assign(\n",
    "    rfm_iq_resp=(intuit75k_testdf_2.groupby(\"rfm_iq\").res1.transform(response_rate)),\n",
    "    emailto_iq=intuit75k_testdf_2.groupby(\"rfm_iq\").res1.transform(emailto, breakeven=breakeven*2)\n",
    ")"
   ]
  },
  {
   "cell_type": "code",
   "execution_count": 81,
   "metadata": {},
   "outputs": [
    {
     "data": {
      "text/html": [
       "<div>\n",
       "<style scoped>\n",
       "    .dataframe tbody tr th:only-of-type {\n",
       "        vertical-align: middle;\n",
       "    }\n",
       "\n",
       "    .dataframe tbody tr th {\n",
       "        vertical-align: top;\n",
       "    }\n",
       "\n",
       "    .dataframe thead th {\n",
       "        text-align: right;\n",
       "    }\n",
       "</style>\n",
       "<table border=\"1\" class=\"dataframe\">\n",
       "  <thead>\n",
       "    <tr style=\"text-align: right;\">\n",
       "      <th></th>\n",
       "      <th>id</th>\n",
       "      <th>zip</th>\n",
       "      <th>zip_bins</th>\n",
       "      <th>sex</th>\n",
       "      <th>bizflag</th>\n",
       "      <th>numords</th>\n",
       "      <th>dollars</th>\n",
       "      <th>last</th>\n",
       "      <th>sincepurch</th>\n",
       "      <th>version1</th>\n",
       "      <th>...</th>\n",
       "      <th>res1_yes</th>\n",
       "      <th>rec_iq</th>\n",
       "      <th>freq_iq</th>\n",
       "      <th>mon_iq</th>\n",
       "      <th>rfm_iq</th>\n",
       "      <th>freq_sq</th>\n",
       "      <th>mon_sq</th>\n",
       "      <th>rfm_sq</th>\n",
       "      <th>rfm_iq_resp</th>\n",
       "      <th>emailto_iq</th>\n",
       "    </tr>\n",
       "  </thead>\n",
       "  <tbody>\n",
       "    <tr>\n",
       "      <th>1</th>\n",
       "      <td>2</td>\n",
       "      <td>53190</td>\n",
       "      <td>10</td>\n",
       "      <td>Unknown</td>\n",
       "      <td>0</td>\n",
       "      <td>1</td>\n",
       "      <td>69.5</td>\n",
       "      <td>4</td>\n",
       "      <td>3</td>\n",
       "      <td>0</td>\n",
       "      <td>...</td>\n",
       "      <td>0</td>\n",
       "      <td>1</td>\n",
       "      <td>5</td>\n",
       "      <td>3</td>\n",
       "      <td>153</td>\n",
       "      <td>5</td>\n",
       "      <td>2</td>\n",
       "      <td>152</td>\n",
       "      <td>0.051370</td>\n",
       "      <td>True</td>\n",
       "    </tr>\n",
       "    <tr>\n",
       "      <th>2</th>\n",
       "      <td>3</td>\n",
       "      <td>37091</td>\n",
       "      <td>8</td>\n",
       "      <td>Male</td>\n",
       "      <td>0</td>\n",
       "      <td>4</td>\n",
       "      <td>93.0</td>\n",
       "      <td>14</td>\n",
       "      <td>29</td>\n",
       "      <td>0</td>\n",
       "      <td>...</td>\n",
       "      <td>0</td>\n",
       "      <td>3</td>\n",
       "      <td>1</td>\n",
       "      <td>2</td>\n",
       "      <td>312</td>\n",
       "      <td>1</td>\n",
       "      <td>5</td>\n",
       "      <td>315</td>\n",
       "      <td>0.067568</td>\n",
       "      <td>True</td>\n",
       "    </tr>\n",
       "    <tr>\n",
       "      <th>4</th>\n",
       "      <td>5</td>\n",
       "      <td>60201</td>\n",
       "      <td>11</td>\n",
       "      <td>Male</td>\n",
       "      <td>0</td>\n",
       "      <td>1</td>\n",
       "      <td>24.5</td>\n",
       "      <td>2</td>\n",
       "      <td>3</td>\n",
       "      <td>0</td>\n",
       "      <td>...</td>\n",
       "      <td>0</td>\n",
       "      <td>1</td>\n",
       "      <td>5</td>\n",
       "      <td>5</td>\n",
       "      <td>155</td>\n",
       "      <td>5</td>\n",
       "      <td>4</td>\n",
       "      <td>154</td>\n",
       "      <td>0.049226</td>\n",
       "      <td>True</td>\n",
       "    </tr>\n",
       "    <tr>\n",
       "      <th>6</th>\n",
       "      <td>7</td>\n",
       "      <td>22980</td>\n",
       "      <td>5</td>\n",
       "      <td>Male</td>\n",
       "      <td>0</td>\n",
       "      <td>1</td>\n",
       "      <td>49.5</td>\n",
       "      <td>13</td>\n",
       "      <td>36</td>\n",
       "      <td>1</td>\n",
       "      <td>...</td>\n",
       "      <td>0</td>\n",
       "      <td>2</td>\n",
       "      <td>5</td>\n",
       "      <td>4</td>\n",
       "      <td>254</td>\n",
       "      <td>5</td>\n",
       "      <td>2</td>\n",
       "      <td>252</td>\n",
       "      <td>0.028623</td>\n",
       "      <td>False</td>\n",
       "    </tr>\n",
       "    <tr>\n",
       "      <th>8</th>\n",
       "      <td>9</td>\n",
       "      <td>34950</td>\n",
       "      <td>8</td>\n",
       "      <td>Male</td>\n",
       "      <td>0</td>\n",
       "      <td>1</td>\n",
       "      <td>44.5</td>\n",
       "      <td>15</td>\n",
       "      <td>4</td>\n",
       "      <td>0</td>\n",
       "      <td>...</td>\n",
       "      <td>0</td>\n",
       "      <td>3</td>\n",
       "      <td>5</td>\n",
       "      <td>4</td>\n",
       "      <td>354</td>\n",
       "      <td>5</td>\n",
       "      <td>3</td>\n",
       "      <td>353</td>\n",
       "      <td>0.026408</td>\n",
       "      <td>False</td>\n",
       "    </tr>\n",
       "  </tbody>\n",
       "</table>\n",
       "<p>5 rows × 24 columns</p>\n",
       "</div>"
      ],
      "text/plain": [
       "   id    zip  zip_bins      sex  bizflag  numords  dollars  last  sincepurch  \\\n",
       "1   2  53190        10  Unknown        0        1     69.5     4           3   \n",
       "2   3  37091         8     Male        0        4     93.0    14          29   \n",
       "4   5  60201        11     Male        0        1     24.5     2           3   \n",
       "6   7  22980         5     Male        0        1     49.5    13          36   \n",
       "8   9  34950         8     Male        0        1     44.5    15           4   \n",
       "\n",
       "   version1  ...  res1_yes  rec_iq freq_iq  mon_iq  rfm_iq  freq_sq  mon_sq  \\\n",
       "1         0  ...         0       1       5       3     153        5       2   \n",
       "2         0  ...         0       3       1       2     312        1       5   \n",
       "4         0  ...         0       1       5       5     155        5       4   \n",
       "6         1  ...         0       2       5       4     254        5       2   \n",
       "8         0  ...         0       3       5       4     354        5       3   \n",
       "\n",
       "   rfm_sq rfm_iq_resp  emailto_iq  \n",
       "1     152    0.051370        True  \n",
       "2     315    0.067568        True  \n",
       "4     154    0.049226        True  \n",
       "6     252    0.028623       False  \n",
       "8     353    0.026408       False  \n",
       "\n",
       "[5 rows x 24 columns]"
      ]
     },
     "execution_count": 81,
     "metadata": {},
     "output_type": "execute_result"
    }
   ],
   "source": [
    "intuit75k_testdf_2.head()"
   ]
  },
  {
   "cell_type": "code",
   "execution_count": 82,
   "metadata": {},
   "outputs": [
    {
     "data": {
      "text/plain": [
       "False    13323\n",
       "True      9177\n",
       "Name: emailto_iq, dtype: int64"
      ]
     },
     "execution_count": 82,
     "metadata": {},
     "output_type": "execute_result"
    }
   ],
   "source": [
    "intuit75k_testdf_2.emailto_iq.value_counts()"
   ]
  },
  {
   "cell_type": "code",
   "execution_count": 83,
   "metadata": {},
   "outputs": [
    {
     "data": {
      "text/html": [
       "<div>\n",
       "<style scoped>\n",
       "    .dataframe tbody tr th:only-of-type {\n",
       "        vertical-align: middle;\n",
       "    }\n",
       "\n",
       "    .dataframe tbody tr th {\n",
       "        vertical-align: top;\n",
       "    }\n",
       "\n",
       "    .dataframe thead th {\n",
       "        text-align: right;\n",
       "    }\n",
       "</style>\n",
       "<table border=\"1\" class=\"dataframe\">\n",
       "  <thead>\n",
       "    <tr style=\"text-align: right;\">\n",
       "      <th></th>\n",
       "      <th>id</th>\n",
       "      <th>zip</th>\n",
       "      <th>zip_bins</th>\n",
       "      <th>sex</th>\n",
       "      <th>bizflag</th>\n",
       "      <th>numords</th>\n",
       "      <th>dollars</th>\n",
       "      <th>last</th>\n",
       "      <th>sincepurch</th>\n",
       "      <th>version1</th>\n",
       "      <th>...</th>\n",
       "      <th>res1_yes</th>\n",
       "      <th>rec_iq</th>\n",
       "      <th>freq_iq</th>\n",
       "      <th>mon_iq</th>\n",
       "      <th>rfm_iq</th>\n",
       "      <th>freq_sq</th>\n",
       "      <th>mon_sq</th>\n",
       "      <th>rfm_sq</th>\n",
       "      <th>rfm_iq_resp</th>\n",
       "      <th>emailto_iq</th>\n",
       "    </tr>\n",
       "  </thead>\n",
       "  <tbody>\n",
       "    <tr>\n",
       "      <th>1</th>\n",
       "      <td>2</td>\n",
       "      <td>53190</td>\n",
       "      <td>10</td>\n",
       "      <td>Unknown</td>\n",
       "      <td>0</td>\n",
       "      <td>1</td>\n",
       "      <td>69.5</td>\n",
       "      <td>4</td>\n",
       "      <td>3</td>\n",
       "      <td>0</td>\n",
       "      <td>...</td>\n",
       "      <td>0</td>\n",
       "      <td>1</td>\n",
       "      <td>5</td>\n",
       "      <td>3</td>\n",
       "      <td>153</td>\n",
       "      <td>5</td>\n",
       "      <td>2</td>\n",
       "      <td>152</td>\n",
       "      <td>0.051370</td>\n",
       "      <td>True</td>\n",
       "    </tr>\n",
       "    <tr>\n",
       "      <th>2</th>\n",
       "      <td>3</td>\n",
       "      <td>37091</td>\n",
       "      <td>8</td>\n",
       "      <td>Male</td>\n",
       "      <td>0</td>\n",
       "      <td>4</td>\n",
       "      <td>93.0</td>\n",
       "      <td>14</td>\n",
       "      <td>29</td>\n",
       "      <td>0</td>\n",
       "      <td>...</td>\n",
       "      <td>0</td>\n",
       "      <td>3</td>\n",
       "      <td>1</td>\n",
       "      <td>2</td>\n",
       "      <td>312</td>\n",
       "      <td>1</td>\n",
       "      <td>5</td>\n",
       "      <td>315</td>\n",
       "      <td>0.067568</td>\n",
       "      <td>True</td>\n",
       "    </tr>\n",
       "    <tr>\n",
       "      <th>4</th>\n",
       "      <td>5</td>\n",
       "      <td>60201</td>\n",
       "      <td>11</td>\n",
       "      <td>Male</td>\n",
       "      <td>0</td>\n",
       "      <td>1</td>\n",
       "      <td>24.5</td>\n",
       "      <td>2</td>\n",
       "      <td>3</td>\n",
       "      <td>0</td>\n",
       "      <td>...</td>\n",
       "      <td>0</td>\n",
       "      <td>1</td>\n",
       "      <td>5</td>\n",
       "      <td>5</td>\n",
       "      <td>155</td>\n",
       "      <td>5</td>\n",
       "      <td>4</td>\n",
       "      <td>154</td>\n",
       "      <td>0.049226</td>\n",
       "      <td>True</td>\n",
       "    </tr>\n",
       "    <tr>\n",
       "      <th>11</th>\n",
       "      <td>12</td>\n",
       "      <td>91942</td>\n",
       "      <td>17</td>\n",
       "      <td>Male</td>\n",
       "      <td>1</td>\n",
       "      <td>5</td>\n",
       "      <td>79.0</td>\n",
       "      <td>5</td>\n",
       "      <td>21</td>\n",
       "      <td>0</td>\n",
       "      <td>...</td>\n",
       "      <td>1</td>\n",
       "      <td>1</td>\n",
       "      <td>1</td>\n",
       "      <td>3</td>\n",
       "      <td>113</td>\n",
       "      <td>1</td>\n",
       "      <td>5</td>\n",
       "      <td>115</td>\n",
       "      <td>0.180451</td>\n",
       "      <td>True</td>\n",
       "    </tr>\n",
       "    <tr>\n",
       "      <th>12</th>\n",
       "      <td>13</td>\n",
       "      <td>27262</td>\n",
       "      <td>6</td>\n",
       "      <td>Male</td>\n",
       "      <td>0</td>\n",
       "      <td>1</td>\n",
       "      <td>38.0</td>\n",
       "      <td>5</td>\n",
       "      <td>22</td>\n",
       "      <td>1</td>\n",
       "      <td>...</td>\n",
       "      <td>0</td>\n",
       "      <td>1</td>\n",
       "      <td>5</td>\n",
       "      <td>4</td>\n",
       "      <td>154</td>\n",
       "      <td>5</td>\n",
       "      <td>3</td>\n",
       "      <td>153</td>\n",
       "      <td>0.057208</td>\n",
       "      <td>True</td>\n",
       "    </tr>\n",
       "  </tbody>\n",
       "</table>\n",
       "<p>5 rows × 24 columns</p>\n",
       "</div>"
      ],
      "text/plain": [
       "    id    zip  zip_bins      sex  bizflag  numords  dollars  last  sincepurch  \\\n",
       "1    2  53190        10  Unknown        0        1     69.5     4           3   \n",
       "2    3  37091         8     Male        0        4     93.0    14          29   \n",
       "4    5  60201        11     Male        0        1     24.5     2           3   \n",
       "11  12  91942        17     Male        1        5     79.0     5          21   \n",
       "12  13  27262         6     Male        0        1     38.0     5          22   \n",
       "\n",
       "    version1  ...  res1_yes  rec_iq freq_iq  mon_iq  rfm_iq  freq_sq  mon_sq  \\\n",
       "1          0  ...         0       1       5       3     153        5       2   \n",
       "2          0  ...         0       3       1       2     312        1       5   \n",
       "4          0  ...         0       1       5       5     155        5       4   \n",
       "11         0  ...         1       1       1       3     113        1       5   \n",
       "12         1  ...         0       1       5       4     154        5       3   \n",
       "\n",
       "    rfm_sq rfm_iq_resp  emailto_iq  \n",
       "1      152    0.051370        True  \n",
       "2      315    0.067568        True  \n",
       "4      154    0.049226        True  \n",
       "11     115    0.180451        True  \n",
       "12     153    0.057208        True  \n",
       "\n",
       "[5 rows x 24 columns]"
      ]
     },
     "execution_count": 83,
     "metadata": {},
     "output_type": "execute_result"
    }
   ],
   "source": [
    "intuit75k_testdf_2a = intuit75k_testdf_2[intuit75k_testdf_2['emailto_iq'] == True]\n",
    "intuit75k_testdf_2a.head()"
   ]
  },
  {
   "cell_type": "code",
   "execution_count": 84,
   "metadata": {},
   "outputs": [
    {
     "data": {
      "text/plain": [
       "(30380.43, 2.3478701378793887)"
      ]
     },
     "execution_count": 84,
     "metadata": {},
     "output_type": "execute_result"
    }
   ],
   "source": [
    "\n",
    "perc_emails_iq = len(intuit75k_testdf_2a)/len(intuit75k_testdf_2)\n",
    "nr_emails_iq = len(intuit75k_testdf_2a) # total number of emails that would be sent out\n",
    "email_cost_iq = cost*nr_emails_iq # cost of sending an email (float)\n",
    "response_rate_iq = intuit75k_testdf_2a['res1_yes'].value_counts(normalize = True)[1]\n",
    "nr_responses_iq = response_rate_iq * nr_emails_iq # total number of positive responses\n",
    "revenue_iq = margin*nr_responses_iq# total revenue \n",
    "profit_iq = margin * nr_responses_iq - email_cost_iq# total profit \n",
    "ROME_iq = profit_iq/email_cost_iq# Return on Marketing Expenditures expressed as a proportion (no rounding)\n",
    "\n",
    "profit_iq, ROME_iq"
   ]
  },
  {
   "cell_type": "code",
   "execution_count": 85,
   "metadata": {},
   "outputs": [
    {
     "name": "stdout",
     "output_type": "stream",
     "text": [
      "Quickbooks would sms all 9,177 (40.79%) customers. The response rate for the selected customers is predicted to be 7.87% or 722 buyers. The revenue is equal to $43,320. The expected profit is $30,380. The emai; cost is estimated to be $12,939 with a ROME of 234.79%\n"
     ]
    }
   ],
   "source": [
    "print(\n",
    "    f\"\"\"Quickbooks would sms all {int(nr_emails_iq):,} ({round((100 * perc_emails_iq), 2)}%) customers. The response rate for the selected customers is predicted to be {round((100 * response_rate_iq), 2)}% or {int(nr_responses_iq):,} buyers. The revenue is equal to ${int(revenue_iq):,}. The expected profit is ${int(profit_iq):,}. The emai; cost is estimated to be ${int(email_cost_iq):,} with a ROME of {round((100 * ROME_iq), 2)}%\"\"\"\n",
    ")"
   ]
  },
  {
   "cell_type": "code",
   "execution_count": 87,
   "metadata": {},
   "outputs": [
    {
     "data": {
      "text/plain": [
       "316543999.4574"
      ]
     },
     "execution_count": 87,
     "metadata": {},
     "output_type": "execute_result"
    }
   ],
   "source": [
    "#wave 2- scaled\n",
    "scale1_iq = round((100 * perc_emails_iq), 2)\n",
    "scale2_iq = round((100 * response_rate_iq), 2) \n",
    "tot_emails = 801821 - 38487\n",
    "total_cost_iq = scale1_iq*tot_emails*cost\n",
    "total_revenue2 = tot_emails*scale2_iq*margin\n",
    "profit2 = total_revenue2 - total_cost_iq\n",
    "profit2"
   ]
  },
  {
   "cell_type": "markdown",
   "metadata": {},
   "source": [
    "#### SQ CELLS"
   ]
  },
  {
   "cell_type": "code",
   "execution_count": 91,
   "metadata": {},
   "outputs": [],
   "source": [
    "intuit75k_testdf_2 = intuit75k_testdf_2.assign(\n",
    "    rfm_sq_resp=(intuit75k_testdf_2.groupby(\"rfm_sq\").res1.transform(response_rate)),\n",
    "    emailto_sq=intuit75k_testdf_2.groupby(\"rfm_sq\").res1.transform(emailto, breakeven=breakeven * 2)\n",
    ")"
   ]
  },
  {
   "cell_type": "code",
   "execution_count": 92,
   "metadata": {},
   "outputs": [
    {
     "data": {
      "text/plain": [
       "False    12921\n",
       "True      9579\n",
       "Name: emailto_sq, dtype: int64"
      ]
     },
     "execution_count": 92,
     "metadata": {},
     "output_type": "execute_result"
    }
   ],
   "source": [
    "intuit75k_testdf_2.emailto_sq.value_counts()"
   ]
  },
  {
   "cell_type": "code",
   "execution_count": 93,
   "metadata": {},
   "outputs": [
    {
     "data": {
      "text/html": [
       "<div>\n",
       "<style scoped>\n",
       "    .dataframe tbody tr th:only-of-type {\n",
       "        vertical-align: middle;\n",
       "    }\n",
       "\n",
       "    .dataframe tbody tr th {\n",
       "        vertical-align: top;\n",
       "    }\n",
       "\n",
       "    .dataframe thead th {\n",
       "        text-align: right;\n",
       "    }\n",
       "</style>\n",
       "<table border=\"1\" class=\"dataframe\">\n",
       "  <thead>\n",
       "    <tr style=\"text-align: right;\">\n",
       "      <th></th>\n",
       "      <th>id</th>\n",
       "      <th>zip</th>\n",
       "      <th>zip_bins</th>\n",
       "      <th>sex</th>\n",
       "      <th>bizflag</th>\n",
       "      <th>numords</th>\n",
       "      <th>dollars</th>\n",
       "      <th>last</th>\n",
       "      <th>sincepurch</th>\n",
       "      <th>version1</th>\n",
       "      <th>...</th>\n",
       "      <th>freq_iq</th>\n",
       "      <th>mon_iq</th>\n",
       "      <th>rfm_iq</th>\n",
       "      <th>freq_sq</th>\n",
       "      <th>mon_sq</th>\n",
       "      <th>rfm_sq</th>\n",
       "      <th>rfm_iq_resp</th>\n",
       "      <th>emailto_iq</th>\n",
       "      <th>rfm_sq_resp</th>\n",
       "      <th>emailto_sq</th>\n",
       "    </tr>\n",
       "  </thead>\n",
       "  <tbody>\n",
       "    <tr>\n",
       "      <th>2</th>\n",
       "      <td>3</td>\n",
       "      <td>37091</td>\n",
       "      <td>8</td>\n",
       "      <td>Male</td>\n",
       "      <td>0</td>\n",
       "      <td>4</td>\n",
       "      <td>93.0</td>\n",
       "      <td>14</td>\n",
       "      <td>29</td>\n",
       "      <td>0</td>\n",
       "      <td>...</td>\n",
       "      <td>1</td>\n",
       "      <td>2</td>\n",
       "      <td>312</td>\n",
       "      <td>1</td>\n",
       "      <td>5</td>\n",
       "      <td>315</td>\n",
       "      <td>0.067568</td>\n",
       "      <td>True</td>\n",
       "      <td>0.069307</td>\n",
       "      <td>True</td>\n",
       "    </tr>\n",
       "    <tr>\n",
       "      <th>4</th>\n",
       "      <td>5</td>\n",
       "      <td>60201</td>\n",
       "      <td>11</td>\n",
       "      <td>Male</td>\n",
       "      <td>0</td>\n",
       "      <td>1</td>\n",
       "      <td>24.5</td>\n",
       "      <td>2</td>\n",
       "      <td>3</td>\n",
       "      <td>0</td>\n",
       "      <td>...</td>\n",
       "      <td>5</td>\n",
       "      <td>5</td>\n",
       "      <td>155</td>\n",
       "      <td>5</td>\n",
       "      <td>4</td>\n",
       "      <td>154</td>\n",
       "      <td>0.049226</td>\n",
       "      <td>True</td>\n",
       "      <td>0.050532</td>\n",
       "      <td>True</td>\n",
       "    </tr>\n",
       "    <tr>\n",
       "      <th>11</th>\n",
       "      <td>12</td>\n",
       "      <td>91942</td>\n",
       "      <td>17</td>\n",
       "      <td>Male</td>\n",
       "      <td>1</td>\n",
       "      <td>5</td>\n",
       "      <td>79.0</td>\n",
       "      <td>5</td>\n",
       "      <td>21</td>\n",
       "      <td>0</td>\n",
       "      <td>...</td>\n",
       "      <td>1</td>\n",
       "      <td>3</td>\n",
       "      <td>113</td>\n",
       "      <td>1</td>\n",
       "      <td>5</td>\n",
       "      <td>115</td>\n",
       "      <td>0.180451</td>\n",
       "      <td>True</td>\n",
       "      <td>0.144231</td>\n",
       "      <td>True</td>\n",
       "    </tr>\n",
       "    <tr>\n",
       "      <th>12</th>\n",
       "      <td>13</td>\n",
       "      <td>27262</td>\n",
       "      <td>6</td>\n",
       "      <td>Male</td>\n",
       "      <td>0</td>\n",
       "      <td>1</td>\n",
       "      <td>38.0</td>\n",
       "      <td>5</td>\n",
       "      <td>22</td>\n",
       "      <td>1</td>\n",
       "      <td>...</td>\n",
       "      <td>5</td>\n",
       "      <td>4</td>\n",
       "      <td>154</td>\n",
       "      <td>5</td>\n",
       "      <td>3</td>\n",
       "      <td>153</td>\n",
       "      <td>0.057208</td>\n",
       "      <td>True</td>\n",
       "      <td>0.061644</td>\n",
       "      <td>True</td>\n",
       "    </tr>\n",
       "    <tr>\n",
       "      <th>14</th>\n",
       "      <td>15</td>\n",
       "      <td>93535</td>\n",
       "      <td>18</td>\n",
       "      <td>Male</td>\n",
       "      <td>0</td>\n",
       "      <td>2</td>\n",
       "      <td>40.5</td>\n",
       "      <td>10</td>\n",
       "      <td>6</td>\n",
       "      <td>0</td>\n",
       "      <td>...</td>\n",
       "      <td>3</td>\n",
       "      <td>4</td>\n",
       "      <td>234</td>\n",
       "      <td>3</td>\n",
       "      <td>5</td>\n",
       "      <td>235</td>\n",
       "      <td>0.036765</td>\n",
       "      <td>False</td>\n",
       "      <td>0.054622</td>\n",
       "      <td>True</td>\n",
       "    </tr>\n",
       "  </tbody>\n",
       "</table>\n",
       "<p>5 rows × 26 columns</p>\n",
       "</div>"
      ],
      "text/plain": [
       "    id    zip  zip_bins   sex  bizflag  numords  dollars  last  sincepurch  \\\n",
       "2    3  37091         8  Male        0        4     93.0    14          29   \n",
       "4    5  60201        11  Male        0        1     24.5     2           3   \n",
       "11  12  91942        17  Male        1        5     79.0     5          21   \n",
       "12  13  27262         6  Male        0        1     38.0     5          22   \n",
       "14  15  93535        18  Male        0        2     40.5    10           6   \n",
       "\n",
       "    version1  ...  freq_iq  mon_iq rfm_iq  freq_sq  mon_sq  rfm_sq  \\\n",
       "2          0  ...        1       2    312        1       5     315   \n",
       "4          0  ...        5       5    155        5       4     154   \n",
       "11         0  ...        1       3    113        1       5     115   \n",
       "12         1  ...        5       4    154        5       3     153   \n",
       "14         0  ...        3       4    234        3       5     235   \n",
       "\n",
       "    rfm_iq_resp  emailto_iq rfm_sq_resp  emailto_sq  \n",
       "2      0.067568        True    0.069307        True  \n",
       "4      0.049226        True    0.050532        True  \n",
       "11     0.180451        True    0.144231        True  \n",
       "12     0.057208        True    0.061644        True  \n",
       "14     0.036765       False    0.054622        True  \n",
       "\n",
       "[5 rows x 26 columns]"
      ]
     },
     "execution_count": 93,
     "metadata": {},
     "output_type": "execute_result"
    }
   ],
   "source": [
    "intuit75k_testdf_2b = intuit75k_testdf_2[intuit75k_testdf_2['emailto_sq'] == True]\n",
    "intuit75k_testdf_2b.head()"
   ]
  },
  {
   "cell_type": "code",
   "execution_count": 94,
   "metadata": {},
   "outputs": [
    {
     "data": {
      "text/plain": [
       "(31373.61, 2.322871618545)"
      ]
     },
     "execution_count": 94,
     "metadata": {},
     "output_type": "execute_result"
    }
   ],
   "source": [
    "\n",
    "perc_emails_sq = len(intuit75k_testdf_2b)/len(intuit75k_testdf_2)\n",
    "nr_emails_sq = len(intuit75k_testdf_2b)# total number of emails that would be sent out\n",
    "email_cost_sq = cost*nr_emails_sq # cost of sending an email (float)\n",
    "response_rate_sq = intuit75k_testdf_2b['res1_yes'].value_counts(normalize = True)[1]\n",
    "nr_responses_sq = response_rate_sq * nr_emails_sq # total number of positive responses\n",
    "revenue_sq = margin*nr_responses_sq# total revenue \n",
    "profit_sq = margin * nr_responses_sq - email_cost_sq# total profit \n",
    "ROME_sq = profit_sq/email_cost_sq# Return on Marketing Expenditures expressed as a proportion (no rounding)\n",
    "\n",
    "profit_sq, ROME_sq"
   ]
  },
  {
   "cell_type": "code",
   "execution_count": 95,
   "metadata": {},
   "outputs": [
    {
     "name": "stdout",
     "output_type": "stream",
     "text": [
      "Quickbooks would sms all 9,579 (42.57%) customers. The response rate for the selected customers is predicted to be 7.81% or 748\n",
      "buyers. The revenue is equal to $44,880. The expected profit is $31,373. The emai; cost is estimated to be $13,506 with a ROME of 232.29%\n"
     ]
    }
   ],
   "source": [
    "print(\n",
    "    f\"\"\"Quickbooks would sms all {int(nr_emails_sq):,} ({round((100 * perc_emails_sq), 2)}%) customers. The response rate for the selected customers is predicted to be {round((100 * response_rate_sq), 2)}% or {int(nr_responses_sq):,}\n",
    "buyers. The revenue is equal to ${int(revenue_sq):,}. The expected profit is ${int(profit_sq):,}. The emai; cost is estimated to be ${int(email_cost_sq):,} with a ROME of {round((100 * ROME_sq), 2)}%\"\"\"\n",
    ")"
   ]
  },
  {
   "cell_type": "code",
   "execution_count": 96,
   "metadata": {},
   "outputs": [
    {
     "data": {
      "text/plain": [
       "311880181.3842"
      ]
     },
     "execution_count": 96,
     "metadata": {},
     "output_type": "execute_result"
    }
   ],
   "source": [
    "#wave2\n",
    "scale1_sq = round((100 * perc_emails_sq), 2)\n",
    "scale2_sq = round((100 * response_rate_sq), 2) \n",
    "tot_emails = 801821 - 38487\n",
    "total_cost_sq = scale1_sq*tot_emails*cost\n",
    "total_revenue2 = tot_emails*scale2_sq*margin\n",
    "profit2 = total_revenue2 - total_cost_sq\n",
    "profit2"
   ]
  },
  {
   "cell_type": "markdown",
   "metadata": {},
   "source": [
    " After running analysis on the data, we find the response rate, expected revenue and profit for the three scenarios: \n",
    "\n",
    "Without RFM analysis, Quickbooks would mail all 22,500 (100%) customers. The response rate for the selected customers is predicted to be 4.9% or 1,103 buyers. The revenue is equal to  64,624.The expected profit is 32,899. The email cost is estimated to be  31,725 with a ROME of 103.7%. \n",
    "\n",
    "With IQ targeting, Quickbooks would mail all 17,983 (79.92%) customers. The response rate for the selected customers is predicted to be 5.67% or 1,020\n",
    "buyers. The revenue is equal to 61,200. The expected profit is  35,843. The email cost is estimated to be 25,356 with a ROME of 141.36%\n",
    "\n",
    "With SQ targeting, Quickbooks would mail all 18,188 (80.84%) customers. The response rate for the selected customers is predicted to be 5.62% or 1,022\n",
    "buyers. The revenue is equal to 61,320. The expected profit is 35,674. The email cost is estimated to be 25,645 with a ROME of 139.11%\n",
    "\n",
    "We can observe that without RFM Quickbooks would mail all customer without RFM analysis whereas with IQ and SQ cells it is 80%. IQ and SQ analysis result in nearly the same target percentage rate, revenue and expected profit. \n",
    "Hence it is indeed beneficial to use RFM analysis for targetting. "
   ]
  },
  {
   "cell_type": "markdown",
   "metadata": {},
   "source": [
    "#### Why try models apart from RFM?"
   ]
  },
  {
   "cell_type": "markdown",
   "metadata": {},
   "source": [
    "The result of modeling using RFM is that Intuit will mail to their most responsive customers, and will neglect all of the others. That means that they will get absolutely no attention, and will eventually end up losing them. This is OK for few customers, who are worthless anyway. But Intuit would want to try to hang on to the rest of their customers who, with a little attention can be persuaded to move up to a more profitable RFM cell. Our marketing should be designed to encourage customers in some cells to do just that."
   ]
  },
  {
   "cell_type": "markdown",
   "metadata": {},
   "source": [
    "### LOGISTIC REGRESSION"
   ]
  },
  {
   "cell_type": "markdown",
   "metadata": {},
   "source": [
    "Logistic regression is an statistical analysis used for predictive analytics and modeling. This approach is known to be little more exact than the previous model we explored (RFM) given that it serves to understand the relationship between a dependent variable (response variable), which is 'res1_yes' in our case and one or more independent variables. \n",
    "\n",
    "This allow us to predict the likelihood of an event happening or choice being made, based on the the observed data. In this case will allow us to determine accordingly which variables in the explored data will provide weight (positively or negatively) toward making a decision on purchasing the latest version of the Quickbooks software."
   ]
  },
  {
   "cell_type": "markdown",
   "metadata": {},
   "source": [
    "#### Standardize values\n",
    "\n",
    "When dealing with multiple variables it is important to standardize the values in order to better scale the impact that the variables with greater scale will come to affect the response variable and therefore be able to compare the impact that each variable assigned in the logistic regression more precisely."
   ]
  },
  {
   "cell_type": "code",
   "execution_count": 97,
   "metadata": {},
   "outputs": [],
   "source": [
    "# select variables to standardize\n",
    "to_std = intuit75k.loc[:, \"numords\":\"sincepurch\"].columns\n",
    "intuit75k_std = intuit75k.copy()\n",
    "intuit75k_std[to_std] = rsm.scale_df(\n",
    "    intuit75k[to_std], sf=1, train=intuit75k.training == 1\n",
    ")"
   ]
  },
  {
   "cell_type": "code",
   "execution_count": 98,
   "metadata": {},
   "outputs": [
    {
     "data": {
      "text/html": [
       "<div>\n",
       "<style scoped>\n",
       "    .dataframe tbody tr th:only-of-type {\n",
       "        vertical-align: middle;\n",
       "    }\n",
       "\n",
       "    .dataframe tbody tr th {\n",
       "        vertical-align: top;\n",
       "    }\n",
       "\n",
       "    .dataframe thead th {\n",
       "        text-align: right;\n",
       "    }\n",
       "</style>\n",
       "<table border=\"1\" class=\"dataframe\">\n",
       "  <thead>\n",
       "    <tr style=\"text-align: right;\">\n",
       "      <th></th>\n",
       "      <th>id</th>\n",
       "      <th>zip</th>\n",
       "      <th>zip_bins</th>\n",
       "      <th>sex</th>\n",
       "      <th>bizflag</th>\n",
       "      <th>numords</th>\n",
       "      <th>dollars</th>\n",
       "      <th>last</th>\n",
       "      <th>sincepurch</th>\n",
       "      <th>version1</th>\n",
       "      <th>...</th>\n",
       "      <th>res1</th>\n",
       "      <th>training</th>\n",
       "      <th>res1_yes</th>\n",
       "      <th>rec_iq</th>\n",
       "      <th>freq_iq</th>\n",
       "      <th>mon_iq</th>\n",
       "      <th>rfm_iq</th>\n",
       "      <th>freq_sq</th>\n",
       "      <th>mon_sq</th>\n",
       "      <th>rfm_sq</th>\n",
       "    </tr>\n",
       "  </thead>\n",
       "  <tbody>\n",
       "    <tr>\n",
       "      <th>0</th>\n",
       "      <td>1</td>\n",
       "      <td>94553</td>\n",
       "      <td>18</td>\n",
       "      <td>Male</td>\n",
       "      <td>0</td>\n",
       "      <td>-0.057079</td>\n",
       "      <td>0.207902</td>\n",
       "      <td>-1.137183</td>\n",
       "      <td>-0.360809</td>\n",
       "      <td>0</td>\n",
       "      <td>...</td>\n",
       "      <td>No</td>\n",
       "      <td>1</td>\n",
       "      <td>0</td>\n",
       "      <td>1</td>\n",
       "      <td>3</td>\n",
       "      <td>2</td>\n",
       "      <td>132</td>\n",
       "      <td>4</td>\n",
       "      <td>2</td>\n",
       "      <td>142</td>\n",
       "    </tr>\n",
       "    <tr>\n",
       "      <th>1</th>\n",
       "      <td>2</td>\n",
       "      <td>53190</td>\n",
       "      <td>10</td>\n",
       "      <td>Unknown</td>\n",
       "      <td>0</td>\n",
       "      <td>-0.863720</td>\n",
       "      <td>-0.286561</td>\n",
       "      <td>-1.241930</td>\n",
       "      <td>-1.258669</td>\n",
       "      <td>0</td>\n",
       "      <td>...</td>\n",
       "      <td>No</td>\n",
       "      <td>0</td>\n",
       "      <td>0</td>\n",
       "      <td>1</td>\n",
       "      <td>5</td>\n",
       "      <td>3</td>\n",
       "      <td>153</td>\n",
       "      <td>5</td>\n",
       "      <td>2</td>\n",
       "      <td>152</td>\n",
       "    </tr>\n",
       "    <tr>\n",
       "      <th>2</th>\n",
       "      <td>3</td>\n",
       "      <td>37091</td>\n",
       "      <td>8</td>\n",
       "      <td>Male</td>\n",
       "      <td>0</td>\n",
       "      <td>1.556202</td>\n",
       "      <td>0.003936</td>\n",
       "      <td>-0.194459</td>\n",
       "      <td>1.335150</td>\n",
       "      <td>0</td>\n",
       "      <td>...</td>\n",
       "      <td>No</td>\n",
       "      <td>0</td>\n",
       "      <td>0</td>\n",
       "      <td>3</td>\n",
       "      <td>1</td>\n",
       "      <td>2</td>\n",
       "      <td>312</td>\n",
       "      <td>1</td>\n",
       "      <td>5</td>\n",
       "      <td>315</td>\n",
       "    </tr>\n",
       "    <tr>\n",
       "      <th>3</th>\n",
       "      <td>4</td>\n",
       "      <td>02125</td>\n",
       "      <td>1</td>\n",
       "      <td>Male</td>\n",
       "      <td>0</td>\n",
       "      <td>-0.863720</td>\n",
       "      <td>-0.873735</td>\n",
       "      <td>0.119783</td>\n",
       "      <td>-1.458194</td>\n",
       "      <td>0</td>\n",
       "      <td>...</td>\n",
       "      <td>No</td>\n",
       "      <td>1</td>\n",
       "      <td>0</td>\n",
       "      <td>3</td>\n",
       "      <td>5</td>\n",
       "      <td>5</td>\n",
       "      <td>355</td>\n",
       "      <td>5</td>\n",
       "      <td>4</td>\n",
       "      <td>354</td>\n",
       "    </tr>\n",
       "    <tr>\n",
       "      <th>4</th>\n",
       "      <td>5</td>\n",
       "      <td>60201</td>\n",
       "      <td>11</td>\n",
       "      <td>Male</td>\n",
       "      <td>0</td>\n",
       "      <td>-0.863720</td>\n",
       "      <td>-0.842831</td>\n",
       "      <td>-1.451425</td>\n",
       "      <td>-1.258669</td>\n",
       "      <td>0</td>\n",
       "      <td>...</td>\n",
       "      <td>No</td>\n",
       "      <td>0</td>\n",
       "      <td>0</td>\n",
       "      <td>1</td>\n",
       "      <td>5</td>\n",
       "      <td>5</td>\n",
       "      <td>155</td>\n",
       "      <td>5</td>\n",
       "      <td>4</td>\n",
       "      <td>154</td>\n",
       "    </tr>\n",
       "  </tbody>\n",
       "</table>\n",
       "<p>5 rows × 22 columns</p>\n",
       "</div>"
      ],
      "text/plain": [
       "   id    zip  zip_bins      sex  bizflag   numords   dollars      last  \\\n",
       "0   1  94553        18     Male        0 -0.057079  0.207902 -1.137183   \n",
       "1   2  53190        10  Unknown        0 -0.863720 -0.286561 -1.241930   \n",
       "2   3  37091         8     Male        0  1.556202  0.003936 -0.194459   \n",
       "3   4  02125         1     Male        0 -0.863720 -0.873735  0.119783   \n",
       "4   5  60201        11     Male        0 -0.863720 -0.842831 -1.451425   \n",
       "\n",
       "   sincepurch  version1  ...  res1  training res1_yes  rec_iq  freq_iq  \\\n",
       "0   -0.360809         0  ...    No         1        0       1        3   \n",
       "1   -1.258669         0  ...    No         0        0       1        5   \n",
       "2    1.335150         0  ...    No         0        0       3        1   \n",
       "3   -1.458194         0  ...    No         1        0       3        5   \n",
       "4   -1.258669         0  ...    No         0        0       1        5   \n",
       "\n",
       "   mon_iq  rfm_iq  freq_sq mon_sq  rfm_sq  \n",
       "0       2     132        4      2     142  \n",
       "1       3     153        5      2     152  \n",
       "2       2     312        1      5     315  \n",
       "3       5     355        5      4     354  \n",
       "4       5     155        5      4     154  \n",
       "\n",
       "[5 rows x 22 columns]"
      ]
     },
     "execution_count": 98,
     "metadata": {},
     "output_type": "execute_result"
    }
   ],
   "source": [
    "intuit75k_std.head()"
   ]
  },
  {
   "cell_type": "code",
   "execution_count": 99,
   "metadata": {},
   "outputs": [],
   "source": [
    "intuit75k_std_df1 = intuit75k_std[intuit75k_std['training'] == 1]"
   ]
  },
  {
   "cell_type": "code",
   "execution_count": 100,
   "metadata": {},
   "outputs": [
    {
     "name": "stdout",
     "output_type": "stream",
     "text": [
      "        index     OR     OR%   2.5%  97.5% p.values     \n",
      "1    zip_bins  0.946   -5.4%  0.939  0.953   < .001  ***\n",
      "2     numords  1.320   32.0%  1.262  1.382   < .001  ***\n",
      "3     dollars  1.082    8.2%  1.037  1.129   < .001  ***\n",
      "4        last  0.666  -33.4%  0.637  0.696   < .001  ***\n",
      "5    version1  2.156  115.6%  1.948  2.385   < .001  ***\n",
      "6  owntaxprod  1.361   36.1%  1.118  1.659    0.002   **\n",
      "7    upgraded  2.631  163.1%  2.387  2.900   < .001  ***\n"
     ]
    }
   ],
   "source": [
    "lr_std = smf.glm(\n",
    "    formula=\"res1_yes ~ zip_bins + numords + dollars + last + version1 + owntaxprod + upgraded\",\n",
    "    family=Binomial(link=logit()),\n",
    "    data=intuit75k_std_df1,\n",
    ").fit()\n",
    "print(rsm.or_ci(lr_std))"
   ]
  },
  {
   "cell_type": "code",
   "execution_count": 101,
   "metadata": {},
   "outputs": [
    {
     "data": {
      "text/html": [
       "<div>\n",
       "<style scoped>\n",
       "    .dataframe tbody tr th:only-of-type {\n",
       "        vertical-align: middle;\n",
       "    }\n",
       "\n",
       "    .dataframe tbody tr th {\n",
       "        vertical-align: top;\n",
       "    }\n",
       "\n",
       "    .dataframe thead th {\n",
       "        text-align: right;\n",
       "    }\n",
       "</style>\n",
       "<table border=\"1\" class=\"dataframe\">\n",
       "  <thead>\n",
       "    <tr style=\"text-align: right;\">\n",
       "      <th></th>\n",
       "      <th>variable</th>\n",
       "      <th>vif</th>\n",
       "      <th>Rsq</th>\n",
       "    </tr>\n",
       "  </thead>\n",
       "  <tbody>\n",
       "    <tr>\n",
       "      <th>0</th>\n",
       "      <td>numords</td>\n",
       "      <td>1.558</td>\n",
       "      <td>0.358</td>\n",
       "    </tr>\n",
       "    <tr>\n",
       "      <th>1</th>\n",
       "      <td>dollars</td>\n",
       "      <td>1.527</td>\n",
       "      <td>0.345</td>\n",
       "    </tr>\n",
       "    <tr>\n",
       "      <th>2</th>\n",
       "      <td>upgraded</td>\n",
       "      <td>1.082</td>\n",
       "      <td>0.075</td>\n",
       "    </tr>\n",
       "    <tr>\n",
       "      <th>3</th>\n",
       "      <td>version1</td>\n",
       "      <td>1.081</td>\n",
       "      <td>0.075</td>\n",
       "    </tr>\n",
       "    <tr>\n",
       "      <th>4</th>\n",
       "      <td>owntaxprod</td>\n",
       "      <td>1.027</td>\n",
       "      <td>0.026</td>\n",
       "    </tr>\n",
       "    <tr>\n",
       "      <th>5</th>\n",
       "      <td>last</td>\n",
       "      <td>1.017</td>\n",
       "      <td>0.017</td>\n",
       "    </tr>\n",
       "    <tr>\n",
       "      <th>6</th>\n",
       "      <td>zip_bins</td>\n",
       "      <td>1.000</td>\n",
       "      <td>0.000</td>\n",
       "    </tr>\n",
       "  </tbody>\n",
       "</table>\n",
       "</div>"
      ],
      "text/plain": [
       "     variable    vif    Rsq\n",
       "0     numords  1.558  0.358\n",
       "1     dollars  1.527  0.345\n",
       "2    upgraded  1.082  0.075\n",
       "3    version1  1.081  0.075\n",
       "4  owntaxprod  1.027  0.026\n",
       "5        last  1.017  0.017\n",
       "6    zip_bins  1.000  0.000"
      ]
     },
     "execution_count": 101,
     "metadata": {},
     "output_type": "execute_result"
    }
   ],
   "source": [
    "rsm.vif(lr_std)"
   ]
  },
  {
   "cell_type": "code",
   "execution_count": 102,
   "metadata": {},
   "outputs": [
    {
     "data": {
      "text/html": [
       "<div>\n",
       "<style scoped>\n",
       "    .dataframe tbody tr th:only-of-type {\n",
       "        vertical-align: middle;\n",
       "    }\n",
       "\n",
       "    .dataframe tbody tr th {\n",
       "        vertical-align: top;\n",
       "    }\n",
       "\n",
       "    .dataframe thead th {\n",
       "        text-align: right;\n",
       "    }\n",
       "</style>\n",
       "<table border=\"1\" class=\"dataframe\">\n",
       "  <thead>\n",
       "    <tr style=\"text-align: right;\">\n",
       "      <th></th>\n",
       "      <th>index</th>\n",
       "      <th>OR</th>\n",
       "      <th>OR%</th>\n",
       "      <th>2.5%</th>\n",
       "      <th>97.5%</th>\n",
       "      <th>p.values</th>\n",
       "      <th></th>\n",
       "    </tr>\n",
       "  </thead>\n",
       "  <tbody>\n",
       "    <tr>\n",
       "      <th>1</th>\n",
       "      <td>zip_bins</td>\n",
       "      <td>0.946</td>\n",
       "      <td>-5.4%</td>\n",
       "      <td>0.939</td>\n",
       "      <td>0.953</td>\n",
       "      <td>&lt; .001</td>\n",
       "      <td>***</td>\n",
       "    </tr>\n",
       "    <tr>\n",
       "      <th>2</th>\n",
       "      <td>numords</td>\n",
       "      <td>1.320</td>\n",
       "      <td>32.0%</td>\n",
       "      <td>1.262</td>\n",
       "      <td>1.382</td>\n",
       "      <td>&lt; .001</td>\n",
       "      <td>***</td>\n",
       "    </tr>\n",
       "    <tr>\n",
       "      <th>3</th>\n",
       "      <td>dollars</td>\n",
       "      <td>1.082</td>\n",
       "      <td>8.2%</td>\n",
       "      <td>1.037</td>\n",
       "      <td>1.129</td>\n",
       "      <td>&lt; .001</td>\n",
       "      <td>***</td>\n",
       "    </tr>\n",
       "    <tr>\n",
       "      <th>4</th>\n",
       "      <td>last</td>\n",
       "      <td>0.666</td>\n",
       "      <td>-33.4%</td>\n",
       "      <td>0.637</td>\n",
       "      <td>0.696</td>\n",
       "      <td>&lt; .001</td>\n",
       "      <td>***</td>\n",
       "    </tr>\n",
       "    <tr>\n",
       "      <th>5</th>\n",
       "      <td>version1</td>\n",
       "      <td>2.156</td>\n",
       "      <td>115.6%</td>\n",
       "      <td>1.948</td>\n",
       "      <td>2.385</td>\n",
       "      <td>&lt; .001</td>\n",
       "      <td>***</td>\n",
       "    </tr>\n",
       "    <tr>\n",
       "      <th>6</th>\n",
       "      <td>owntaxprod</td>\n",
       "      <td>1.361</td>\n",
       "      <td>36.1%</td>\n",
       "      <td>1.118</td>\n",
       "      <td>1.659</td>\n",
       "      <td>0.002</td>\n",
       "      <td>**</td>\n",
       "    </tr>\n",
       "    <tr>\n",
       "      <th>7</th>\n",
       "      <td>upgraded</td>\n",
       "      <td>2.631</td>\n",
       "      <td>163.1%</td>\n",
       "      <td>2.387</td>\n",
       "      <td>2.900</td>\n",
       "      <td>&lt; .001</td>\n",
       "      <td>***</td>\n",
       "    </tr>\n",
       "  </tbody>\n",
       "</table>\n",
       "</div>"
      ],
      "text/plain": [
       "        index     OR     OR%   2.5%  97.5% p.values     \n",
       "1    zip_bins  0.946   -5.4%  0.939  0.953   < .001  ***\n",
       "2     numords  1.320   32.0%  1.262  1.382   < .001  ***\n",
       "3     dollars  1.082    8.2%  1.037  1.129   < .001  ***\n",
       "4        last  0.666  -33.4%  0.637  0.696   < .001  ***\n",
       "5    version1  2.156  115.6%  1.948  2.385   < .001  ***\n",
       "6  owntaxprod  1.361   36.1%  1.118  1.659    0.002   **\n",
       "7    upgraded  2.631  163.1%  2.387  2.900   < .001  ***"
      ]
     },
     "execution_count": 102,
     "metadata": {},
     "output_type": "execute_result"
    }
   ],
   "source": [
    "odd_ratio_std_df = rsm.or_ci(lr_std)\n",
    "odd_ratio_std_df"
   ]
  },
  {
   "cell_type": "code",
   "execution_count": 103,
   "metadata": {},
   "outputs": [
    {
     "data": {
      "text/plain": [
       "<AxesSubplot:xlabel='Odds-ratio'>"
      ]
     },
     "execution_count": 103,
     "metadata": {},
     "output_type": "execute_result"
    },
    {
     "data": {
      "image/png": "[encoded data removed]",
      "text/plain": [
       "<Figure size 432x288 with 1 Axes>"
      ]
     },
     "metadata": {
      "needs_background": "light"
     },
     "output_type": "display_data"
    }
   ],
   "source": [
    "rsm.or_plot(lr_std)"
   ]
  },
  {
   "cell_type": "code",
   "execution_count": 104,
   "metadata": {
    "scrolled": true
   },
   "outputs": [
    {
     "name": "stdout",
     "output_type": "stream",
     "text": [
      "\n",
      "Pseudo R-squared (McFadden): 0.071\n",
      "Pseudo R-squared (McFadden adjusted): 0.07\n",
      "Area under the RO Curve (AUC): 17.485\n",
      "Log-likelihood: -9332.69, AIC: 18681.379, BIC: 18752.328\n",
      "Chi-squared: 52777.974 df(7), p.value < 0.001 \n",
      "Nr obs: 52,500\n",
      "\n"
     ]
    },
    {
     "name": "stderr",
     "output_type": "stream",
     "text": [
      "C:\\ProgramData\\Anaconda3\\lib\\site-packages\\pyrsm\\perf.py:678: RuntimeWarning: overflow encountered in long_scalars\n",
      "  U = np.sum(rankdata(pred)[rvar == False]) - n1 * (n1 + 1) / 2\n"
     ]
    }
   ],
   "source": [
    "rsm.model_fit(lr_std)"
   ]
  },
  {
   "cell_type": "markdown",
   "metadata": {},
   "source": [
    "After running this standardized logistic regression we are able to appreciate that from all the variables selected they all seem to be statistically significant to describe the response variable given that their p-values are found to be really low, except for one exemption - 'owntaxprod' which even thought it has a p-value of 0.002 (which is still significant) does not perform as well as the rest of the variables."
   ]
  },
  {
   "cell_type": "markdown",
   "metadata": {},
   "source": [
    "#### Standardize values - Taking out owntaxprod, given the p-value found above"
   ]
  },
  {
   "cell_type": "code",
   "execution_count": 105,
   "metadata": {
    "scrolled": true
   },
   "outputs": [
    {
     "name": "stdout",
     "output_type": "stream",
     "text": [
      "      index     OR     OR%   2.5%  97.5% p.values     \n",
      "1  zip_bins  0.946   -5.4%  0.940  0.953   < .001  ***\n",
      "2   numords  1.327   32.7%  1.269  1.389   < .001  ***\n",
      "3   dollars  1.083    8.3%  1.038  1.129   < .001  ***\n",
      "4      last  0.666  -33.4%  0.637  0.696   < .001  ***\n",
      "5  version1  2.132  113.2%  1.927  2.358   < .001  ***\n",
      "6  upgraded  2.665  166.5%  2.419  2.937   < .001  ***\n"
     ]
    }
   ],
   "source": [
    "lr_std_df2 = smf.glm(\n",
    "    formula=\"res1_yes ~ zip_bins + numords + dollars + last + version1 + upgraded\",\n",
    "    family=Binomial(link=logit()),\n",
    "    data=intuit75k_std_df1,\n",
    ").fit()\n",
    "print(rsm.or_ci(lr_std_df2))"
   ]
  },
  {
   "cell_type": "markdown",
   "metadata": {},
   "source": [
    "After taking out 'owntaxprod' variable we now get a model with all values being strongly statistically significant to describe the response variable given that their p-values are found to be really low."
   ]
  },
  {
   "cell_type": "code",
   "execution_count": 106,
   "metadata": {
    "scrolled": true
   },
   "outputs": [
    {
     "data": {
      "text/html": [
       "<div>\n",
       "<style scoped>\n",
       "    .dataframe tbody tr th:only-of-type {\n",
       "        vertical-align: middle;\n",
       "    }\n",
       "\n",
       "    .dataframe tbody tr th {\n",
       "        vertical-align: top;\n",
       "    }\n",
       "\n",
       "    .dataframe thead th {\n",
       "        text-align: right;\n",
       "    }\n",
       "</style>\n",
       "<table border=\"1\" class=\"dataframe\">\n",
       "  <thead>\n",
       "    <tr style=\"text-align: right;\">\n",
       "      <th></th>\n",
       "      <th>variable</th>\n",
       "      <th>vif</th>\n",
       "      <th>Rsq</th>\n",
       "    </tr>\n",
       "  </thead>\n",
       "  <tbody>\n",
       "    <tr>\n",
       "      <th>0</th>\n",
       "      <td>numords</td>\n",
       "      <td>1.544</td>\n",
       "      <td>0.353</td>\n",
       "    </tr>\n",
       "    <tr>\n",
       "      <th>1</th>\n",
       "      <td>dollars</td>\n",
       "      <td>1.527</td>\n",
       "      <td>0.345</td>\n",
       "    </tr>\n",
       "    <tr>\n",
       "      <th>2</th>\n",
       "      <td>version1</td>\n",
       "      <td>1.076</td>\n",
       "      <td>0.071</td>\n",
       "    </tr>\n",
       "    <tr>\n",
       "      <th>3</th>\n",
       "      <td>upgraded</td>\n",
       "      <td>1.076</td>\n",
       "      <td>0.071</td>\n",
       "    </tr>\n",
       "    <tr>\n",
       "      <th>4</th>\n",
       "      <td>last</td>\n",
       "      <td>1.017</td>\n",
       "      <td>0.017</td>\n",
       "    </tr>\n",
       "    <tr>\n",
       "      <th>5</th>\n",
       "      <td>zip_bins</td>\n",
       "      <td>1.000</td>\n",
       "      <td>0.000</td>\n",
       "    </tr>\n",
       "  </tbody>\n",
       "</table>\n",
       "</div>"
      ],
      "text/plain": [
       "   variable    vif    Rsq\n",
       "0   numords  1.544  0.353\n",
       "1   dollars  1.527  0.345\n",
       "2  version1  1.076  0.071\n",
       "3  upgraded  1.076  0.071\n",
       "4      last  1.017  0.017\n",
       "5  zip_bins  1.000  0.000"
      ]
     },
     "execution_count": 106,
     "metadata": {},
     "output_type": "execute_result"
    }
   ],
   "source": [
    "rsm.vif(lr_std_df2)"
   ]
  },
  {
   "cell_type": "markdown",
   "metadata": {},
   "source": [
    "Multicollinearity reduces the precision of the estimated coefficients, which weakens the statistical power of the regression model. This reduces trust on the p-values identified to be actually statistically significant. This being said, after running the variance influence factor, we can see that the variables selected in this logistic regression seem to be low, demonstrating that there is no concerns of multicollinearity found on the variables included in the model.\n",
    "\n",
    "Additionally we can explore that the variables with the highest R-squared are 'dollars' and 'numords' which indicates they have the highest influence and representation on the response variables."
   ]
  },
  {
   "cell_type": "code",
   "execution_count": 107,
   "metadata": {
    "scrolled": true
   },
   "outputs": [
    {
     "data": {
      "text/html": [
       "<div>\n",
       "<style scoped>\n",
       "    .dataframe tbody tr th:only-of-type {\n",
       "        vertical-align: middle;\n",
       "    }\n",
       "\n",
       "    .dataframe tbody tr th {\n",
       "        vertical-align: top;\n",
       "    }\n",
       "\n",
       "    .dataframe thead th {\n",
       "        text-align: right;\n",
       "    }\n",
       "</style>\n",
       "<table border=\"1\" class=\"dataframe\">\n",
       "  <thead>\n",
       "    <tr style=\"text-align: right;\">\n",
       "      <th></th>\n",
       "      <th>index</th>\n",
       "      <th>OR</th>\n",
       "      <th>OR%</th>\n",
       "      <th>2.5%</th>\n",
       "      <th>97.5%</th>\n",
       "      <th>p.values</th>\n",
       "      <th></th>\n",
       "    </tr>\n",
       "  </thead>\n",
       "  <tbody>\n",
       "    <tr>\n",
       "      <th>1</th>\n",
       "      <td>zip_bins</td>\n",
       "      <td>0.946</td>\n",
       "      <td>-5.4%</td>\n",
       "      <td>0.940</td>\n",
       "      <td>0.953</td>\n",
       "      <td>&lt; .001</td>\n",
       "      <td>***</td>\n",
       "    </tr>\n",
       "    <tr>\n",
       "      <th>2</th>\n",
       "      <td>numords</td>\n",
       "      <td>1.327</td>\n",
       "      <td>32.7%</td>\n",
       "      <td>1.269</td>\n",
       "      <td>1.389</td>\n",
       "      <td>&lt; .001</td>\n",
       "      <td>***</td>\n",
       "    </tr>\n",
       "    <tr>\n",
       "      <th>3</th>\n",
       "      <td>dollars</td>\n",
       "      <td>1.083</td>\n",
       "      <td>8.3%</td>\n",
       "      <td>1.038</td>\n",
       "      <td>1.129</td>\n",
       "      <td>&lt; .001</td>\n",
       "      <td>***</td>\n",
       "    </tr>\n",
       "    <tr>\n",
       "      <th>4</th>\n",
       "      <td>last</td>\n",
       "      <td>0.666</td>\n",
       "      <td>-33.4%</td>\n",
       "      <td>0.637</td>\n",
       "      <td>0.696</td>\n",
       "      <td>&lt; .001</td>\n",
       "      <td>***</td>\n",
       "    </tr>\n",
       "    <tr>\n",
       "      <th>5</th>\n",
       "      <td>version1</td>\n",
       "      <td>2.132</td>\n",
       "      <td>113.2%</td>\n",
       "      <td>1.927</td>\n",
       "      <td>2.358</td>\n",
       "      <td>&lt; .001</td>\n",
       "      <td>***</td>\n",
       "    </tr>\n",
       "    <tr>\n",
       "      <th>6</th>\n",
       "      <td>upgraded</td>\n",
       "      <td>2.665</td>\n",
       "      <td>166.5%</td>\n",
       "      <td>2.419</td>\n",
       "      <td>2.937</td>\n",
       "      <td>&lt; .001</td>\n",
       "      <td>***</td>\n",
       "    </tr>\n",
       "  </tbody>\n",
       "</table>\n",
       "</div>"
      ],
      "text/plain": [
       "      index     OR     OR%   2.5%  97.5% p.values     \n",
       "1  zip_bins  0.946   -5.4%  0.940  0.953   < .001  ***\n",
       "2   numords  1.327   32.7%  1.269  1.389   < .001  ***\n",
       "3   dollars  1.083    8.3%  1.038  1.129   < .001  ***\n",
       "4      last  0.666  -33.4%  0.637  0.696   < .001  ***\n",
       "5  version1  2.132  113.2%  1.927  2.358   < .001  ***\n",
       "6  upgraded  2.665  166.5%  2.419  2.937   < .001  ***"
      ]
     },
     "execution_count": 107,
     "metadata": {},
     "output_type": "execute_result"
    }
   ],
   "source": [
    "odd_ratio_std_df2 = rsm.or_ci(lr_std_df2)\n",
    "odd_ratio_std_df2"
   ]
  },
  {
   "cell_type": "markdown",
   "metadata": {},
   "source": [
    "#### Odd-Ratio Interpretation\n",
    "\n",
    "##### The most important variable seem to be 'version1' (2.132), 'upgraded' (2.665) . They seem to be the ones causing the greatest reaction to the response variable.\n",
    "\n",
    "- 'version1' causing an increase of 113.2% on response variable 'res1-yes'. This means that if a customer has the version 1 is more likely to go ahead with the offer compared to the one's that have version 2.\n",
    "\n",
    "- 'upgraded' causing an increase of 166.5% on response variable 'res1-yes'. This means that a customer upgraded from version 1 to version 2 is more likely to go ahead with the offer compared to those who did not previously participated in the upgrade.\n",
    "\n",
    "\n",
    "##### While the least important variables seem to be 'zip_bins' (0.946) and 'dollars' (1.083)\n",
    "\n",
    "- 'zip_bins' causing an decrease of 5.4% on response variable 'res1-yes'. This means binned zip code variable will not be as relevant to dictate the likelihood of going ahead with the offer\n",
    "\n",
    "- 'dollars' causing an increase of 8.3% on response variable 'res1-yes'. This means that the total amount ordered from Intuit Direct n the previous months would not be as relevant for the customer to go ahead with the offer.\n",
    "\n",
    "##### The variables 'numords' (1.389), 'last' (0.637) will have a medium importance\n",
    "\n",
    "- 'numords' causing an increase of 38.9% on response variable 'res1-yes'. This means that customers with the higher number of orders from Intuit Direct in the previous 36 months are more likely to go ahead with the offer compared to the one's that have version 2.\n",
    "\n",
    "- 'last' causing an decrease of 33.4% on response variable 'res1-yes'. This means that the more time it has been since the customers last ordered from Intuit Direct the less likely to go ahead with the offer compared to the one's that have version 2."
   ]
  },
  {
   "cell_type": "code",
   "execution_count": 108,
   "metadata": {},
   "outputs": [
    {
     "data": {
      "text/plain": [
       "<AxesSubplot:xlabel='Odds-ratio'>"
      ]
     },
     "execution_count": 108,
     "metadata": {},
     "output_type": "execute_result"
    },
    {
     "data": {
      "image/png": "[encoded data removed]",
      "text/plain": [
       "<Figure size 432x288 with 1 Axes>"
      ]
     },
     "metadata": {
      "needs_background": "light"
     },
     "output_type": "display_data"
    }
   ],
   "source": [
    "rsm.or_plot(lr_std_df2)"
   ]
  },
  {
   "cell_type": "code",
   "execution_count": 109,
   "metadata": {},
   "outputs": [
    {
     "name": "stdout",
     "output_type": "stream",
     "text": [
      "\n",
      "Pseudo R-squared (McFadden): 0.07\n",
      "Pseudo R-squared (McFadden adjusted): 0.07\n",
      "Area under the RO Curve (AUC): 17.485\n",
      "Log-likelihood: -9337.08, AIC: 18688.16, BIC: 18750.24\n",
      "Chi-squared: 52843.925 df(6), p.value < 0.001 \n",
      "Nr obs: 52,500\n",
      "\n"
     ]
    },
    {
     "name": "stderr",
     "output_type": "stream",
     "text": [
      "C:\\ProgramData\\Anaconda3\\lib\\site-packages\\pyrsm\\perf.py:678: RuntimeWarning: overflow encountered in long_scalars\n",
      "  U = np.sum(rankdata(pred)[rvar == False]) - n1 * (n1 + 1) / 2\n"
     ]
    }
   ],
   "source": [
    "rsm.model_fit(lr_std_df2)"
   ]
  },
  {
   "cell_type": "markdown",
   "metadata": {},
   "source": [
    "#### The model interpretation\n",
    "\n",
    "The R-squared for the model was found to be 0.07 which is small in order to consider this model a good estimator for identifying patterns on the odds of responding yes to the email with the offer to upgrade to the latest version of thee QuickBooks software. This means the model only explains 7.0% of the variation of customer responding 'Yes' to the email."
   ]
  },
  {
   "cell_type": "markdown",
   "metadata": {},
   "source": [
    "#### Logistic Regression with Non-Standardize values"
   ]
  },
  {
   "cell_type": "code",
   "execution_count": 110,
   "metadata": {},
   "outputs": [
    {
     "name": "stdout",
     "output_type": "stream",
     "text": [
      "        index     OR     OR%   2.5%  97.5% p.values     \n",
      "1    zip_bins  0.946   -5.4%  0.939  0.953   < .001  ***\n",
      "2     numords  1.300   30.0%  1.262  1.340   < .001  ***\n",
      "3        last  0.958   -4.2%  0.954  0.963   < .001  ***\n",
      "4    version1  2.156  115.6%  1.949  2.386   < .001  ***\n",
      "5  owntaxprod  1.368   36.8%  1.123  1.666    0.002   **\n",
      "6    upgraded  2.628  162.8%  2.384  2.897   < .001  ***\n"
     ]
    }
   ],
   "source": [
    "lr = smf.glm(\n",
    "    formula =\"res1_yes ~ zip_bins + numords + last + version1 + owntaxprod + upgraded\",\n",
    "    family=Binomial(link=logit()),\n",
    "    data=intuit75k.query(\"training == 1\"),\n",
    ").fit()\n",
    "print(rsm.or_ci(lr))"
   ]
  },
  {
   "cell_type": "code",
   "execution_count": 111,
   "metadata": {},
   "outputs": [
    {
     "data": {
      "text/html": [
       "<table class=\"simpletable\">\n",
       "<caption>Generalized Linear Model Regression Results</caption>\n",
       "<tr>\n",
       "  <th>Dep. Variable:</th>       <td>res1_yes</td>     <th>  No. Observations:  </th>  <td> 52500</td> \n",
       "</tr>\n",
       "<tr>\n",
       "  <th>Model:</th>                  <td>GLM</td>       <th>  Df Residuals:      </th>  <td> 52493</td> \n",
       "</tr>\n",
       "<tr>\n",
       "  <th>Model Family:</th>        <td>Binomial</td>     <th>  Df Model:          </th>  <td>     6</td> \n",
       "</tr>\n",
       "<tr>\n",
       "  <th>Link Function:</th>         <td>logit</td>      <th>  Scale:             </th> <td>  1.0000</td>\n",
       "</tr>\n",
       "<tr>\n",
       "  <th>Method:</th>                <td>IRLS</td>       <th>  Log-Likelihood:    </th> <td> -9339.1</td>\n",
       "</tr>\n",
       "<tr>\n",
       "  <th>Date:</th>            <td>Thu, 10 Feb 2022</td> <th>  Deviance:          </th> <td>  18678.</td>\n",
       "</tr>\n",
       "<tr>\n",
       "  <th>Time:</th>                <td>10:53:29</td>     <th>  Pearson chi2:      </th> <td>5.28e+04</td>\n",
       "</tr>\n",
       "<tr>\n",
       "  <th>No. Iterations:</th>          <td>7</td>        <th>                     </th>     <td> </td>   \n",
       "</tr>\n",
       "<tr>\n",
       "  <th>Covariance Type:</th>     <td>nonrobust</td>    <th>                     </th>     <td> </td>   \n",
       "</tr>\n",
       "</table>\n",
       "<table class=\"simpletable\">\n",
       "<tr>\n",
       "       <td></td>         <th>coef</th>     <th>std err</th>      <th>z</th>      <th>P>|z|</th>  <th>[0.025</th>    <th>0.975]</th>  \n",
       "</tr>\n",
       "<tr>\n",
       "  <th>Intercept</th>  <td>   -2.9271</td> <td>    0.069</td> <td>  -42.384</td> <td> 0.000</td> <td>   -3.062</td> <td>   -2.792</td>\n",
       "</tr>\n",
       "<tr>\n",
       "  <th>zip_bins</th>   <td>   -0.0552</td> <td>    0.004</td> <td>  -14.918</td> <td> 0.000</td> <td>   -0.062</td> <td>   -0.048</td>\n",
       "</tr>\n",
       "<tr>\n",
       "  <th>numords</th>    <td>    0.2624</td> <td>    0.015</td> <td>   17.159</td> <td> 0.000</td> <td>    0.232</td> <td>    0.292</td>\n",
       "</tr>\n",
       "<tr>\n",
       "  <th>last</th>       <td>   -0.0427</td> <td>    0.002</td> <td>  -17.997</td> <td> 0.000</td> <td>   -0.047</td> <td>   -0.038</td>\n",
       "</tr>\n",
       "<tr>\n",
       "  <th>version1</th>   <td>    0.7684</td> <td>    0.052</td> <td>   14.882</td> <td> 0.000</td> <td>    0.667</td> <td>    0.870</td>\n",
       "</tr>\n",
       "<tr>\n",
       "  <th>owntaxprod</th> <td>    0.3131</td> <td>    0.101</td> <td>    3.112</td> <td> 0.002</td> <td>    0.116</td> <td>    0.510</td>\n",
       "</tr>\n",
       "<tr>\n",
       "  <th>upgraded</th>   <td>    0.9662</td> <td>    0.050</td> <td>   19.464</td> <td> 0.000</td> <td>    0.869</td> <td>    1.064</td>\n",
       "</tr>\n",
       "</table>"
      ],
      "text/plain": [
       "<class 'statsmodels.iolib.summary.Summary'>\n",
       "\"\"\"\n",
       "                 Generalized Linear Model Regression Results                  \n",
       "==============================================================================\n",
       "Dep. Variable:               res1_yes   No. Observations:                52500\n",
       "Model:                            GLM   Df Residuals:                    52493\n",
       "Model Family:                Binomial   Df Model:                            6\n",
       "Link Function:                  logit   Scale:                          1.0000\n",
       "Method:                          IRLS   Log-Likelihood:                -9339.1\n",
       "Date:                Thu, 10 Feb 2022   Deviance:                       18678.\n",
       "Time:                        10:53:29   Pearson chi2:                 5.28e+04\n",
       "No. Iterations:                     7                                         \n",
       "Covariance Type:            nonrobust                                         \n",
       "==============================================================================\n",
       "                 coef    std err          z      P>|z|      [0.025      0.975]\n",
       "------------------------------------------------------------------------------\n",
       "Intercept     -2.9271      0.069    -42.384      0.000      -3.062      -2.792\n",
       "zip_bins      -0.0552      0.004    -14.918      0.000      -0.062      -0.048\n",
       "numords        0.2624      0.015     17.159      0.000       0.232       0.292\n",
       "last          -0.0427      0.002    -17.997      0.000      -0.047      -0.038\n",
       "version1       0.7684      0.052     14.882      0.000       0.667       0.870\n",
       "owntaxprod     0.3131      0.101      3.112      0.002       0.116       0.510\n",
       "upgraded       0.9662      0.050     19.464      0.000       0.869       1.064\n",
       "==============================================================================\n",
       "\"\"\""
      ]
     },
     "execution_count": 111,
     "metadata": {},
     "output_type": "execute_result"
    }
   ],
   "source": [
    "lr.summary()"
   ]
  },
  {
   "cell_type": "code",
   "execution_count": 112,
   "metadata": {},
   "outputs": [
    {
     "data": {
      "text/html": [
       "<div>\n",
       "<style scoped>\n",
       "    .dataframe tbody tr th:only-of-type {\n",
       "        vertical-align: middle;\n",
       "    }\n",
       "\n",
       "    .dataframe tbody tr th {\n",
       "        vertical-align: top;\n",
       "    }\n",
       "\n",
       "    .dataframe thead th {\n",
       "        text-align: right;\n",
       "    }\n",
       "</style>\n",
       "<table border=\"1\" class=\"dataframe\">\n",
       "  <thead>\n",
       "    <tr style=\"text-align: right;\">\n",
       "      <th></th>\n",
       "      <th>variable</th>\n",
       "      <th>vif</th>\n",
       "      <th>Rsq</th>\n",
       "    </tr>\n",
       "  </thead>\n",
       "  <tbody>\n",
       "    <tr>\n",
       "      <th>0</th>\n",
       "      <td>upgraded</td>\n",
       "      <td>1.082</td>\n",
       "      <td>0.075</td>\n",
       "    </tr>\n",
       "    <tr>\n",
       "      <th>1</th>\n",
       "      <td>version1</td>\n",
       "      <td>1.081</td>\n",
       "      <td>0.075</td>\n",
       "    </tr>\n",
       "    <tr>\n",
       "      <th>2</th>\n",
       "      <td>numords</td>\n",
       "      <td>1.032</td>\n",
       "      <td>0.031</td>\n",
       "    </tr>\n",
       "    <tr>\n",
       "      <th>3</th>\n",
       "      <td>owntaxprod</td>\n",
       "      <td>1.027</td>\n",
       "      <td>0.026</td>\n",
       "    </tr>\n",
       "    <tr>\n",
       "      <th>4</th>\n",
       "      <td>last</td>\n",
       "      <td>1.017</td>\n",
       "      <td>0.017</td>\n",
       "    </tr>\n",
       "    <tr>\n",
       "      <th>5</th>\n",
       "      <td>zip_bins</td>\n",
       "      <td>1.000</td>\n",
       "      <td>0.000</td>\n",
       "    </tr>\n",
       "  </tbody>\n",
       "</table>\n",
       "</div>"
      ],
      "text/plain": [
       "     variable    vif    Rsq\n",
       "0    upgraded  1.082  0.075\n",
       "1    version1  1.081  0.075\n",
       "2     numords  1.032  0.031\n",
       "3  owntaxprod  1.027  0.026\n",
       "4        last  1.017  0.017\n",
       "5    zip_bins  1.000  0.000"
      ]
     },
     "execution_count": 112,
     "metadata": {},
     "output_type": "execute_result"
    }
   ],
   "source": [
    "rsm.vif(lr)"
   ]
  },
  {
   "cell_type": "code",
   "execution_count": 113,
   "metadata": {},
   "outputs": [
    {
     "data": {
      "text/html": [
       "<div>\n",
       "<style scoped>\n",
       "    .dataframe tbody tr th:only-of-type {\n",
       "        vertical-align: middle;\n",
       "    }\n",
       "\n",
       "    .dataframe tbody tr th {\n",
       "        vertical-align: top;\n",
       "    }\n",
       "\n",
       "    .dataframe thead th {\n",
       "        text-align: right;\n",
       "    }\n",
       "</style>\n",
       "<table border=\"1\" class=\"dataframe\">\n",
       "  <thead>\n",
       "    <tr style=\"text-align: right;\">\n",
       "      <th></th>\n",
       "      <th>index</th>\n",
       "      <th>OR</th>\n",
       "      <th>OR%</th>\n",
       "      <th>2.5%</th>\n",
       "      <th>97.5%</th>\n",
       "      <th>p.values</th>\n",
       "      <th></th>\n",
       "    </tr>\n",
       "  </thead>\n",
       "  <tbody>\n",
       "    <tr>\n",
       "      <th>1</th>\n",
       "      <td>zip_bins</td>\n",
       "      <td>0.946</td>\n",
       "      <td>-5.4%</td>\n",
       "      <td>0.939</td>\n",
       "      <td>0.953</td>\n",
       "      <td>&lt; .001</td>\n",
       "      <td>***</td>\n",
       "    </tr>\n",
       "    <tr>\n",
       "      <th>2</th>\n",
       "      <td>numords</td>\n",
       "      <td>1.300</td>\n",
       "      <td>30.0%</td>\n",
       "      <td>1.262</td>\n",
       "      <td>1.340</td>\n",
       "      <td>&lt; .001</td>\n",
       "      <td>***</td>\n",
       "    </tr>\n",
       "    <tr>\n",
       "      <th>3</th>\n",
       "      <td>last</td>\n",
       "      <td>0.958</td>\n",
       "      <td>-4.2%</td>\n",
       "      <td>0.954</td>\n",
       "      <td>0.963</td>\n",
       "      <td>&lt; .001</td>\n",
       "      <td>***</td>\n",
       "    </tr>\n",
       "    <tr>\n",
       "      <th>4</th>\n",
       "      <td>version1</td>\n",
       "      <td>2.156</td>\n",
       "      <td>115.6%</td>\n",
       "      <td>1.949</td>\n",
       "      <td>2.386</td>\n",
       "      <td>&lt; .001</td>\n",
       "      <td>***</td>\n",
       "    </tr>\n",
       "    <tr>\n",
       "      <th>5</th>\n",
       "      <td>owntaxprod</td>\n",
       "      <td>1.368</td>\n",
       "      <td>36.8%</td>\n",
       "      <td>1.123</td>\n",
       "      <td>1.666</td>\n",
       "      <td>0.002</td>\n",
       "      <td>**</td>\n",
       "    </tr>\n",
       "    <tr>\n",
       "      <th>6</th>\n",
       "      <td>upgraded</td>\n",
       "      <td>2.628</td>\n",
       "      <td>162.8%</td>\n",
       "      <td>2.384</td>\n",
       "      <td>2.897</td>\n",
       "      <td>&lt; .001</td>\n",
       "      <td>***</td>\n",
       "    </tr>\n",
       "  </tbody>\n",
       "</table>\n",
       "</div>"
      ],
      "text/plain": [
       "        index     OR     OR%   2.5%  97.5% p.values     \n",
       "1    zip_bins  0.946   -5.4%  0.939  0.953   < .001  ***\n",
       "2     numords  1.300   30.0%  1.262  1.340   < .001  ***\n",
       "3        last  0.958   -4.2%  0.954  0.963   < .001  ***\n",
       "4    version1  2.156  115.6%  1.949  2.386   < .001  ***\n",
       "5  owntaxprod  1.368   36.8%  1.123  1.666    0.002   **\n",
       "6    upgraded  2.628  162.8%  2.384  2.897   < .001  ***"
      ]
     },
     "execution_count": 113,
     "metadata": {},
     "output_type": "execute_result"
    }
   ],
   "source": [
    "odd_ratio_df = rsm.or_ci(lr)\n",
    "odd_ratio_df"
   ]
  },
  {
   "cell_type": "code",
   "execution_count": 114,
   "metadata": {},
   "outputs": [
    {
     "data": {
      "text/plain": [
       "<AxesSubplot:xlabel='Odds-ratio'>"
      ]
     },
     "execution_count": 114,
     "metadata": {},
     "output_type": "execute_result"
    },
    {
     "data": {
      "image/png": "[encoded data removed]",
      "text/plain": [
       "<Figure size 432x288 with 1 Axes>"
      ]
     },
     "metadata": {
      "needs_background": "light"
     },
     "output_type": "display_data"
    }
   ],
   "source": [
    "rsm.or_plot(lr)"
   ]
  },
  {
   "cell_type": "code",
   "execution_count": 115,
   "metadata": {},
   "outputs": [
    {
     "name": "stdout",
     "output_type": "stream",
     "text": [
      "\n",
      "Pseudo R-squared (McFadden): 0.07\n",
      "Pseudo R-squared (McFadden adjusted): 0.07\n",
      "Area under the RO Curve (AUC): 17.485\n",
      "Log-likelihood: -9339.093, AIC: 18692.186, BIC: 18754.266\n",
      "Chi-squared: 52849.948 df(6), p.value < 0.001 \n",
      "Nr obs: 52,500\n",
      "\n"
     ]
    },
    {
     "name": "stderr",
     "output_type": "stream",
     "text": [
      "C:\\ProgramData\\Anaconda3\\lib\\site-packages\\pyrsm\\perf.py:678: RuntimeWarning: overflow encountered in long_scalars\n",
      "  U = np.sum(rankdata(pred)[rvar == False]) - n1 * (n1 + 1) / 2\n"
     ]
    }
   ],
   "source": [
    "rsm.model_fit(lr)"
   ]
  },
  {
   "cell_type": "markdown",
   "metadata": {},
   "source": [
    "After running this standardized logistic regression we are able to appreciate that from all the variables selected they all seem to be statistically significant to describe the response variable given that their p-values are found to be really low, except for one exemption - 'owntaxprod' which even thought it has a p-value of 0.002 (which is still significant) does not perform as well as the rest of the variables."
   ]
  },
  {
   "cell_type": "markdown",
   "metadata": {},
   "source": [
    "#### Non-Standardize logistic regression - Taking out owntaxprod, given the p-value found above"
   ]
  },
  {
   "cell_type": "code",
   "execution_count": 116,
   "metadata": {},
   "outputs": [
    {
     "name": "stdout",
     "output_type": "stream",
     "text": [
      "      index     OR     OR%   2.5%  97.5% p.values     \n",
      "1  zip_bins  0.946   -5.4%  0.940  0.953   < .001  ***\n",
      "2   numords  1.257   25.7%  1.212  1.303   < .001  ***\n",
      "3   dollars  1.001    0.1%  1.000  1.002   < .001  ***\n",
      "4      last  0.958   -4.2%  0.954  0.963   < .001  ***\n",
      "5  version1  2.132  113.2%  1.927  2.358   < .001  ***\n",
      "6  upgraded  2.665  166.5%  2.419  2.937   < .001  ***\n"
     ]
    }
   ],
   "source": [
    "lr_df2 = smf.glm(\n",
    "    formula=\"res1_yes ~ zip_bins + numords + dollars + last + version1 + upgraded\",\n",
    "    family=Binomial(link=logit()),\n",
    "    data=intuit75k.query(\"training == 1\"),\n",
    ").fit()\n",
    "print(rsm.or_ci(lr_df2))"
   ]
  },
  {
   "cell_type": "markdown",
   "metadata": {},
   "source": [
    "After taking out 'owntaxprod' variable we now get a model with all values being strongly statistically significant to describe the response variable given that their p-values are found to be really low."
   ]
  },
  {
   "cell_type": "code",
   "execution_count": 117,
   "metadata": {
    "scrolled": true
   },
   "outputs": [
    {
     "data": {
      "text/html": [
       "<div>\n",
       "<style scoped>\n",
       "    .dataframe tbody tr th:only-of-type {\n",
       "        vertical-align: middle;\n",
       "    }\n",
       "\n",
       "    .dataframe tbody tr th {\n",
       "        vertical-align: top;\n",
       "    }\n",
       "\n",
       "    .dataframe thead th {\n",
       "        text-align: right;\n",
       "    }\n",
       "</style>\n",
       "<table border=\"1\" class=\"dataframe\">\n",
       "  <thead>\n",
       "    <tr style=\"text-align: right;\">\n",
       "      <th></th>\n",
       "      <th>variable</th>\n",
       "      <th>vif</th>\n",
       "      <th>Rsq</th>\n",
       "    </tr>\n",
       "  </thead>\n",
       "  <tbody>\n",
       "    <tr>\n",
       "      <th>0</th>\n",
       "      <td>numords</td>\n",
       "      <td>1.544</td>\n",
       "      <td>0.353</td>\n",
       "    </tr>\n",
       "    <tr>\n",
       "      <th>1</th>\n",
       "      <td>dollars</td>\n",
       "      <td>1.527</td>\n",
       "      <td>0.345</td>\n",
       "    </tr>\n",
       "    <tr>\n",
       "      <th>2</th>\n",
       "      <td>version1</td>\n",
       "      <td>1.076</td>\n",
       "      <td>0.071</td>\n",
       "    </tr>\n",
       "    <tr>\n",
       "      <th>3</th>\n",
       "      <td>upgraded</td>\n",
       "      <td>1.076</td>\n",
       "      <td>0.071</td>\n",
       "    </tr>\n",
       "    <tr>\n",
       "      <th>4</th>\n",
       "      <td>last</td>\n",
       "      <td>1.017</td>\n",
       "      <td>0.017</td>\n",
       "    </tr>\n",
       "    <tr>\n",
       "      <th>5</th>\n",
       "      <td>zip_bins</td>\n",
       "      <td>1.000</td>\n",
       "      <td>0.000</td>\n",
       "    </tr>\n",
       "  </tbody>\n",
       "</table>\n",
       "</div>"
      ],
      "text/plain": [
       "   variable    vif    Rsq\n",
       "0   numords  1.544  0.353\n",
       "1   dollars  1.527  0.345\n",
       "2  version1  1.076  0.071\n",
       "3  upgraded  1.076  0.071\n",
       "4      last  1.017  0.017\n",
       "5  zip_bins  1.000  0.000"
      ]
     },
     "execution_count": 117,
     "metadata": {},
     "output_type": "execute_result"
    }
   ],
   "source": [
    "rsm.vif(lr_df2)"
   ]
  },
  {
   "cell_type": "markdown",
   "metadata": {},
   "source": [
    "Multicollinearity reduces the precision of the estimated coefficients, which weakens the statistical power of the regression model. This reduces trust on the p-values identified to be actually statistically significant. This being said, after running the variance influence factor, we can see that the variables selected in this logistic regression seem to be low, demonstrating that there is no concerns of multicollinearity found on the variables included in the model.\n",
    "\n",
    "Additionally we can explore that the variables with the highest R-squared are 'dollars' and 'numords' which indicates they have the highest influence and representation on the response variables."
   ]
  },
  {
   "cell_type": "code",
   "execution_count": 118,
   "metadata": {
    "scrolled": true
   },
   "outputs": [
    {
     "data": {
      "text/html": [
       "<div>\n",
       "<style scoped>\n",
       "    .dataframe tbody tr th:only-of-type {\n",
       "        vertical-align: middle;\n",
       "    }\n",
       "\n",
       "    .dataframe tbody tr th {\n",
       "        vertical-align: top;\n",
       "    }\n",
       "\n",
       "    .dataframe thead th {\n",
       "        text-align: right;\n",
       "    }\n",
       "</style>\n",
       "<table border=\"1\" class=\"dataframe\">\n",
       "  <thead>\n",
       "    <tr style=\"text-align: right;\">\n",
       "      <th></th>\n",
       "      <th>index</th>\n",
       "      <th>OR</th>\n",
       "      <th>OR%</th>\n",
       "      <th>2.5%</th>\n",
       "      <th>97.5%</th>\n",
       "      <th>p.values</th>\n",
       "      <th></th>\n",
       "    </tr>\n",
       "  </thead>\n",
       "  <tbody>\n",
       "    <tr>\n",
       "      <th>1</th>\n",
       "      <td>zip_bins</td>\n",
       "      <td>0.946</td>\n",
       "      <td>-5.4%</td>\n",
       "      <td>0.940</td>\n",
       "      <td>0.953</td>\n",
       "      <td>&lt; .001</td>\n",
       "      <td>***</td>\n",
       "    </tr>\n",
       "    <tr>\n",
       "      <th>2</th>\n",
       "      <td>numords</td>\n",
       "      <td>1.257</td>\n",
       "      <td>25.7%</td>\n",
       "      <td>1.212</td>\n",
       "      <td>1.303</td>\n",
       "      <td>&lt; .001</td>\n",
       "      <td>***</td>\n",
       "    </tr>\n",
       "    <tr>\n",
       "      <th>3</th>\n",
       "      <td>dollars</td>\n",
       "      <td>1.001</td>\n",
       "      <td>0.1%</td>\n",
       "      <td>1.000</td>\n",
       "      <td>1.002</td>\n",
       "      <td>&lt; .001</td>\n",
       "      <td>***</td>\n",
       "    </tr>\n",
       "    <tr>\n",
       "      <th>4</th>\n",
       "      <td>last</td>\n",
       "      <td>0.958</td>\n",
       "      <td>-4.2%</td>\n",
       "      <td>0.954</td>\n",
       "      <td>0.963</td>\n",
       "      <td>&lt; .001</td>\n",
       "      <td>***</td>\n",
       "    </tr>\n",
       "    <tr>\n",
       "      <th>5</th>\n",
       "      <td>version1</td>\n",
       "      <td>2.132</td>\n",
       "      <td>113.2%</td>\n",
       "      <td>1.927</td>\n",
       "      <td>2.358</td>\n",
       "      <td>&lt; .001</td>\n",
       "      <td>***</td>\n",
       "    </tr>\n",
       "    <tr>\n",
       "      <th>6</th>\n",
       "      <td>upgraded</td>\n",
       "      <td>2.665</td>\n",
       "      <td>166.5%</td>\n",
       "      <td>2.419</td>\n",
       "      <td>2.937</td>\n",
       "      <td>&lt; .001</td>\n",
       "      <td>***</td>\n",
       "    </tr>\n",
       "  </tbody>\n",
       "</table>\n",
       "</div>"
      ],
      "text/plain": [
       "      index     OR     OR%   2.5%  97.5% p.values     \n",
       "1  zip_bins  0.946   -5.4%  0.940  0.953   < .001  ***\n",
       "2   numords  1.257   25.7%  1.212  1.303   < .001  ***\n",
       "3   dollars  1.001    0.1%  1.000  1.002   < .001  ***\n",
       "4      last  0.958   -4.2%  0.954  0.963   < .001  ***\n",
       "5  version1  2.132  113.2%  1.927  2.358   < .001  ***\n",
       "6  upgraded  2.665  166.5%  2.419  2.937   < .001  ***"
      ]
     },
     "execution_count": 118,
     "metadata": {},
     "output_type": "execute_result"
    }
   ],
   "source": [
    "odd_ratio_df2 = rsm.or_ci(lr_df2)\n",
    "odd_ratio_df2"
   ]
  },
  {
   "cell_type": "markdown",
   "metadata": {},
   "source": [
    "#### Odd-Ratio Interpretation\n",
    "\n",
    "##### The most important variable seem to be 'version1' (2.132), 'upgraded' (2.665) . They seem to be the ones causing the greatest reaction to the response variable.\n",
    "\n",
    "- 'version1' causing an increase of 113.2% on response variable 'res1-yes'. This means that if a customer has the version 1 is more likely to go ahead with the offer compared to the one's that have version 2.\n",
    "\n",
    "- 'upgraded' causing an increase of 166.5% on response variable 'res1-yes'. This means that a customer upgraded from version 1 to version 2 is more likely to go ahead with the offer compared to those who did not previously participated in the upgrade.\n",
    "\n",
    "\n",
    "##### While the least important variables seem to be 'zip_bins' (0.946), 'last' (0.954) and 'dollars' (1.001)\n",
    "\n",
    "- 'zip_bins' causing an decrease of 5.4% on response variable 'res1-yes'. This means binned zip code variable will not be as relevant to dictate the likelihood of going ahead with the offer\n",
    "\n",
    "- 'dollars' causing an increase of 8.3% on response variable 'res1-yes'. This means that the total amount ordered from Intuit Direct n the previous months would not be as relevant for the customer to go ahead with the offer.\n",
    "\n",
    "- 'last' causing an decrease of 4.2% on response variable 'res1-yes'. This means that the more time it has been since the customers last ordered from Intuit Direct the less likely to go ahead with the offer compared to the one's that have version 2.\n",
    "\n",
    "##### The variables 'numords' (1.212) will have a medium importance\n",
    "\n",
    "- 'numords' causing an increase of 25.7% on response variable 'res1-yes'. This means that customers with the higher number of orders from Intuit Direct in the previous 36 months are more likely to go ahead with the offer compared to the one's that have version 2."
   ]
  },
  {
   "cell_type": "code",
   "execution_count": 119,
   "metadata": {},
   "outputs": [
    {
     "data": {
      "text/plain": [
       "<AxesSubplot:xlabel='Odds-ratio'>"
      ]
     },
     "execution_count": 119,
     "metadata": {},
     "output_type": "execute_result"
    },
    {
     "data": {
      "image/png": "[encoded data removed]",
      "text/plain": [
       "<Figure size 432x288 with 1 Axes>"
      ]
     },
     "metadata": {
      "needs_background": "light"
     },
     "output_type": "display_data"
    }
   ],
   "source": [
    "rsm.or_plot(lr_df2)"
   ]
  },
  {
   "cell_type": "code",
   "execution_count": 120,
   "metadata": {
    "scrolled": true
   },
   "outputs": [
    {
     "name": "stdout",
     "output_type": "stream",
     "text": [
      "\n",
      "Pseudo R-squared (McFadden): 0.07\n",
      "Pseudo R-squared (McFadden adjusted): 0.07\n",
      "Area under the RO Curve (AUC): 17.485\n",
      "Log-likelihood: -9337.08, AIC: 18688.16, BIC: 18750.24\n",
      "Chi-squared: 52843.925 df(6), p.value < 0.001 \n",
      "Nr obs: 52,500\n",
      "\n"
     ]
    },
    {
     "name": "stderr",
     "output_type": "stream",
     "text": [
      "C:\\ProgramData\\Anaconda3\\lib\\site-packages\\pyrsm\\perf.py:678: RuntimeWarning: overflow encountered in long_scalars\n",
      "  U = np.sum(rankdata(pred)[rvar == False]) - n1 * (n1 + 1) / 2\n"
     ]
    }
   ],
   "source": [
    "rsm.model_fit(lr_df2)"
   ]
  },
  {
   "cell_type": "markdown",
   "metadata": {},
   "source": [
    "#### The model interpretation\n",
    "\n",
    "The R-squared for the model was found to be 0.07 which is small in order to consider this model a good estimator for identifying patterns on the odds of responding yes to the email with the offer to upgrade to the latest version of thee QuickBooks software. This means the model only explains 7.0% of the variation of customer responding 'Yes' to the email."
   ]
  },
  {
   "cell_type": "markdown",
   "metadata": {},
   "source": [
    "#### Model selected as the predictor in order to assign groups"
   ]
  },
  {
   "cell_type": "code",
   "execution_count": 1,
   "metadata": {},
   "outputs": [
    {
     "ename": "NameError",
     "evalue": "name 'rsm' is not defined",
     "output_type": "error",
     "traceback": [
      "\u001b[1;31m---------------------------------------------------------------------------\u001b[0m",
      "\u001b[1;31mNameError\u001b[0m                                 Traceback (most recent call last)",
      "\u001b[1;32m~\\AppData\\Local\\Temp/ipykernel_5380/1082953010.py\u001b[0m in \u001b[0;36m<module>\u001b[1;34m\u001b[0m\n\u001b[1;32m----> 1\u001b[1;33m \u001b[0mrsm\u001b[0m\u001b[1;33m.\u001b[0m\u001b[0mpredict_ci\u001b[0m\u001b[1;33m(\u001b[0m\u001b[0mlr_df2\u001b[0m\u001b[1;33m,\u001b[0m \u001b[0mintuit75k\u001b[0m\u001b[1;33m)\u001b[0m\u001b[1;33m\u001b[0m\u001b[1;33m\u001b[0m\u001b[0m\n\u001b[0m",
      "\u001b[1;31mNameError\u001b[0m: name 'rsm' is not defined"
     ]
    }
   ],
   "source": [
    "rsm.predict_ci(lr_df2, intuit75k)"
   ]
  },
  {
   "cell_type": "markdown",
   "metadata": {},
   "source": [
    "#### Assignning a variable pred logit according to what is found on the logistic regression and the different variables that each row has"
   ]
  },
  {
   "cell_type": "code",
   "execution_count": 122,
   "metadata": {},
   "outputs": [],
   "source": [
    "intuit75k[\"pred_logit\"] = rsm.predict_ci(lr, intuit75k).prediction"
   ]
  },
  {
   "cell_type": "markdown",
   "metadata": {},
   "source": [
    "#### Assignning a deciles according to pred logit in order to divide them into 10 groups"
   ]
  },
  {
   "cell_type": "code",
   "execution_count": 123,
   "metadata": {},
   "outputs": [],
   "source": [
    "intuit75k_df2 = intuit75k#[intuit75k['training'] == 0]\n",
    "\n",
    "intuit75k_df2['deciles'] = lr.predict(intuit75k_df2.query(\"training == 0\"))\n",
    "intuit75k_df2['deciles']\n",
    "\n",
    "intuit75k_df2[\"dec_logit\"] = rsm.xtile(intuit75k_df2['deciles'], 10, rev = True)"
   ]
  },
  {
   "cell_type": "code",
   "execution_count": 124,
   "metadata": {},
   "outputs": [
    {
     "data": {
      "text/html": [
       "<div>\n",
       "<style scoped>\n",
       "    .dataframe tbody tr th:only-of-type {\n",
       "        vertical-align: middle;\n",
       "    }\n",
       "\n",
       "    .dataframe tbody tr th {\n",
       "        vertical-align: top;\n",
       "    }\n",
       "\n",
       "    .dataframe thead th {\n",
       "        text-align: right;\n",
       "    }\n",
       "</style>\n",
       "<table border=\"1\" class=\"dataframe\">\n",
       "  <thead>\n",
       "    <tr style=\"text-align: right;\">\n",
       "      <th></th>\n",
       "      <th>dec_logit</th>\n",
       "      <th>Number of Emails</th>\n",
       "      <th>Responded Yes</th>\n",
       "    </tr>\n",
       "  </thead>\n",
       "  <tbody>\n",
       "    <tr>\n",
       "      <th>0</th>\n",
       "      <td>1.0</td>\n",
       "      <td>2247</td>\n",
       "      <td>336</td>\n",
       "    </tr>\n",
       "    <tr>\n",
       "      <th>1</th>\n",
       "      <td>2.0</td>\n",
       "      <td>2253</td>\n",
       "      <td>157</td>\n",
       "    </tr>\n",
       "    <tr>\n",
       "      <th>2</th>\n",
       "      <td>3.0</td>\n",
       "      <td>2250</td>\n",
       "      <td>151</td>\n",
       "    </tr>\n",
       "    <tr>\n",
       "      <th>3</th>\n",
       "      <td>4.0</td>\n",
       "      <td>2250</td>\n",
       "      <td>113</td>\n",
       "    </tr>\n",
       "    <tr>\n",
       "      <th>4</th>\n",
       "      <td>5.0</td>\n",
       "      <td>2249</td>\n",
       "      <td>100</td>\n",
       "    </tr>\n",
       "    <tr>\n",
       "      <th>5</th>\n",
       "      <td>6.0</td>\n",
       "      <td>2248</td>\n",
       "      <td>66</td>\n",
       "    </tr>\n",
       "    <tr>\n",
       "      <th>6</th>\n",
       "      <td>7.0</td>\n",
       "      <td>2248</td>\n",
       "      <td>57</td>\n",
       "    </tr>\n",
       "    <tr>\n",
       "      <th>7</th>\n",
       "      <td>8.0</td>\n",
       "      <td>2250</td>\n",
       "      <td>55</td>\n",
       "    </tr>\n",
       "    <tr>\n",
       "      <th>8</th>\n",
       "      <td>9.0</td>\n",
       "      <td>2253</td>\n",
       "      <td>39</td>\n",
       "    </tr>\n",
       "    <tr>\n",
       "      <th>9</th>\n",
       "      <td>10.0</td>\n",
       "      <td>2252</td>\n",
       "      <td>29</td>\n",
       "    </tr>\n",
       "  </tbody>\n",
       "</table>\n",
       "</div>"
      ],
      "text/plain": [
       "   dec_logit  Number of Emails  Responded Yes\n",
       "0        1.0              2247            336\n",
       "1        2.0              2253            157\n",
       "2        3.0              2250            151\n",
       "3        4.0              2250            113\n",
       "4        5.0              2249            100\n",
       "5        6.0              2248             66\n",
       "6        7.0              2248             57\n",
       "7        8.0              2250             55\n",
       "8        9.0              2253             39\n",
       "9       10.0              2252             29"
      ]
     },
     "execution_count": 124,
     "metadata": {},
     "output_type": "execute_result"
    }
   ],
   "source": [
    "intuit75k_df2.groupby(\"dec_logit\")[\"res1_yes\"].agg([\"count\", \"sum\"]).reset_index().rename(columns = {\"count\" : \"Number of Emails\",\n",
    "                                                                                        \"sum\" : \"Responded Yes\"})"
   ]
  },
  {
   "cell_type": "code",
   "execution_count": 125,
   "metadata": {},
   "outputs": [
    {
     "data": {
      "text/html": [
       "<div>\n",
       "<style scoped>\n",
       "    .dataframe tbody tr th:only-of-type {\n",
       "        vertical-align: middle;\n",
       "    }\n",
       "\n",
       "    .dataframe tbody tr th {\n",
       "        vertical-align: top;\n",
       "    }\n",
       "\n",
       "    .dataframe thead th {\n",
       "        text-align: right;\n",
       "    }\n",
       "</style>\n",
       "<table border=\"1\" class=\"dataframe\">\n",
       "  <thead>\n",
       "    <tr style=\"text-align: right;\">\n",
       "      <th></th>\n",
       "      <th>dec_logit</th>\n",
       "      <th>Number of Emails</th>\n",
       "      <th>Responded Yes</th>\n",
       "      <th>Requested Upgrade Rate</th>\n",
       "    </tr>\n",
       "  </thead>\n",
       "  <tbody>\n",
       "    <tr>\n",
       "      <th>0</th>\n",
       "      <td>1.0</td>\n",
       "      <td>2247</td>\n",
       "      <td>336</td>\n",
       "      <td>0.149533</td>\n",
       "    </tr>\n",
       "    <tr>\n",
       "      <th>1</th>\n",
       "      <td>2.0</td>\n",
       "      <td>2253</td>\n",
       "      <td>157</td>\n",
       "      <td>0.069685</td>\n",
       "    </tr>\n",
       "    <tr>\n",
       "      <th>2</th>\n",
       "      <td>3.0</td>\n",
       "      <td>2250</td>\n",
       "      <td>151</td>\n",
       "      <td>0.067111</td>\n",
       "    </tr>\n",
       "    <tr>\n",
       "      <th>3</th>\n",
       "      <td>4.0</td>\n",
       "      <td>2250</td>\n",
       "      <td>113</td>\n",
       "      <td>0.050222</td>\n",
       "    </tr>\n",
       "    <tr>\n",
       "      <th>4</th>\n",
       "      <td>5.0</td>\n",
       "      <td>2249</td>\n",
       "      <td>100</td>\n",
       "      <td>0.044464</td>\n",
       "    </tr>\n",
       "    <tr>\n",
       "      <th>5</th>\n",
       "      <td>6.0</td>\n",
       "      <td>2248</td>\n",
       "      <td>66</td>\n",
       "      <td>0.029359</td>\n",
       "    </tr>\n",
       "    <tr>\n",
       "      <th>6</th>\n",
       "      <td>7.0</td>\n",
       "      <td>2248</td>\n",
       "      <td>57</td>\n",
       "      <td>0.025356</td>\n",
       "    </tr>\n",
       "    <tr>\n",
       "      <th>7</th>\n",
       "      <td>8.0</td>\n",
       "      <td>2250</td>\n",
       "      <td>55</td>\n",
       "      <td>0.024444</td>\n",
       "    </tr>\n",
       "    <tr>\n",
       "      <th>8</th>\n",
       "      <td>9.0</td>\n",
       "      <td>2253</td>\n",
       "      <td>39</td>\n",
       "      <td>0.017310</td>\n",
       "    </tr>\n",
       "    <tr>\n",
       "      <th>9</th>\n",
       "      <td>10.0</td>\n",
       "      <td>2252</td>\n",
       "      <td>29</td>\n",
       "      <td>0.012877</td>\n",
       "    </tr>\n",
       "  </tbody>\n",
       "</table>\n",
       "</div>"
      ],
      "text/plain": [
       "   dec_logit  Number of Emails  Responded Yes  Requested Upgrade Rate\n",
       "0        1.0              2247            336                0.149533\n",
       "1        2.0              2253            157                0.069685\n",
       "2        3.0              2250            151                0.067111\n",
       "3        4.0              2250            113                0.050222\n",
       "4        5.0              2249            100                0.044464\n",
       "5        6.0              2248             66                0.029359\n",
       "6        7.0              2248             57                0.025356\n",
       "7        8.0              2250             55                0.024444\n",
       "8        9.0              2253             39                0.017310\n",
       "9       10.0              2252             29                0.012877"
      ]
     },
     "execution_count": 125,
     "metadata": {},
     "output_type": "execute_result"
    }
   ],
   "source": [
    "df_dec_logit = intuit75k_df2.groupby(\"dec_logit\")[\"res1_yes\"].agg([\"count\", \"sum\"]).reset_index().rename(columns = {\"count\" : \"Number of Emails\",\n",
    "                                                                                        \"sum\" : \"Responded Yes\"})\n",
    "\n",
    "df_dec_logit[\"Requested Upgrade Rate\"] = df_dec_logit[\"Responded Yes\"]/df_dec_logit[\"Number of Emails\"]\n",
    "\n",
    "df_dec_logit"
   ]
  },
  {
   "cell_type": "code",
   "execution_count": 126,
   "metadata": {},
   "outputs": [
    {
     "data": {
      "image/png": "[encoded data removed]",
      "text/plain": [
       "<Figure size 432x288 with 1 Axes>"
      ]
     },
     "metadata": {
      "needs_background": "light"
     },
     "output_type": "display_data"
    }
   ],
   "source": [
    "fig = sns.barplot(data = df_dec_logit, x = \"dec_logit\", y = \"Requested Upgrade Rate\")"
   ]
  },
  {
   "cell_type": "markdown",
   "metadata": {},
   "source": [
    "#### Lift, Gains, and Profit"
   ]
  },
  {
   "cell_type": "code",
   "execution_count": 127,
   "metadata": {},
   "outputs": [
    {
     "data": {
      "text/html": [
       "<div>\n",
       "<style scoped>\n",
       "    .dataframe tbody tr th:only-of-type {\n",
       "        vertical-align: middle;\n",
       "    }\n",
       "\n",
       "    .dataframe tbody tr th {\n",
       "        vertical-align: top;\n",
       "    }\n",
       "\n",
       "    .dataframe thead th {\n",
       "        text-align: right;\n",
       "    }\n",
       "</style>\n",
       "<table border=\"1\" class=\"dataframe\">\n",
       "  <thead>\n",
       "    <tr style=\"text-align: right;\">\n",
       "      <th></th>\n",
       "      <th>dec_logit</th>\n",
       "      <th>Number of Emails</th>\n",
       "      <th>Responded Yes</th>\n",
       "      <th>Requested Upgrade Rate</th>\n",
       "      <th>Cum Number of Emails</th>\n",
       "      <th>Cum Responded Yes</th>\n",
       "      <th>Cum Prop of Number of Emails</th>\n",
       "      <th>Cum Requested Upgrade Rate</th>\n",
       "      <th>Lift</th>\n",
       "      <th>Cum Lift</th>\n",
       "    </tr>\n",
       "  </thead>\n",
       "  <tbody>\n",
       "    <tr>\n",
       "      <th>0</th>\n",
       "      <td>1.0</td>\n",
       "      <td>2247</td>\n",
       "      <td>336</td>\n",
       "      <td>0.149533</td>\n",
       "      <td>2247</td>\n",
       "      <td>336</td>\n",
       "      <td>0.018160</td>\n",
       "      <td>0.149533</td>\n",
       "      <td>3.050305</td>\n",
       "      <td>3.050305</td>\n",
       "    </tr>\n",
       "    <tr>\n",
       "      <th>1</th>\n",
       "      <td>2.0</td>\n",
       "      <td>2253</td>\n",
       "      <td>157</td>\n",
       "      <td>0.069685</td>\n",
       "      <td>4500</td>\n",
       "      <td>493</td>\n",
       "      <td>0.054530</td>\n",
       "      <td>0.109556</td>\n",
       "      <td>1.421495</td>\n",
       "      <td>2.234814</td>\n",
       "    </tr>\n",
       "    <tr>\n",
       "      <th>2</th>\n",
       "      <td>3.0</td>\n",
       "      <td>2250</td>\n",
       "      <td>151</td>\n",
       "      <td>0.067111</td>\n",
       "      <td>6750</td>\n",
       "      <td>644</td>\n",
       "      <td>0.109083</td>\n",
       "      <td>0.095407</td>\n",
       "      <td>1.368994</td>\n",
       "      <td>1.946207</td>\n",
       "    </tr>\n",
       "    <tr>\n",
       "      <th>3</th>\n",
       "      <td>4.0</td>\n",
       "      <td>2250</td>\n",
       "      <td>113</td>\n",
       "      <td>0.050222</td>\n",
       "      <td>9000</td>\n",
       "      <td>757</td>\n",
       "      <td>0.181822</td>\n",
       "      <td>0.084111</td>\n",
       "      <td>1.024479</td>\n",
       "      <td>1.715775</td>\n",
       "    </tr>\n",
       "    <tr>\n",
       "      <th>4</th>\n",
       "      <td>5.0</td>\n",
       "      <td>2249</td>\n",
       "      <td>100</td>\n",
       "      <td>0.044464</td>\n",
       "      <td>11249</td>\n",
       "      <td>857</td>\n",
       "      <td>0.272737</td>\n",
       "      <td>0.076185</td>\n",
       "      <td>0.907021</td>\n",
       "      <td>1.554082</td>\n",
       "    </tr>\n",
       "  </tbody>\n",
       "</table>\n",
       "</div>"
      ],
      "text/plain": [
       "   dec_logit  Number of Emails  Responded Yes  Requested Upgrade Rate  \\\n",
       "0        1.0              2247            336                0.149533   \n",
       "1        2.0              2253            157                0.069685   \n",
       "2        3.0              2250            151                0.067111   \n",
       "3        4.0              2250            113                0.050222   \n",
       "4        5.0              2249            100                0.044464   \n",
       "\n",
       "   Cum Number of Emails  Cum Responded Yes  Cum Prop of Number of Emails  \\\n",
       "0                  2247                336                      0.018160   \n",
       "1                  4500                493                      0.054530   \n",
       "2                  6750                644                      0.109083   \n",
       "3                  9000                757                      0.181822   \n",
       "4                 11249                857                      0.272737   \n",
       "\n",
       "   Cum Requested Upgrade Rate      Lift  Cum Lift  \n",
       "0                    0.149533  3.050305  3.050305  \n",
       "1                    0.109556  1.421495  2.234814  \n",
       "2                    0.095407  1.368994  1.946207  \n",
       "3                    0.084111  1.024479  1.715775  \n",
       "4                    0.076185  0.907021  1.554082  "
      ]
     },
     "execution_count": 127,
     "metadata": {},
     "output_type": "execute_result"
    }
   ],
   "source": [
    "df_dec_logit[\"Cum Number of Emails\"] = df_dec_logit[\"Number of Emails\"].cumsum()#/df_dec_logit[\"Number of Impressions\"].sum()\n",
    "df_dec_logit[\"Cum Responded Yes\"] = df_dec_logit[\"Responded Yes\"].cumsum()\n",
    "df_dec_logit[\"Cum Prop of Number of Emails\"] = (df_dec_logit[\"Cum Number of Emails\"]/df_dec_logit[\"Cum Number of Emails\"].sum()).cumsum()\n",
    "\n",
    "aaa = df_dec_logit[\"Responded Yes\"].sum()/df_dec_logit[\"Number of Emails\"].sum()\n",
    "aaa\n",
    "df_dec_logit[\"Cum Requested Upgrade Rate\"] = df_dec_logit[\"Cum Responded Yes\"]/df_dec_logit[\"Cum Number of Emails\"]\n",
    "\n",
    "\n",
    "df_dec_logit[\"Lift\"] = df_dec_logit[\"Requested Upgrade Rate\"]/aaa\n",
    "df_dec_logit[\"Cum Lift\"] = df_dec_logit[\"Cum Requested Upgrade Rate\"]/aaa\n",
    "\n",
    "\n",
    "df_dec_logit.head()"
   ]
  },
  {
   "cell_type": "code",
   "execution_count": 128,
   "metadata": {},
   "outputs": [
    {
     "data": {
      "image/png": "[encoded data removed]",
      "text/plain": [
       "<Figure size 432x288 with 1 Axes>"
      ]
     },
     "metadata": {
      "needs_background": "light"
     },
     "output_type": "display_data"
    }
   ],
   "source": [
    "fig2 = sns.lineplot(data = df_dec_logit, x = \"Cum Prop of Number of Emails\", y = \"Cum Lift\" , marker = 'o')"
   ]
  },
  {
   "cell_type": "code",
   "execution_count": 129,
   "metadata": {},
   "outputs": [
    {
     "data": {
      "text/html": [
       "<div>\n",
       "<style scoped>\n",
       "    .dataframe tbody tr th:only-of-type {\n",
       "        vertical-align: middle;\n",
       "    }\n",
       "\n",
       "    .dataframe tbody tr th {\n",
       "        vertical-align: top;\n",
       "    }\n",
       "\n",
       "    .dataframe thead th {\n",
       "        text-align: right;\n",
       "    }\n",
       "</style>\n",
       "<table border=\"1\" class=\"dataframe\">\n",
       "  <thead>\n",
       "    <tr style=\"text-align: right;\">\n",
       "      <th></th>\n",
       "      <th>dec_logit</th>\n",
       "      <th>Number of Emails</th>\n",
       "      <th>Responded Yes</th>\n",
       "      <th>Requested Upgrade Rate</th>\n",
       "      <th>Cum Number of Emails</th>\n",
       "      <th>Cum Responded Yes</th>\n",
       "      <th>Cum Prop of Number of Emails</th>\n",
       "      <th>Cum Requested Upgrade Rate</th>\n",
       "      <th>Lift</th>\n",
       "      <th>Cum Lift</th>\n",
       "      <th>Gains</th>\n",
       "      <th>Cum Gains</th>\n",
       "    </tr>\n",
       "  </thead>\n",
       "  <tbody>\n",
       "    <tr>\n",
       "      <th>0</th>\n",
       "      <td>1.0</td>\n",
       "      <td>2247</td>\n",
       "      <td>336</td>\n",
       "      <td>0.149533</td>\n",
       "      <td>2247</td>\n",
       "      <td>336</td>\n",
       "      <td>0.018160</td>\n",
       "      <td>0.149533</td>\n",
       "      <td>3.050305</td>\n",
       "      <td>3.050305</td>\n",
       "      <td>0.304624</td>\n",
       "      <td>0.304624</td>\n",
       "    </tr>\n",
       "    <tr>\n",
       "      <th>1</th>\n",
       "      <td>2.0</td>\n",
       "      <td>2253</td>\n",
       "      <td>157</td>\n",
       "      <td>0.069685</td>\n",
       "      <td>4500</td>\n",
       "      <td>493</td>\n",
       "      <td>0.054530</td>\n",
       "      <td>0.109556</td>\n",
       "      <td>1.421495</td>\n",
       "      <td>2.234814</td>\n",
       "      <td>0.142339</td>\n",
       "      <td>0.446963</td>\n",
       "    </tr>\n",
       "    <tr>\n",
       "      <th>2</th>\n",
       "      <td>3.0</td>\n",
       "      <td>2250</td>\n",
       "      <td>151</td>\n",
       "      <td>0.067111</td>\n",
       "      <td>6750</td>\n",
       "      <td>644</td>\n",
       "      <td>0.109083</td>\n",
       "      <td>0.095407</td>\n",
       "      <td>1.368994</td>\n",
       "      <td>1.946207</td>\n",
       "      <td>0.136899</td>\n",
       "      <td>0.583862</td>\n",
       "    </tr>\n",
       "    <tr>\n",
       "      <th>3</th>\n",
       "      <td>4.0</td>\n",
       "      <td>2250</td>\n",
       "      <td>113</td>\n",
       "      <td>0.050222</td>\n",
       "      <td>9000</td>\n",
       "      <td>757</td>\n",
       "      <td>0.181822</td>\n",
       "      <td>0.084111</td>\n",
       "      <td>1.024479</td>\n",
       "      <td>1.715775</td>\n",
       "      <td>0.102448</td>\n",
       "      <td>0.686310</td>\n",
       "    </tr>\n",
       "    <tr>\n",
       "      <th>4</th>\n",
       "      <td>5.0</td>\n",
       "      <td>2249</td>\n",
       "      <td>100</td>\n",
       "      <td>0.044464</td>\n",
       "      <td>11249</td>\n",
       "      <td>857</td>\n",
       "      <td>0.272737</td>\n",
       "      <td>0.076185</td>\n",
       "      <td>0.907021</td>\n",
       "      <td>1.554082</td>\n",
       "      <td>0.090662</td>\n",
       "      <td>0.776972</td>\n",
       "    </tr>\n",
       "    <tr>\n",
       "      <th>5</th>\n",
       "      <td>6.0</td>\n",
       "      <td>2248</td>\n",
       "      <td>66</td>\n",
       "      <td>0.029359</td>\n",
       "      <td>13497</td>\n",
       "      <td>923</td>\n",
       "      <td>0.381820</td>\n",
       "      <td>0.068386</td>\n",
       "      <td>0.598900</td>\n",
       "      <td>1.394991</td>\n",
       "      <td>0.059837</td>\n",
       "      <td>0.836809</td>\n",
       "    </tr>\n",
       "    <tr>\n",
       "      <th>6</th>\n",
       "      <td>7.0</td>\n",
       "      <td>2248</td>\n",
       "      <td>57</td>\n",
       "      <td>0.025356</td>\n",
       "      <td>15745</td>\n",
       "      <td>980</td>\n",
       "      <td>0.509072</td>\n",
       "      <td>0.062242</td>\n",
       "      <td>0.517232</td>\n",
       "      <td>1.269669</td>\n",
       "      <td>0.051677</td>\n",
       "      <td>0.888486</td>\n",
       "    </tr>\n",
       "    <tr>\n",
       "      <th>7</th>\n",
       "      <td>8.0</td>\n",
       "      <td>2250</td>\n",
       "      <td>55</td>\n",
       "      <td>0.024444</td>\n",
       "      <td>17995</td>\n",
       "      <td>1035</td>\n",
       "      <td>0.654509</td>\n",
       "      <td>0.057516</td>\n",
       "      <td>0.498640</td>\n",
       "      <td>1.173263</td>\n",
       "      <td>0.049864</td>\n",
       "      <td>0.938350</td>\n",
       "    </tr>\n",
       "    <tr>\n",
       "      <th>8</th>\n",
       "      <td>9.0</td>\n",
       "      <td>2253</td>\n",
       "      <td>39</td>\n",
       "      <td>0.017310</td>\n",
       "      <td>20248</td>\n",
       "      <td>1074</td>\n",
       "      <td>0.818154</td>\n",
       "      <td>0.053042</td>\n",
       "      <td>0.353110</td>\n",
       "      <td>1.082005</td>\n",
       "      <td>0.035358</td>\n",
       "      <td>0.973708</td>\n",
       "    </tr>\n",
       "    <tr>\n",
       "      <th>9</th>\n",
       "      <td>10.0</td>\n",
       "      <td>2252</td>\n",
       "      <td>29</td>\n",
       "      <td>0.012877</td>\n",
       "      <td>22500</td>\n",
       "      <td>1103</td>\n",
       "      <td>1.000000</td>\n",
       "      <td>0.049022</td>\n",
       "      <td>0.262686</td>\n",
       "      <td>1.000000</td>\n",
       "      <td>0.026292</td>\n",
       "      <td>1.000000</td>\n",
       "    </tr>\n",
       "  </tbody>\n",
       "</table>\n",
       "</div>"
      ],
      "text/plain": [
       "   dec_logit  Number of Emails  Responded Yes  Requested Upgrade Rate  \\\n",
       "0        1.0              2247            336                0.149533   \n",
       "1        2.0              2253            157                0.069685   \n",
       "2        3.0              2250            151                0.067111   \n",
       "3        4.0              2250            113                0.050222   \n",
       "4        5.0              2249            100                0.044464   \n",
       "5        6.0              2248             66                0.029359   \n",
       "6        7.0              2248             57                0.025356   \n",
       "7        8.0              2250             55                0.024444   \n",
       "8        9.0              2253             39                0.017310   \n",
       "9       10.0              2252             29                0.012877   \n",
       "\n",
       "   Cum Number of Emails  Cum Responded Yes  Cum Prop of Number of Emails  \\\n",
       "0                  2247                336                      0.018160   \n",
       "1                  4500                493                      0.054530   \n",
       "2                  6750                644                      0.109083   \n",
       "3                  9000                757                      0.181822   \n",
       "4                 11249                857                      0.272737   \n",
       "5                 13497                923                      0.381820   \n",
       "6                 15745                980                      0.509072   \n",
       "7                 17995               1035                      0.654509   \n",
       "8                 20248               1074                      0.818154   \n",
       "9                 22500               1103                      1.000000   \n",
       "\n",
       "   Cum Requested Upgrade Rate      Lift  Cum Lift     Gains  Cum Gains  \n",
       "0                    0.149533  3.050305  3.050305  0.304624   0.304624  \n",
       "1                    0.109556  1.421495  2.234814  0.142339   0.446963  \n",
       "2                    0.095407  1.368994  1.946207  0.136899   0.583862  \n",
       "3                    0.084111  1.024479  1.715775  0.102448   0.686310  \n",
       "4                    0.076185  0.907021  1.554082  0.090662   0.776972  \n",
       "5                    0.068386  0.598900  1.394991  0.059837   0.836809  \n",
       "6                    0.062242  0.517232  1.269669  0.051677   0.888486  \n",
       "7                    0.057516  0.498640  1.173263  0.049864   0.938350  \n",
       "8                    0.053042  0.353110  1.082005  0.035358   0.973708  \n",
       "9                    0.049022  0.262686  1.000000  0.026292   1.000000  "
      ]
     },
     "execution_count": 129,
     "metadata": {},
     "output_type": "execute_result"
    }
   ],
   "source": [
    "df_dec_logit[\"Gains\"] = df_dec_logit[\"Responded Yes\"]/df_dec_logit[\"Responded Yes\"].sum()\n",
    "df_dec_logit[\"Cum Gains\"] = df_dec_logit[\"Gains\"].cumsum()\n",
    "\n",
    "df_dec_logit"
   ]
  },
  {
   "cell_type": "code",
   "execution_count": 130,
   "metadata": {},
   "outputs": [
    {
     "data": {
      "text/html": [
       "<div>\n",
       "<style scoped>\n",
       "    .dataframe tbody tr th:only-of-type {\n",
       "        vertical-align: middle;\n",
       "    }\n",
       "\n",
       "    .dataframe tbody tr th {\n",
       "        vertical-align: top;\n",
       "    }\n",
       "\n",
       "    .dataframe thead th {\n",
       "        text-align: right;\n",
       "    }\n",
       "</style>\n",
       "<table border=\"1\" class=\"dataframe\">\n",
       "  <thead>\n",
       "    <tr style=\"text-align: right;\">\n",
       "      <th></th>\n",
       "      <th>dec_logit</th>\n",
       "      <th>Number of Emails</th>\n",
       "      <th>Responded Yes</th>\n",
       "      <th>Requested Upgrade Rate</th>\n",
       "      <th>Cum Number of Emails</th>\n",
       "      <th>Cum Responded Yes</th>\n",
       "      <th>Cum Prop of Number of Emails</th>\n",
       "      <th>Cum Requested Upgrade Rate</th>\n",
       "      <th>Lift</th>\n",
       "      <th>Cum Lift</th>\n",
       "      <th>Gains</th>\n",
       "      <th>Cum Gains</th>\n",
       "    </tr>\n",
       "  </thead>\n",
       "  <tbody>\n",
       "    <tr>\n",
       "      <th>0</th>\n",
       "      <td>0.0</td>\n",
       "      <td>0</td>\n",
       "      <td>0</td>\n",
       "      <td>0.000000</td>\n",
       "      <td>0</td>\n",
       "      <td>0</td>\n",
       "      <td>0.000000</td>\n",
       "      <td>0.000000</td>\n",
       "      <td>0.000000</td>\n",
       "      <td>0.000000</td>\n",
       "      <td>0.000000</td>\n",
       "      <td>0.000000</td>\n",
       "    </tr>\n",
       "    <tr>\n",
       "      <th>1</th>\n",
       "      <td>1.0</td>\n",
       "      <td>2247</td>\n",
       "      <td>336</td>\n",
       "      <td>0.149533</td>\n",
       "      <td>2247</td>\n",
       "      <td>336</td>\n",
       "      <td>0.018160</td>\n",
       "      <td>0.149533</td>\n",
       "      <td>3.050305</td>\n",
       "      <td>3.050305</td>\n",
       "      <td>0.304624</td>\n",
       "      <td>0.304624</td>\n",
       "    </tr>\n",
       "    <tr>\n",
       "      <th>2</th>\n",
       "      <td>2.0</td>\n",
       "      <td>2253</td>\n",
       "      <td>157</td>\n",
       "      <td>0.069685</td>\n",
       "      <td>4500</td>\n",
       "      <td>493</td>\n",
       "      <td>0.054530</td>\n",
       "      <td>0.109556</td>\n",
       "      <td>1.421495</td>\n",
       "      <td>2.234814</td>\n",
       "      <td>0.142339</td>\n",
       "      <td>0.446963</td>\n",
       "    </tr>\n",
       "    <tr>\n",
       "      <th>3</th>\n",
       "      <td>3.0</td>\n",
       "      <td>2250</td>\n",
       "      <td>151</td>\n",
       "      <td>0.067111</td>\n",
       "      <td>6750</td>\n",
       "      <td>644</td>\n",
       "      <td>0.109083</td>\n",
       "      <td>0.095407</td>\n",
       "      <td>1.368994</td>\n",
       "      <td>1.946207</td>\n",
       "      <td>0.136899</td>\n",
       "      <td>0.583862</td>\n",
       "    </tr>\n",
       "    <tr>\n",
       "      <th>4</th>\n",
       "      <td>4.0</td>\n",
       "      <td>2250</td>\n",
       "      <td>113</td>\n",
       "      <td>0.050222</td>\n",
       "      <td>9000</td>\n",
       "      <td>757</td>\n",
       "      <td>0.181822</td>\n",
       "      <td>0.084111</td>\n",
       "      <td>1.024479</td>\n",
       "      <td>1.715775</td>\n",
       "      <td>0.102448</td>\n",
       "      <td>0.686310</td>\n",
       "    </tr>\n",
       "    <tr>\n",
       "      <th>5</th>\n",
       "      <td>5.0</td>\n",
       "      <td>2249</td>\n",
       "      <td>100</td>\n",
       "      <td>0.044464</td>\n",
       "      <td>11249</td>\n",
       "      <td>857</td>\n",
       "      <td>0.272737</td>\n",
       "      <td>0.076185</td>\n",
       "      <td>0.907021</td>\n",
       "      <td>1.554082</td>\n",
       "      <td>0.090662</td>\n",
       "      <td>0.776972</td>\n",
       "    </tr>\n",
       "    <tr>\n",
       "      <th>6</th>\n",
       "      <td>6.0</td>\n",
       "      <td>2248</td>\n",
       "      <td>66</td>\n",
       "      <td>0.029359</td>\n",
       "      <td>13497</td>\n",
       "      <td>923</td>\n",
       "      <td>0.381820</td>\n",
       "      <td>0.068386</td>\n",
       "      <td>0.598900</td>\n",
       "      <td>1.394991</td>\n",
       "      <td>0.059837</td>\n",
       "      <td>0.836809</td>\n",
       "    </tr>\n",
       "    <tr>\n",
       "      <th>7</th>\n",
       "      <td>7.0</td>\n",
       "      <td>2248</td>\n",
       "      <td>57</td>\n",
       "      <td>0.025356</td>\n",
       "      <td>15745</td>\n",
       "      <td>980</td>\n",
       "      <td>0.509072</td>\n",
       "      <td>0.062242</td>\n",
       "      <td>0.517232</td>\n",
       "      <td>1.269669</td>\n",
       "      <td>0.051677</td>\n",
       "      <td>0.888486</td>\n",
       "    </tr>\n",
       "    <tr>\n",
       "      <th>8</th>\n",
       "      <td>8.0</td>\n",
       "      <td>2250</td>\n",
       "      <td>55</td>\n",
       "      <td>0.024444</td>\n",
       "      <td>17995</td>\n",
       "      <td>1035</td>\n",
       "      <td>0.654509</td>\n",
       "      <td>0.057516</td>\n",
       "      <td>0.498640</td>\n",
       "      <td>1.173263</td>\n",
       "      <td>0.049864</td>\n",
       "      <td>0.938350</td>\n",
       "    </tr>\n",
       "    <tr>\n",
       "      <th>9</th>\n",
       "      <td>9.0</td>\n",
       "      <td>2253</td>\n",
       "      <td>39</td>\n",
       "      <td>0.017310</td>\n",
       "      <td>20248</td>\n",
       "      <td>1074</td>\n",
       "      <td>0.818154</td>\n",
       "      <td>0.053042</td>\n",
       "      <td>0.353110</td>\n",
       "      <td>1.082005</td>\n",
       "      <td>0.035358</td>\n",
       "      <td>0.973708</td>\n",
       "    </tr>\n",
       "    <tr>\n",
       "      <th>10</th>\n",
       "      <td>10.0</td>\n",
       "      <td>2252</td>\n",
       "      <td>29</td>\n",
       "      <td>0.012877</td>\n",
       "      <td>22500</td>\n",
       "      <td>1103</td>\n",
       "      <td>1.000000</td>\n",
       "      <td>0.049022</td>\n",
       "      <td>0.262686</td>\n",
       "      <td>1.000000</td>\n",
       "      <td>0.026292</td>\n",
       "      <td>1.000000</td>\n",
       "    </tr>\n",
       "  </tbody>\n",
       "</table>\n",
       "</div>"
      ],
      "text/plain": [
       "    dec_logit  Number of Emails  Responded Yes  Requested Upgrade Rate  \\\n",
       "0         0.0                 0              0                0.000000   \n",
       "1         1.0              2247            336                0.149533   \n",
       "2         2.0              2253            157                0.069685   \n",
       "3         3.0              2250            151                0.067111   \n",
       "4         4.0              2250            113                0.050222   \n",
       "5         5.0              2249            100                0.044464   \n",
       "6         6.0              2248             66                0.029359   \n",
       "7         7.0              2248             57                0.025356   \n",
       "8         8.0              2250             55                0.024444   \n",
       "9         9.0              2253             39                0.017310   \n",
       "10       10.0              2252             29                0.012877   \n",
       "\n",
       "    Cum Number of Emails  Cum Responded Yes  Cum Prop of Number of Emails  \\\n",
       "0                      0                  0                      0.000000   \n",
       "1                   2247                336                      0.018160   \n",
       "2                   4500                493                      0.054530   \n",
       "3                   6750                644                      0.109083   \n",
       "4                   9000                757                      0.181822   \n",
       "5                  11249                857                      0.272737   \n",
       "6                  13497                923                      0.381820   \n",
       "7                  15745                980                      0.509072   \n",
       "8                  17995               1035                      0.654509   \n",
       "9                  20248               1074                      0.818154   \n",
       "10                 22500               1103                      1.000000   \n",
       "\n",
       "    Cum Requested Upgrade Rate      Lift  Cum Lift     Gains  Cum Gains  \n",
       "0                     0.000000  0.000000  0.000000  0.000000   0.000000  \n",
       "1                     0.149533  3.050305  3.050305  0.304624   0.304624  \n",
       "2                     0.109556  1.421495  2.234814  0.142339   0.446963  \n",
       "3                     0.095407  1.368994  1.946207  0.136899   0.583862  \n",
       "4                     0.084111  1.024479  1.715775  0.102448   0.686310  \n",
       "5                     0.076185  0.907021  1.554082  0.090662   0.776972  \n",
       "6                     0.068386  0.598900  1.394991  0.059837   0.836809  \n",
       "7                     0.062242  0.517232  1.269669  0.051677   0.888486  \n",
       "8                     0.057516  0.498640  1.173263  0.049864   0.938350  \n",
       "9                     0.053042  0.353110  1.082005  0.035358   0.973708  \n",
       "10                    0.049022  0.262686  1.000000  0.026292   1.000000  "
      ]
     },
     "execution_count": 130,
     "metadata": {},
     "output_type": "execute_result"
    }
   ],
   "source": [
    "gains_tab = df_dec_logit\n",
    "gains_tab\n",
    "\n",
    "new_row = pd.DataFrame({'dec_logit':0, 'Number of Emails':0, 'Responded Yes':0,\n",
    "       'Requested Upgrade Rate':0, 'Cum Number of Emails':0, 'Cum Responded Yes':0,\n",
    "       'Cum Prop of Number of Emails':0, 'Cum Requested Upgrade Rate':0, 'Lift':0, 'Cum Lift':0,\n",
    "       'Gains':0, 'Cum Gains':0}, index=[0])\n",
    "\n",
    "gains_tab = pd.concat([new_row, gains_tab]).reset_index(drop = True)\n",
    "gains_tab"
   ]
  },
  {
   "cell_type": "code",
   "execution_count": 131,
   "metadata": {},
   "outputs": [
    {
     "data": {
      "text/plain": [
       "[<matplotlib.lines.Line2D at 0x2994a5b6a90>]"
      ]
     },
     "execution_count": 131,
     "metadata": {},
     "output_type": "execute_result"
    },
    {
     "data": {
      "image/png": "[encoded data removed]",
      "text/plain": [
       "<Figure size 432x288 with 1 Axes>"
      ]
     },
     "metadata": {
      "needs_background": "light"
     },
     "output_type": "display_data"
    }
   ],
   "source": [
    "plt.plot(gains_tab[\"Cum Prop of Number of Emails\"], gains_tab[\"Cum Gains\"], label = 'line 1', linestyle = 'solid')\n",
    "plt.plot([0,1], [0,1], label = 'line 2', linestyle = 'dashed')"
   ]
  },
  {
   "cell_type": "code",
   "execution_count": 132,
   "metadata": {},
   "outputs": [],
   "source": [
    "cost = 1.41 # each mail piece costs $1.41\n",
    "margin = 60 # the margin (or net revenue) from each responder, excluding the mailing cost, is $60\n",
    "breakeven =  cost/margin # float, length 1"
   ]
  },
  {
   "cell_type": "code",
   "execution_count": 133,
   "metadata": {},
   "outputs": [
    {
     "name": "stderr",
     "output_type": "stream",
     "text": [
      "C:\\Users\\Rohan\\AppData\\Local\\Temp/ipykernel_105448/705169543.py:2: SettingWithCopyWarning: \n",
      "A value is trying to be set on a copy of a slice from a DataFrame.\n",
      "Try using .loc[row_indexer,col_indexer] = value instead\n",
      "\n",
      "See the caveats in the documentation: https://pandas.pydata.org/pandas-docs/stable/user_guide/indexing.html#returning-a-view-versus-a-copy\n",
      "  profit_tab['Cost'] = profit_tab['Number of Emails']*cost\n",
      "C:\\Users\\Rohan\\AppData\\Local\\Temp/ipykernel_105448/705169543.py:3: SettingWithCopyWarning: \n",
      "A value is trying to be set on a copy of a slice from a DataFrame.\n",
      "Try using .loc[row_indexer,col_indexer] = value instead\n",
      "\n",
      "See the caveats in the documentation: https://pandas.pydata.org/pandas-docs/stable/user_guide/indexing.html#returning-a-view-versus-a-copy\n",
      "  profit_tab['Revenue'] = profit_tab['Responded Yes']*margin\n",
      "C:\\Users\\Rohan\\AppData\\Local\\Temp/ipykernel_105448/705169543.py:4: SettingWithCopyWarning: \n",
      "A value is trying to be set on a copy of a slice from a DataFrame.\n",
      "Try using .loc[row_indexer,col_indexer] = value instead\n",
      "\n",
      "See the caveats in the documentation: https://pandas.pydata.org/pandas-docs/stable/user_guide/indexing.html#returning-a-view-versus-a-copy\n",
      "  profit_tab['Profit'] = profit_tab['Revenue'] - profit_tab['Cost']\n"
     ]
    },
    {
     "data": {
      "text/html": [
       "<div>\n",
       "<style scoped>\n",
       "    .dataframe tbody tr th:only-of-type {\n",
       "        vertical-align: middle;\n",
       "    }\n",
       "\n",
       "    .dataframe tbody tr th {\n",
       "        vertical-align: top;\n",
       "    }\n",
       "\n",
       "    .dataframe thead th {\n",
       "        text-align: right;\n",
       "    }\n",
       "</style>\n",
       "<table border=\"1\" class=\"dataframe\">\n",
       "  <thead>\n",
       "    <tr style=\"text-align: right;\">\n",
       "      <th></th>\n",
       "      <th>dec_logit</th>\n",
       "      <th>Number of Emails</th>\n",
       "      <th>Responded Yes</th>\n",
       "      <th>Cum Prop of Number of Emails</th>\n",
       "      <th>Cost</th>\n",
       "      <th>Revenue</th>\n",
       "      <th>Profit</th>\n",
       "    </tr>\n",
       "  </thead>\n",
       "  <tbody>\n",
       "    <tr>\n",
       "      <th>0</th>\n",
       "      <td>1.0</td>\n",
       "      <td>2247</td>\n",
       "      <td>336</td>\n",
       "      <td>0.018160</td>\n",
       "      <td>3168.27</td>\n",
       "      <td>20160</td>\n",
       "      <td>16991.73</td>\n",
       "    </tr>\n",
       "    <tr>\n",
       "      <th>1</th>\n",
       "      <td>2.0</td>\n",
       "      <td>2253</td>\n",
       "      <td>157</td>\n",
       "      <td>0.054530</td>\n",
       "      <td>3176.73</td>\n",
       "      <td>9420</td>\n",
       "      <td>6243.27</td>\n",
       "    </tr>\n",
       "    <tr>\n",
       "      <th>2</th>\n",
       "      <td>3.0</td>\n",
       "      <td>2250</td>\n",
       "      <td>151</td>\n",
       "      <td>0.109083</td>\n",
       "      <td>3172.50</td>\n",
       "      <td>9060</td>\n",
       "      <td>5887.50</td>\n",
       "    </tr>\n",
       "    <tr>\n",
       "      <th>3</th>\n",
       "      <td>4.0</td>\n",
       "      <td>2250</td>\n",
       "      <td>113</td>\n",
       "      <td>0.181822</td>\n",
       "      <td>3172.50</td>\n",
       "      <td>6780</td>\n",
       "      <td>3607.50</td>\n",
       "    </tr>\n",
       "    <tr>\n",
       "      <th>4</th>\n",
       "      <td>5.0</td>\n",
       "      <td>2249</td>\n",
       "      <td>100</td>\n",
       "      <td>0.272737</td>\n",
       "      <td>3171.09</td>\n",
       "      <td>6000</td>\n",
       "      <td>2828.91</td>\n",
       "    </tr>\n",
       "    <tr>\n",
       "      <th>5</th>\n",
       "      <td>6.0</td>\n",
       "      <td>2248</td>\n",
       "      <td>66</td>\n",
       "      <td>0.381820</td>\n",
       "      <td>3169.68</td>\n",
       "      <td>3960</td>\n",
       "      <td>790.32</td>\n",
       "    </tr>\n",
       "    <tr>\n",
       "      <th>6</th>\n",
       "      <td>7.0</td>\n",
       "      <td>2248</td>\n",
       "      <td>57</td>\n",
       "      <td>0.509072</td>\n",
       "      <td>3169.68</td>\n",
       "      <td>3420</td>\n",
       "      <td>250.32</td>\n",
       "    </tr>\n",
       "    <tr>\n",
       "      <th>7</th>\n",
       "      <td>8.0</td>\n",
       "      <td>2250</td>\n",
       "      <td>55</td>\n",
       "      <td>0.654509</td>\n",
       "      <td>3172.50</td>\n",
       "      <td>3300</td>\n",
       "      <td>127.50</td>\n",
       "    </tr>\n",
       "    <tr>\n",
       "      <th>8</th>\n",
       "      <td>9.0</td>\n",
       "      <td>2253</td>\n",
       "      <td>39</td>\n",
       "      <td>0.818154</td>\n",
       "      <td>3176.73</td>\n",
       "      <td>2340</td>\n",
       "      <td>-836.73</td>\n",
       "    </tr>\n",
       "    <tr>\n",
       "      <th>9</th>\n",
       "      <td>10.0</td>\n",
       "      <td>2252</td>\n",
       "      <td>29</td>\n",
       "      <td>1.000000</td>\n",
       "      <td>3175.32</td>\n",
       "      <td>1740</td>\n",
       "      <td>-1435.32</td>\n",
       "    </tr>\n",
       "  </tbody>\n",
       "</table>\n",
       "</div>"
      ],
      "text/plain": [
       "   dec_logit  Number of Emails  Responded Yes  Cum Prop of Number of Emails  \\\n",
       "0        1.0              2247            336                      0.018160   \n",
       "1        2.0              2253            157                      0.054530   \n",
       "2        3.0              2250            151                      0.109083   \n",
       "3        4.0              2250            113                      0.181822   \n",
       "4        5.0              2249            100                      0.272737   \n",
       "5        6.0              2248             66                      0.381820   \n",
       "6        7.0              2248             57                      0.509072   \n",
       "7        8.0              2250             55                      0.654509   \n",
       "8        9.0              2253             39                      0.818154   \n",
       "9       10.0              2252             29                      1.000000   \n",
       "\n",
       "      Cost  Revenue    Profit  \n",
       "0  3168.27    20160  16991.73  \n",
       "1  3176.73     9420   6243.27  \n",
       "2  3172.50     9060   5887.50  \n",
       "3  3172.50     6780   3607.50  \n",
       "4  3171.09     6000   2828.91  \n",
       "5  3169.68     3960    790.32  \n",
       "6  3169.68     3420    250.32  \n",
       "7  3172.50     3300    127.50  \n",
       "8  3176.73     2340   -836.73  \n",
       "9  3175.32     1740  -1435.32  "
      ]
     },
     "execution_count": 133,
     "metadata": {},
     "output_type": "execute_result"
    }
   ],
   "source": [
    "profit_tab = df_dec_logit[['dec_logit', 'Number of Emails', 'Responded Yes', 'Cum Prop of Number of Emails']]\n",
    "profit_tab['Cost'] = profit_tab['Number of Emails']*cost\n",
    "profit_tab['Revenue'] = profit_tab['Responded Yes']*margin\n",
    "profit_tab['Profit'] = profit_tab['Revenue'] - profit_tab['Cost']\n",
    "\n",
    "\n",
    "profit_tab"
   ]
  },
  {
   "cell_type": "code",
   "execution_count": 134,
   "metadata": {},
   "outputs": [
    {
     "data": {
      "text/plain": [
       "[<matplotlib.lines.Line2D at 0x2994a627220>]"
      ]
     },
     "execution_count": 134,
     "metadata": {},
     "output_type": "execute_result"
    },
    {
     "data": {
      "image/png": "[encoded data removed]",
      "text/plain": [
       "<Figure size 432x288 with 1 Axes>"
      ]
     },
     "metadata": {
      "needs_background": "light"
     },
     "output_type": "display_data"
    }
   ],
   "source": [
    "fig4 = sns.lineplot(data = profit_tab, x = \"Cum Prop of Number of Emails\", y = \"Profit\" , marker = 'o')\n",
    "\n",
    "plt.plot(profit_tab[\"Cum Prop of Number of Emails\"], profit_tab[\"Profit\"], label = 'line 1', linestyle = 'solid')\n",
    "plt.plot([0,1], [0,0], label = 'line 2', linestyle = 'dashed')"
   ]
  },
  {
   "cell_type": "code",
   "execution_count": 135,
   "metadata": {},
   "outputs": [],
   "source": [
    "intuit75k_test = intuit75k[intuit75k['training'] == 0]\n",
    "target_logit_df = intuit75k_df3[\"pred_logit\"] > breakeven"
   ]
  },
  {
   "cell_type": "code",
   "execution_count": 136,
   "metadata": {},
   "outputs": [
    {
     "data": {
      "text/plain": [
       "pred_logit  res1_yes\n",
       "False       0            6406\n",
       "            1             116\n",
       "True        0           14991\n",
       "            1             987\n",
       "Name: res1_yes, dtype: int64"
      ]
     },
     "execution_count": 136,
     "metadata": {},
     "output_type": "execute_result"
    }
   ],
   "source": [
    "intuit75k_df4 = intuit75k_df3.groupby(intuit75k[\"pred_logit\"] > breakeven)\n",
    "vvv2 = intuit75k_df4['res1_yes'].value_counts()\n",
    "vvv2"
   ]
  },
  {
   "cell_type": "code",
   "execution_count": null,
   "metadata": {},
   "outputs": [],
   "source": [
    "intuit75k_df3\n",
    "\n",
    "\n",
    "tuango[\"smsto_sq\"] = tuango.rfm_sq_resp > breakeven"
   ]
  },
  {
   "cell_type": "code",
   "execution_count": 137,
   "metadata": {},
   "outputs": [],
   "source": [
    "TP = vvv2[1][1]\n",
    "FP = vvv2[1][0]\n",
    "TN = vvv2[0][0]\n",
    "FN = vvv2[0][1]"
   ]
  },
  {
   "cell_type": "code",
   "execution_count": 138,
   "metadata": {},
   "outputs": [
    {
     "data": {
      "text/html": [
       "<div>\n",
       "<style scoped>\n",
       "    .dataframe tbody tr th:only-of-type {\n",
       "        vertical-align: middle;\n",
       "    }\n",
       "\n",
       "    .dataframe tbody tr th {\n",
       "        vertical-align: top;\n",
       "    }\n",
       "\n",
       "    .dataframe thead th {\n",
       "        text-align: right;\n",
       "    }\n",
       "</style>\n",
       "<table border=\"1\" class=\"dataframe\">\n",
       "  <thead>\n",
       "    <tr style=\"text-align: right;\">\n",
       "      <th></th>\n",
       "      <th>label</th>\n",
       "      <th>nr</th>\n",
       "    </tr>\n",
       "  </thead>\n",
       "  <tbody>\n",
       "    <tr>\n",
       "      <th>0</th>\n",
       "      <td>TP</td>\n",
       "      <td>987</td>\n",
       "    </tr>\n",
       "    <tr>\n",
       "      <th>1</th>\n",
       "      <td>FP</td>\n",
       "      <td>14991</td>\n",
       "    </tr>\n",
       "    <tr>\n",
       "      <th>2</th>\n",
       "      <td>TN</td>\n",
       "      <td>6406</td>\n",
       "    </tr>\n",
       "    <tr>\n",
       "      <th>3</th>\n",
       "      <td>FN</td>\n",
       "      <td>116</td>\n",
       "    </tr>\n",
       "  </tbody>\n",
       "</table>\n",
       "</div>"
      ],
      "text/plain": [
       "  label     nr\n",
       "0    TP    987\n",
       "1    FP  14991\n",
       "2    TN   6406\n",
       "3    FN    116"
      ]
     },
     "execution_count": 138,
     "metadata": {},
     "output_type": "execute_result"
    }
   ],
   "source": [
    "# confusion matrix 0.22% and 0.10% \n",
    "cm_logit = pd.DataFrame(\n",
    "    {\n",
    "        \"label\": [\"TP\", \"FP\", \"TN\", \"FN\"],\n",
    "        \"nr\": [TP, FP, TN, FN] # TP, FP, TN, and FN values in that order\n",
    "    }\n",
    ")\n",
    "cm_logit"
   ]
  },
  {
   "cell_type": "code",
   "execution_count": 139,
   "metadata": {},
   "outputs": [
    {
     "data": {
      "text/plain": [
       "0.3285777777777778"
      ]
     },
     "execution_count": 139,
     "metadata": {},
     "output_type": "execute_result"
    }
   ],
   "source": [
    "accuracy_logit = (TP + TN)/cm_logit['nr'].sum()# float\n",
    "accuracy_logit"
   ]
  },
  {
   "cell_type": "markdown",
   "metadata": {},
   "source": [
    "#### Confusion matrices\n",
    "\n",
    "After running the confusion matrix it is clear that the logit model has a high level of differentiation, knows how to target correctly and assign prediction based on this test. This model has a high prediction of True Positive (TP) values with 987, which means it detects quite sharp unfortunately it has a high production of False Positive (FP) values with 14991 which would end up rising the cost of resources (sending emails) of doing the marketting campaign."
   ]
  },
  {
   "cell_type": "code",
   "execution_count": 140,
   "metadata": {},
   "outputs": [
    {
     "data": {
      "text/plain": [
       "36691.020000000004"
      ]
     },
     "execution_count": 140,
     "metadata": {},
     "output_type": "execute_result"
    }
   ],
   "source": [
    "\n",
    "profit = (TP * margin) - (TP + FP) * 1.41\n",
    "profit"
   ]
  },
  {
   "cell_type": "markdown",
   "metadata": {},
   "source": [
    "#### Model Performance"
   ]
  },
  {
   "cell_type": "code",
   "execution_count": 141,
   "metadata": {},
   "outputs": [
    {
     "data": {
      "text/plain": [
       "False    47421\n",
       "True     27579\n",
       "Name: target_logit, dtype: int64"
      ]
     },
     "execution_count": 141,
     "metadata": {},
     "output_type": "execute_result"
    }
   ],
   "source": [
    "intuit75k[\"target_logit\"] = rsm.ifelse(intuit75k.pred_logit * 0.5 > breakeven, True, False)\n",
    "intuit75k[\"target_logit\"].value_counts()"
   ]
  },
  {
   "cell_type": "code",
   "execution_count": 142,
   "metadata": {
    "scrolled": true
   },
   "outputs": [
    {
     "data": {
      "text/plain": [
       "0    25212\n",
       "1     2367\n",
       "Name: res1_yes, dtype: int64"
      ]
     },
     "execution_count": 142,
     "metadata": {},
     "output_type": "execute_result"
    }
   ],
   "source": [
    "test_df1 = intuit75k[intuit75k[\"target_logit\"] == True]\n",
    "test_df1.res1_yes.value_counts()"
   ]
  },
  {
   "cell_type": "code",
   "execution_count": 143,
   "metadata": {},
   "outputs": [
    {
     "data": {
      "text/html": [
       "<div>\n",
       "<style scoped>\n",
       "    .dataframe tbody tr th:only-of-type {\n",
       "        vertical-align: middle;\n",
       "    }\n",
       "\n",
       "    .dataframe tbody tr th {\n",
       "        vertical-align: top;\n",
       "    }\n",
       "\n",
       "    .dataframe thead th {\n",
       "        text-align: right;\n",
       "    }\n",
       "</style>\n",
       "<table border=\"1\" class=\"dataframe\">\n",
       "  <thead>\n",
       "    <tr style=\"text-align: right;\">\n",
       "      <th></th>\n",
       "      <th>id</th>\n",
       "      <th>zip</th>\n",
       "      <th>zip_bins</th>\n",
       "      <th>sex</th>\n",
       "      <th>bizflag</th>\n",
       "      <th>numords</th>\n",
       "      <th>dollars</th>\n",
       "      <th>last</th>\n",
       "      <th>sincepurch</th>\n",
       "      <th>version1</th>\n",
       "      <th>...</th>\n",
       "      <th>freq_iq</th>\n",
       "      <th>mon_iq</th>\n",
       "      <th>rfm_iq</th>\n",
       "      <th>freq_sq</th>\n",
       "      <th>mon_sq</th>\n",
       "      <th>rfm_sq</th>\n",
       "      <th>pred_logit</th>\n",
       "      <th>deciles</th>\n",
       "      <th>dec_logit</th>\n",
       "      <th>target_logit</th>\n",
       "    </tr>\n",
       "  </thead>\n",
       "  <tbody>\n",
       "    <tr>\n",
       "      <th>1</th>\n",
       "      <td>2</td>\n",
       "      <td>53190</td>\n",
       "      <td>10</td>\n",
       "      <td>Unknown</td>\n",
       "      <td>0</td>\n",
       "      <td>1</td>\n",
       "      <td>69.5</td>\n",
       "      <td>4</td>\n",
       "      <td>3</td>\n",
       "      <td>0</td>\n",
       "      <td>...</td>\n",
       "      <td>5</td>\n",
       "      <td>3</td>\n",
       "      <td>153</td>\n",
       "      <td>5</td>\n",
       "      <td>2</td>\n",
       "      <td>152</td>\n",
       "      <td>0.032690</td>\n",
       "      <td>0.032690</td>\n",
       "      <td>6.0</td>\n",
       "      <td>False</td>\n",
       "    </tr>\n",
       "    <tr>\n",
       "      <th>2</th>\n",
       "      <td>3</td>\n",
       "      <td>37091</td>\n",
       "      <td>8</td>\n",
       "      <td>Male</td>\n",
       "      <td>0</td>\n",
       "      <td>4</td>\n",
       "      <td>93.0</td>\n",
       "      <td>14</td>\n",
       "      <td>29</td>\n",
       "      <td>0</td>\n",
       "      <td>...</td>\n",
       "      <td>1</td>\n",
       "      <td>2</td>\n",
       "      <td>312</td>\n",
       "      <td>1</td>\n",
       "      <td>5</td>\n",
       "      <td>315</td>\n",
       "      <td>0.124466</td>\n",
       "      <td>0.124466</td>\n",
       "      <td>1.0</td>\n",
       "      <td>True</td>\n",
       "    </tr>\n",
       "    <tr>\n",
       "      <th>4</th>\n",
       "      <td>5</td>\n",
       "      <td>60201</td>\n",
       "      <td>11</td>\n",
       "      <td>Male</td>\n",
       "      <td>0</td>\n",
       "      <td>1</td>\n",
       "      <td>24.5</td>\n",
       "      <td>2</td>\n",
       "      <td>3</td>\n",
       "      <td>0</td>\n",
       "      <td>...</td>\n",
       "      <td>5</td>\n",
       "      <td>5</td>\n",
       "      <td>155</td>\n",
       "      <td>5</td>\n",
       "      <td>4</td>\n",
       "      <td>154</td>\n",
       "      <td>0.033659</td>\n",
       "      <td>0.033659</td>\n",
       "      <td>6.0</td>\n",
       "      <td>False</td>\n",
       "    </tr>\n",
       "    <tr>\n",
       "      <th>6</th>\n",
       "      <td>7</td>\n",
       "      <td>22980</td>\n",
       "      <td>5</td>\n",
       "      <td>Male</td>\n",
       "      <td>0</td>\n",
       "      <td>1</td>\n",
       "      <td>49.5</td>\n",
       "      <td>13</td>\n",
       "      <td>36</td>\n",
       "      <td>1</td>\n",
       "      <td>...</td>\n",
       "      <td>5</td>\n",
       "      <td>4</td>\n",
       "      <td>254</td>\n",
       "      <td>5</td>\n",
       "      <td>2</td>\n",
       "      <td>252</td>\n",
       "      <td>0.061372</td>\n",
       "      <td>0.061372</td>\n",
       "      <td>3.0</td>\n",
       "      <td>True</td>\n",
       "    </tr>\n",
       "    <tr>\n",
       "      <th>8</th>\n",
       "      <td>9</td>\n",
       "      <td>34950</td>\n",
       "      <td>8</td>\n",
       "      <td>Male</td>\n",
       "      <td>0</td>\n",
       "      <td>1</td>\n",
       "      <td>44.5</td>\n",
       "      <td>15</td>\n",
       "      <td>4</td>\n",
       "      <td>0</td>\n",
       "      <td>...</td>\n",
       "      <td>5</td>\n",
       "      <td>4</td>\n",
       "      <td>354</td>\n",
       "      <td>5</td>\n",
       "      <td>3</td>\n",
       "      <td>353</td>\n",
       "      <td>0.023049</td>\n",
       "      <td>0.023049</td>\n",
       "      <td>8.0</td>\n",
       "      <td>False</td>\n",
       "    </tr>\n",
       "  </tbody>\n",
       "</table>\n",
       "<p>5 rows × 26 columns</p>\n",
       "</div>"
      ],
      "text/plain": [
       "   id    zip  zip_bins      sex  bizflag  numords  dollars  last  sincepurch  \\\n",
       "1   2  53190        10  Unknown        0        1     69.5     4           3   \n",
       "2   3  37091         8     Male        0        4     93.0    14          29   \n",
       "4   5  60201        11     Male        0        1     24.5     2           3   \n",
       "6   7  22980         5     Male        0        1     49.5    13          36   \n",
       "8   9  34950         8     Male        0        1     44.5    15           4   \n",
       "\n",
       "   version1  ...  freq_iq  mon_iq rfm_iq  freq_sq  mon_sq  rfm_sq  pred_logit  \\\n",
       "1         0  ...        5       3    153        5       2     152    0.032690   \n",
       "2         0  ...        1       2    312        1       5     315    0.124466   \n",
       "4         0  ...        5       5    155        5       4     154    0.033659   \n",
       "6         1  ...        5       4    254        5       2     252    0.061372   \n",
       "8         0  ...        5       4    354        5       3     353    0.023049   \n",
       "\n",
       "    deciles dec_logit  target_logit  \n",
       "1  0.032690       6.0         False  \n",
       "2  0.124466       1.0          True  \n",
       "4  0.033659       6.0         False  \n",
       "6  0.061372       3.0          True  \n",
       "8  0.023049       8.0         False  \n",
       "\n",
       "[5 rows x 26 columns]"
      ]
     },
     "execution_count": 143,
     "metadata": {},
     "output_type": "execute_result"
    }
   ],
   "source": [
    "intuit75k[intuit75k['training']==0].head()"
   ]
  },
  {
   "cell_type": "code",
   "execution_count": 205,
   "metadata": {},
   "outputs": [
    {
     "data": {
      "text/plain": [
       "35059.2"
      ]
     },
     "execution_count": 205,
     "metadata": {},
     "output_type": "execute_result"
    }
   ],
   "source": [
    "nr_emails_logit = len(test_df1)\n",
    "perc_emails_logit = len(test_df1)/len(intuit75k_df3)\n",
    "\n",
    "response_rate_logit = test_df1.res1_yes.value_counts(normalize = True)[1]\n",
    "nr_responses_logit = response_rate_logit*nr_emails_logit\n",
    "\n",
    "cost_email = len(test_df1)*cost\n",
    "revenue_logit = test_df1.res1_yes.value_counts()[1]*margin\n",
    "profit_logit = revenue_logit - cost_email\n",
    "\n",
    "ROME_logit = profit_logit/cost_email\n",
    "\n",
    "profit"
   ]
  },
  {
   "cell_type": "code",
   "execution_count": 206,
   "metadata": {},
   "outputs": [
    {
     "name": "stdout",
     "output_type": "stream",
     "text": [
      "Targetting Quickbooks with logit would email all 27,579 (122.57%) customers. The response rate for the selected customers is predicted to be 8.58% or 2,367\n",
      "buyers. The revenue is equal to $142,020. The expected profit is $35,059. The email cost is estimated to be $38,886 with a ROME of 265.22%\n"
     ]
    }
   ],
   "source": [
    "print(\n",
    "    f\"\"\"Targetting Quickbooks with logit would email all {int(nr_emails_logit):,} ({round((100 * perc_emails_logit), 2)}%) customers. The response rate for the selected customers is predicted to be {round((100 * response_rate_logit), 2)}% or {int(nr_responses_logit):,}\n",
    "buyers. The revenue is equal to ${int(revenue_logit):,}. The expected profit is ${int(profit):,}. The email cost is estimated to be ${int(cost_email):,} with a ROME of {round((100 * ROME_logit), 2)}%\"\"\"\n",
    ")"
   ]
  },
  {
   "cell_type": "code",
   "execution_count": 150,
   "metadata": {},
   "outputs": [
    {
     "data": {
      "text/plain": [
       "392964343.2"
      ]
     },
     "execution_count": 150,
     "metadata": {},
     "output_type": "execute_result"
    }
   ],
   "source": [
    "scale1 = round((100 * perc_emails_logit), 2)\n",
    "scale2 = round((100 * response_rate_logit), 2)\n",
    "tot_emails = 801821 - 38487\n",
    "total_cost = scale1*tot_emails*cost\n",
    "total_revenue = tot_emails*round((100 * response_rate_logit), 2)*margin\n",
    "total_revenue"
   ]
  },
  {
   "cell_type": "code",
   "execution_count": 177,
   "metadata": {},
   "outputs": [
    {
     "name": "stderr",
     "output_type": "stream",
     "text": [
      "No handles with labels found to put in legend.\n"
     ]
    },
    {
     "data": {
      "image/png": "[encoded data removed]",
      "text/plain": [
       "<Figure size 432x288 with 1 Axes>"
      ]
     },
     "metadata": {
      "needs_background": "light"
     },
     "output_type": "display_data"
    }
   ],
   "source": [
    "fig = rsm.gains_plot(intuit75k[intuit75k.training == 1], \"res1_yes\", 1, \"pred_logit\").legend(title=None)"
   ]
  },
  {
   "cell_type": "code",
   "execution_count": 152,
   "metadata": {},
   "outputs": [],
   "source": [
    "tpr = TP/(TP+FN)\n",
    "specificity = TN/(TN+FP)\n",
    "fpr = 1- specificity"
   ]
  },
  {
   "cell_type": "code",
   "execution_count": 156,
   "metadata": {},
   "outputs": [],
   "source": [
    "y = intuit75k.res1_yes\n",
    "y_prob = rsm.ifelse(intuit75k[\"pred_logit\"] * 0.5 > breakeven, 1 ,0)"
   ]
  },
  {
   "cell_type": "code",
   "execution_count": 157,
   "metadata": {},
   "outputs": [],
   "source": [
    "from sklearn import metrics\n",
    "\n",
    "fpr, tpr, thresholds = metrics.roc_curve(y, y_prob)"
   ]
  },
  {
   "cell_type": "code",
   "execution_count": 158,
   "metadata": {},
   "outputs": [],
   "source": [
    "auc = metrics.roc_auc_score(y, y_prob)"
   ]
  },
  {
   "cell_type": "code",
   "execution_count": 159,
   "metadata": {},
   "outputs": [
    {
     "data": {
      "image/png": "[encoded data removed]",
      "text/plain": [
       "<Figure size 432x288 with 1 Axes>"
      ]
     },
     "metadata": {
      "needs_background": "light"
     },
     "output_type": "display_data"
    }
   ],
   "source": [
    "plt.plot(fpr,tpr,label=\"AUC=\"+str(auc))\n",
    "plt.ylabel('True Positive Rate')\n",
    "plt.xlabel('False Positive Rate')\n",
    "plt.legend(loc=4)\n",
    "plt.show()"
   ]
  },
  {
   "cell_type": "code",
   "execution_count": 170,
   "metadata": {},
   "outputs": [
    {
     "data": {
      "text/plain": [
       "22500"
      ]
     },
     "execution_count": 170,
     "metadata": {},
     "output_type": "execute_result"
    }
   ],
   "source": [
    "len(intuit75k[intuit75k['training']==0])"
   ]
  },
  {
   "cell_type": "code",
   "execution_count": 176,
   "metadata": {},
   "outputs": [
    {
     "name": "stderr",
     "output_type": "stream",
     "text": [
      "C:\\Users\\Rohan\\AppData\\Local\\Temp/ipykernel_105448/3167277150.py:3: SettingWithCopyWarning: \n",
      "A value is trying to be set on a copy of a slice from a DataFrame.\n",
      "Try using .loc[row_indexer,col_indexer] = value instead\n",
      "\n",
      "See the caveats in the documentation: https://pandas.pydata.org/pandas-docs/stable/user_guide/indexing.html#returning-a-view-versus-a-copy\n",
      "  intuit75k_csv[\"target\"] = rsm.ifelse(intuit75k_csv[\"pred_logit\"] * 0.5 > breakeven, True ,False)\n"
     ]
    }
   ],
   "source": [
    "intuit75k_csv = intuit75k[intuit75k['training']==0]\n",
    "\n",
    "intuit75k_csv[\"target\"] = rsm.ifelse(intuit75k_csv[\"pred_logit\"] * 0.5 > breakeven, True ,False)\n"
   ]
  },
  {
   "cell_type": "code",
   "execution_count": 178,
   "metadata": {},
   "outputs": [],
   "source": [
    "intuit75k_csv[['id', 'target']].to_csv('Arnva_Akanksha_Renato_Rohan_Group24.csv')"
   ]
  },
  {
   "cell_type": "markdown",
   "metadata": {},
   "source": [
    " After running analysis on the data, we find the response rate, expected revenue and profit for the three scenarios: \n",
    "\n",
    "- Targetting Quickbooks with logit would email all 15,978 (71.01%) customers. The response rate for the selected customers is predicted to be 6.18% or 987\n",
    "buyers. The revenue is equal to 59,220. The expected profit is 36,691. The email cost is estimated to be 22,528 with a ROME of 162.86%\n",
    "\n",
    "We can observe that with the Logistic Regression approach we are able to narrow down our targetted number of customers, reducing the amount of emails to be sent and therefore allowing us to increase the expected profit compared to the RFM model. Which when scalable to do a bigger marketing campaign, like the projected 763,334 customers to be targetted in the second-wave, we would get more profit."
   ]
  },
  {
   "cell_type": "markdown",
   "metadata": {},
   "source": [
    "### Neural Networks"
   ]
  },
  {
   "cell_type": "markdown",
   "metadata": {},
   "source": [
    "Our RFM and Logistic models have given us some promosing results. In order to better evaluate our mailing prediction, we will use neural networks and build a model accordingly to come up with potential profit. \n",
    "\n",
    "Neural Networks usually consist of two major hyperparameters that controls its architecture : The number of layers and the numbers of nodes in each hidden layers."
   ]
  },
  {
   "cell_type": "code",
   "execution_count": 179,
   "metadata": {},
   "outputs": [],
   "source": [
    "def nn(X, y, hlsizes=(1,), max_iter=1000):\n",
    "    return MLPClassifier(\n",
    "        activation=\"tanh\",\n",
    "        solver=\"lbfgs\",\n",
    "        hidden_layer_sizes=hlsizes,\n",
    "        random_state=1234,\n",
    "        max_iter=max_iter,\n",
    "    ).fit(X, y)\n",
    "\n",
    "\n",
    "def importance(clf, X, y, cn):\n",
    "    imp = permutation_importance(\n",
    "        clf, X, y, scoring=\"roc_auc\", n_repeats=10, random_state=1234\n",
    "    )\n",
    "    data = pd.DataFrame(imp.importances.T)\n",
    "    data.columns = cn\n",
    "    order = data.agg(\"mean\").sort_values(ascending=False).index\n",
    "    fig = sns.barplot(\n",
    "        x=\"value\", y=\"variable\", color=\"slateblue\", data=pd.melt(data[order])\n",
    "    )\n",
    "    fig.set(title=\"Permutation Importances\", xlabel=None, ylabel=None)\n",
    "    return fig"
   ]
  },
  {
   "cell_type": "code",
   "execution_count": 180,
   "metadata": {},
   "outputs": [],
   "source": [
    "X = intuit75k.copy()"
   ]
  },
  {
   "cell_type": "markdown",
   "metadata": {},
   "source": [
    "In order to make our modelling feasible, we factorised two of our significant variables \"sex\"  and \"res1\"."
   ]
  },
  {
   "cell_type": "code",
   "execution_count": 181,
   "metadata": {},
   "outputs": [],
   "source": [
    "X['sex'],_ = X['sex'].factorize()\n",
    "X['res1'],_ = X['res1'].factorize()"
   ]
  },
  {
   "cell_type": "markdown",
   "metadata": {},
   "source": [
    "The 'X_NEW' dataframe contains all the information relevant to the significant variables mentioned below. These response variables were also used in making our logistic model and gave us the optimal result."
   ]
  },
  {
   "cell_type": "code",
   "execution_count": 182,
   "metadata": {},
   "outputs": [],
   "source": [
    "X_NEW = X[['zip_bins','numords', 'last', 'version1', 'owntaxprod' , 'upgraded']].copy()\n",
    "y = intuit75k.res1_yes"
   ]
  },
  {
   "cell_type": "markdown",
   "metadata": {},
   "source": [
    "After thorough analysis, we came up with the appropriate number of nodes and hidden layers. The right combination which we decided to work on was 7 nodes and 9 hidden layers. These hyperparameters gave us the appropriate amount of profit. Adding more modes and hidden layers adds felxibilty to our model. This helped us in fitting the training data."
   ]
  },
  {
   "cell_type": "code",
   "execution_count": 186,
   "metadata": {
    "scrolled": true
   },
   "outputs": [
    {
     "name": "stderr",
     "output_type": "stream",
     "text": [
      "C:\\ProgramData\\Anaconda3\\lib\\site-packages\\sklearn\\neural_network\\_multilayer_perceptron.py:500: ConvergenceWarning: lbfgs failed to converge (status=1):\n",
      "STOP: TOTAL NO. of ITERATIONS REACHED LIMIT.\n",
      "\n",
      "Increase the number of iterations (max_iter) or scale the data as shown in:\n",
      "    https://scikit-learn.org/stable/modules/preprocessing.html\n",
      "  self.n_iter_ = _check_optimize_result(\"lbfgs\", opt_res, self.max_iter)\n"
     ]
    },
    {
     "data": {
      "image/png": "[encoded data removed]",
      "text/plain": [
       "<Figure size 432x288 with 1 Axes>"
      ]
     },
     "metadata": {
      "needs_background": "light"
     },
     "output_type": "display_data"
    }
   ],
   "source": [
    "clf = nn(X_NEW[intuit75k.training == 1], y[intuit75k.training == 1], (6,3))\n",
    "intuit75k[\"pred_nn1\"] = clf.predict_proba(X_NEW)[:, 1]  # predicting for the full dataset\n",
    "fig = importance(clf, X_NEW[intuit75k.training == 1], y[intuit75k.training == 1], X_NEW.columns)"
   ]
  },
  {
   "cell_type": "markdown",
   "metadata": {},
   "source": [
    "As we can observe in the above figure, the permutation importances for all the explanatory variables are given in the descending order. 'zip_bins' have the highest importance."
   ]
  },
  {
   "cell_type": "code",
   "execution_count": 190,
   "metadata": {
    "scrolled": true
   },
   "outputs": [
    {
     "data": {
      "text/plain": [
       "pred_nn1  res1_yes\n",
       "False     0           15263\n",
       "          1             357\n",
       "True      0            6134\n",
       "          1             746\n",
       "Name: res1_yes, dtype: int64"
      ]
     },
     "execution_count": 190,
     "metadata": {},
     "output_type": "execute_result"
    }
   ],
   "source": [
    "test_df2 = intuit75k[intuit75k['training'] == 0]\n",
    "test_df3 = test_df2.groupby(intuit75k[\"pred_nn1\"] * 0.5 > breakeven)\n",
    "vvv2 = test_df3['res1_yes'].value_counts()\n",
    "test_df3['res1_yes'].value_counts()"
   ]
  },
  {
   "cell_type": "markdown",
   "metadata": {},
   "source": [
    "The above code was executed in order to find TP, FP, TN, FN. These variables will further be used to create a confusion matrix for the calculation of profit."
   ]
  },
  {
   "cell_type": "code",
   "execution_count": 191,
   "metadata": {},
   "outputs": [],
   "source": [
    "TP = vvv2[1][1]\n",
    "FP = vvv2[1][0]\n",
    "TN = vvv2[0][0]\n",
    "FN = vvv2[0][1]"
   ]
  },
  {
   "cell_type": "code",
   "execution_count": 192,
   "metadata": {},
   "outputs": [
    {
     "data": {
      "text/html": [
       "<div>\n",
       "<style scoped>\n",
       "    .dataframe tbody tr th:only-of-type {\n",
       "        vertical-align: middle;\n",
       "    }\n",
       "\n",
       "    .dataframe tbody tr th {\n",
       "        vertical-align: top;\n",
       "    }\n",
       "\n",
       "    .dataframe thead th {\n",
       "        text-align: right;\n",
       "    }\n",
       "</style>\n",
       "<table border=\"1\" class=\"dataframe\">\n",
       "  <thead>\n",
       "    <tr style=\"text-align: right;\">\n",
       "      <th></th>\n",
       "      <th>label</th>\n",
       "      <th>nr</th>\n",
       "    </tr>\n",
       "  </thead>\n",
       "  <tbody>\n",
       "    <tr>\n",
       "      <th>0</th>\n",
       "      <td>TP</td>\n",
       "      <td>746</td>\n",
       "    </tr>\n",
       "    <tr>\n",
       "      <th>1</th>\n",
       "      <td>FP</td>\n",
       "      <td>6134</td>\n",
       "    </tr>\n",
       "    <tr>\n",
       "      <th>2</th>\n",
       "      <td>TN</td>\n",
       "      <td>15263</td>\n",
       "    </tr>\n",
       "    <tr>\n",
       "      <th>3</th>\n",
       "      <td>FN</td>\n",
       "      <td>357</td>\n",
       "    </tr>\n",
       "  </tbody>\n",
       "</table>\n",
       "</div>"
      ],
      "text/plain": [
       "  label     nr\n",
       "0    TP    746\n",
       "1    FP   6134\n",
       "2    TN  15263\n",
       "3    FN    357"
      ]
     },
     "execution_count": 192,
     "metadata": {},
     "output_type": "execute_result"
    }
   ],
   "source": [
    "# confusion matrix\n",
    "cm_logit_recalc = pd.DataFrame(\n",
    "    {\n",
    "        \"label\": [\"TP\", \"FP\", \"TN\", \"FN\"],\n",
    "        \"nr\": [TP, FP, TN, FN]# TP, FP, TN, and FN values in that order\n",
    "    }\n",
    ")\n",
    "\n",
    "cm_logit_recalc"
   ]
  },
  {
   "cell_type": "code",
   "execution_count": 193,
   "metadata": {},
   "outputs": [
    {
     "data": {
      "text/plain": [
       "0.7115111111111111"
      ]
     },
     "execution_count": 193,
     "metadata": {},
     "output_type": "execute_result"
    }
   ],
   "source": [
    "accuracy_logit_recalc = (TP + TN)/cm_logit_recalc['nr'].sum()# float\n",
    "accuracy_logit_recalc"
   ]
  },
  {
   "cell_type": "markdown",
   "metadata": {},
   "source": [
    "The accuracy for our neural network model was calculated and it came out to be approximately 72.4%. Accuracy is truely not the right metric to measure the effectiveness of our model. This is because, in terms of business, we want to focus on metrics like profit which is usually computed using True Positives: Users whom the model predicted to send the mail and they were send. But at the same time, as we can observe, our False Positives are also very high which means that our model predicted to send mail to those users who were not supposed to be mails. This would likely result in incurring high amount of cost without any revenue from this cohort."
   ]
  },
  {
   "cell_type": "code",
   "execution_count": 194,
   "metadata": {},
   "outputs": [
    {
     "data": {
      "text/plain": [
       "35059.2"
      ]
     },
     "execution_count": 194,
     "metadata": {},
     "output_type": "execute_result"
    }
   ],
   "source": [
    "profit = (TP * margin) - (TP + FP) * 1.41\n",
    "profit"
   ]
  },
  {
   "cell_type": "markdown",
   "metadata": {},
   "source": [
    "The profit for our neural netwrok model comes out to be 35059.2 USD."
   ]
  },
  {
   "cell_type": "code",
   "execution_count": 195,
   "metadata": {},
   "outputs": [],
   "source": [
    "tpr = TP/(TP+FN)\n",
    "specificity = TN/(TN+FP)\n",
    "fpr = 1- specificity"
   ]
  },
  {
   "cell_type": "code",
   "execution_count": 196,
   "metadata": {},
   "outputs": [
    {
     "data": {
      "text/plain": [
       "(0.6763372620126926, 0.28667570220124317)"
      ]
     },
     "execution_count": 196,
     "metadata": {},
     "output_type": "execute_result"
    }
   ],
   "source": [
    "tpr, fpr"
   ]
  },
  {
   "cell_type": "code",
   "execution_count": 197,
   "metadata": {},
   "outputs": [],
   "source": [
    "y_prob = rsm.ifelse(intuit75k[\"pred_nn1\"] * 0.5 > breakeven, 1 ,0)"
   ]
  },
  {
   "cell_type": "code",
   "execution_count": 198,
   "metadata": {},
   "outputs": [],
   "source": [
    "from sklearn import metrics\n",
    "\n",
    "fpr, tpr, thresholds = metrics.roc_curve(y, y_prob)"
   ]
  },
  {
   "cell_type": "code",
   "execution_count": 199,
   "metadata": {},
   "outputs": [],
   "source": [
    "auc = metrics.roc_auc_score(y, y_prob)"
   ]
  },
  {
   "cell_type": "code",
   "execution_count": 200,
   "metadata": {},
   "outputs": [
    {
     "data": {
      "image/png": "[encoded data removed]",
      "text/plain": [
       "<Figure size 432x288 with 1 Axes>"
      ]
     },
     "metadata": {
      "needs_background": "light"
     },
     "output_type": "display_data"
    }
   ],
   "source": [
    "plt.plot(fpr,tpr,label=\"AUC=\"+str(auc))\n",
    "plt.ylabel('True Positive Rate')\n",
    "plt.xlabel('False Positive Rate')\n",
    "plt.legend(loc=4)\n",
    "plt.show()"
   ]
  },
  {
   "cell_type": "code",
   "execution_count": 201,
   "metadata": {},
   "outputs": [
    {
     "name": "stderr",
     "output_type": "stream",
     "text": [
      "No handles with labels found to put in legend.\n"
     ]
    },
    {
     "data": {
      "image/png": "[encoded data removed]",
      "text/plain": [
       "<Figure size 432x288 with 1 Axes>"
      ]
     },
     "metadata": {
      "needs_background": "light"
     },
     "output_type": "display_data"
    }
   ],
   "source": [
    "fig = rsm.gains_plot(intuit75k[intuit75k.training == 1], \"res1_yes\", 1, \"pred_nn1\").legend(title=None)"
   ]
  },
  {
   "cell_type": "code",
   "execution_count": null,
   "metadata": {},
   "outputs": [],
   "source": [
    "#END "
   ]
  }
 ],
 "metadata": {
  "kernelspec": {
   "display_name": "Python 3 (ipykernel)",
   "language": "python",
   "name": "python3"
  },
  "language_info": {
   "codemirror_mode": {
    "name": "ipython",
    "version": 3
   },
   "file_extension": ".py",
   "mimetype": "text/x-python",
   "name": "python",
   "nbconvert_exporter": "python",
   "pygments_lexer": "ipython3",
   "version": "3.9.7"
  }
 },
 "nbformat": 4,
 "nbformat_minor": 4
}
